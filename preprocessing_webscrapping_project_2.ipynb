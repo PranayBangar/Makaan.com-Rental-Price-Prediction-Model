{
 "cells": [
  {
   "cell_type": "code",
   "execution_count": 1,
   "id": "60302b76",
   "metadata": {},
   "outputs": [],
   "source": [
    "import pandas as pd"
   ]
  },
  {
   "cell_type": "code",
   "execution_count": 2,
   "id": "4dfcf15e",
   "metadata": {},
   "outputs": [],
   "source": [
    "df = pd.read_csv(\"mumbai_rental_properties_with_amenities_main_file_10k.csv\")"
   ]
  },
  {
   "cell_type": "code",
   "execution_count": 3,
   "id": "e25d89ce",
   "metadata": {
    "scrolled": true
   },
   "outputs": [
    {
     "data": {
      "text/html": [
       "<div>\n",
       "<style scoped>\n",
       "    .dataframe tbody tr th:only-of-type {\n",
       "        vertical-align: middle;\n",
       "    }\n",
       "\n",
       "    .dataframe tbody tr th {\n",
       "        vertical-align: top;\n",
       "    }\n",
       "\n",
       "    .dataframe thead th {\n",
       "        text-align: right;\n",
       "    }\n",
       "</style>\n",
       "<table border=\"1\" class=\"dataframe\">\n",
       "  <thead>\n",
       "    <tr style=\"text-align: right;\">\n",
       "      <th></th>\n",
       "      <th>Facing</th>\n",
       "      <th>Square Feet</th>\n",
       "      <th>BHK Apartment</th>\n",
       "      <th>Price</th>\n",
       "      <th>Furnish Status</th>\n",
       "      <th>Deposit Status</th>\n",
       "      <th>Bathroom Count</th>\n",
       "      <th>Location</th>\n",
       "      <th>Amenities</th>\n",
       "    </tr>\n",
       "  </thead>\n",
       "  <tbody>\n",
       "    <tr>\n",
       "      <th>0</th>\n",
       "      <td>NaN</td>\n",
       "      <td>1180</td>\n",
       "      <td>2 BHK Apartment</td>\n",
       "      <td>19000</td>\n",
       "      <td>Furnished</td>\n",
       "      <td>No Deposit</td>\n",
       "      <td>2 bathrooms</td>\n",
       "      <td>Ulwe, Mumbai</td>\n",
       "      <td>Swimming Pool, Lift(s), 24 X 7 Security, Staff...</td>\n",
       "    </tr>\n",
       "    <tr>\n",
       "      <th>1</th>\n",
       "      <td>NaN</td>\n",
       "      <td>1120</td>\n",
       "      <td>2 BHK Apartment</td>\n",
       "      <td>12500</td>\n",
       "      <td>Unfurnished</td>\n",
       "      <td>No Deposit</td>\n",
       "      <td>2 bathrooms</td>\n",
       "      <td>Ulwe, Mumbai</td>\n",
       "      <td>Lift(s), Full Power Backup, 24 X 7 Security, C...</td>\n",
       "    </tr>\n",
       "    <tr>\n",
       "      <th>2</th>\n",
       "      <td>NaN</td>\n",
       "      <td>750</td>\n",
       "      <td>2 BHK Apartment</td>\n",
       "      <td>28500</td>\n",
       "      <td>Unfurnished</td>\n",
       "      <td>No Deposit</td>\n",
       "      <td>2 bathrooms</td>\n",
       "      <td>Kandivali West, Mumbai</td>\n",
       "      <td>Lift(s), Full Power Backup, 24 X 7 Security, C...</td>\n",
       "    </tr>\n",
       "    <tr>\n",
       "      <th>3</th>\n",
       "      <td>East facing</td>\n",
       "      <td>1400</td>\n",
       "      <td>3 BHK Apartment</td>\n",
       "      <td>50000</td>\n",
       "      <td>Semi-Furnished</td>\n",
       "      <td>No Deposit</td>\n",
       "      <td>3 bathrooms</td>\n",
       "      <td>Chembur, Mumbai</td>\n",
       "      <td>Gymnasium, Lift(s), Intercom, Sports Facility,...</td>\n",
       "    </tr>\n",
       "    <tr>\n",
       "      <th>4</th>\n",
       "      <td>East facing</td>\n",
       "      <td>450</td>\n",
       "      <td>1 RK Studio Apartment</td>\n",
       "      <td>3000</td>\n",
       "      <td>Unfurnished</td>\n",
       "      <td>No Deposit</td>\n",
       "      <td>1 bathrooms</td>\n",
       "      <td>Badlapur East, Mumbai</td>\n",
       "      <td>Car Parking, Multipurpose Room, Sports Facilit...</td>\n",
       "    </tr>\n",
       "  </tbody>\n",
       "</table>\n",
       "</div>"
      ],
      "text/plain": [
       "        Facing  Square Feet          BHK Apartment  Price  Furnish Status  \\\n",
       "0          NaN         1180        2 BHK Apartment  19000       Furnished   \n",
       "1          NaN         1120        2 BHK Apartment  12500     Unfurnished   \n",
       "2          NaN          750        2 BHK Apartment  28500     Unfurnished   \n",
       "3  East facing         1400        3 BHK Apartment  50000  Semi-Furnished   \n",
       "4  East facing          450  1 RK Studio Apartment   3000     Unfurnished   \n",
       "\n",
       "  Deposit Status Bathroom Count                Location  \\\n",
       "0     No Deposit    2 bathrooms            Ulwe, Mumbai   \n",
       "1     No Deposit    2 bathrooms            Ulwe, Mumbai   \n",
       "2     No Deposit    2 bathrooms  Kandivali West, Mumbai   \n",
       "3     No Deposit    3 bathrooms         Chembur, Mumbai   \n",
       "4     No Deposit    1 bathrooms   Badlapur East, Mumbai   \n",
       "\n",
       "                                           Amenities  \n",
       "0  Swimming Pool, Lift(s), 24 X 7 Security, Staff...  \n",
       "1  Lift(s), Full Power Backup, 24 X 7 Security, C...  \n",
       "2  Lift(s), Full Power Backup, 24 X 7 Security, C...  \n",
       "3  Gymnasium, Lift(s), Intercom, Sports Facility,...  \n",
       "4  Car Parking, Multipurpose Room, Sports Facilit...  "
      ]
     },
     "execution_count": 3,
     "metadata": {},
     "output_type": "execute_result"
    }
   ],
   "source": [
    "df.head()"
   ]
  },
  {
   "cell_type": "code",
   "execution_count": 4,
   "id": "817eb05e",
   "metadata": {},
   "outputs": [
    {
     "data": {
      "text/html": [
       "<div>\n",
       "<style scoped>\n",
       "    .dataframe tbody tr th:only-of-type {\n",
       "        vertical-align: middle;\n",
       "    }\n",
       "\n",
       "    .dataframe tbody tr th {\n",
       "        vertical-align: top;\n",
       "    }\n",
       "\n",
       "    .dataframe thead th {\n",
       "        text-align: right;\n",
       "    }\n",
       "</style>\n",
       "<table border=\"1\" class=\"dataframe\">\n",
       "  <thead>\n",
       "    <tr style=\"text-align: right;\">\n",
       "      <th></th>\n",
       "      <th>Facing</th>\n",
       "      <th>Square Feet</th>\n",
       "      <th>BHK Apartment</th>\n",
       "      <th>Price</th>\n",
       "      <th>Furnish Status</th>\n",
       "      <th>Deposit Status</th>\n",
       "      <th>Bathroom Count</th>\n",
       "      <th>Location</th>\n",
       "      <th>Amenities</th>\n",
       "    </tr>\n",
       "  </thead>\n",
       "  <tbody>\n",
       "    <tr>\n",
       "      <th>0</th>\n",
       "      <td>NaN</td>\n",
       "      <td>1180</td>\n",
       "      <td>2 BHK Apartment</td>\n",
       "      <td>19000</td>\n",
       "      <td>Furnished</td>\n",
       "      <td>No Deposit</td>\n",
       "      <td>2 bathrooms</td>\n",
       "      <td>Ulwe, Mumbai</td>\n",
       "      <td>Swimming Pool, Lift(s), 24 X 7 Security, Staff...</td>\n",
       "    </tr>\n",
       "    <tr>\n",
       "      <th>1</th>\n",
       "      <td>NaN</td>\n",
       "      <td>1120</td>\n",
       "      <td>2 BHK Apartment</td>\n",
       "      <td>12500</td>\n",
       "      <td>Unfurnished</td>\n",
       "      <td>No Deposit</td>\n",
       "      <td>2 bathrooms</td>\n",
       "      <td>Ulwe, Mumbai</td>\n",
       "      <td>Lift(s), Full Power Backup, 24 X 7 Security, C...</td>\n",
       "    </tr>\n",
       "    <tr>\n",
       "      <th>2</th>\n",
       "      <td>NaN</td>\n",
       "      <td>750</td>\n",
       "      <td>2 BHK Apartment</td>\n",
       "      <td>28500</td>\n",
       "      <td>Unfurnished</td>\n",
       "      <td>No Deposit</td>\n",
       "      <td>2 bathrooms</td>\n",
       "      <td>Kandivali West, Mumbai</td>\n",
       "      <td>Lift(s), Full Power Backup, 24 X 7 Security, C...</td>\n",
       "    </tr>\n",
       "    <tr>\n",
       "      <th>3</th>\n",
       "      <td>East facing</td>\n",
       "      <td>1400</td>\n",
       "      <td>3 BHK Apartment</td>\n",
       "      <td>50000</td>\n",
       "      <td>Semi-Furnished</td>\n",
       "      <td>No Deposit</td>\n",
       "      <td>3 bathrooms</td>\n",
       "      <td>Chembur, Mumbai</td>\n",
       "      <td>Gymnasium, Lift(s), Intercom, Sports Facility,...</td>\n",
       "    </tr>\n",
       "    <tr>\n",
       "      <th>4</th>\n",
       "      <td>East facing</td>\n",
       "      <td>450</td>\n",
       "      <td>1 RK Studio Apartment</td>\n",
       "      <td>3000</td>\n",
       "      <td>Unfurnished</td>\n",
       "      <td>No Deposit</td>\n",
       "      <td>1 bathrooms</td>\n",
       "      <td>Badlapur East, Mumbai</td>\n",
       "      <td>Car Parking, Multipurpose Room, Sports Facilit...</td>\n",
       "    </tr>\n",
       "    <tr>\n",
       "      <th>...</th>\n",
       "      <td>...</td>\n",
       "      <td>...</td>\n",
       "      <td>...</td>\n",
       "      <td>...</td>\n",
       "      <td>...</td>\n",
       "      <td>...</td>\n",
       "      <td>...</td>\n",
       "      <td>...</td>\n",
       "      <td>...</td>\n",
       "    </tr>\n",
       "    <tr>\n",
       "      <th>10399</th>\n",
       "      <td>NaN</td>\n",
       "      <td>650</td>\n",
       "      <td>1 BHK Apartment</td>\n",
       "      <td>16000</td>\n",
       "      <td>Unfurnished</td>\n",
       "      <td>45,000 deposit</td>\n",
       "      <td>1 bathrooms</td>\n",
       "      <td>Ghansoli, Mumbai</td>\n",
       "      <td>Indoor Games, ATM, Maintenance Staff, Hospital...</td>\n",
       "    </tr>\n",
       "    <tr>\n",
       "      <th>10400</th>\n",
       "      <td>NaN</td>\n",
       "      <td>687</td>\n",
       "      <td>1 BHK Apartment</td>\n",
       "      <td>39000</td>\n",
       "      <td>Furnished</td>\n",
       "      <td>1.25 L deposit</td>\n",
       "      <td>2 bathrooms</td>\n",
       "      <td>Ghansoli, Mumbai</td>\n",
       "      <td>Maintenance Staff, ATM, Intercom, Lift(s), Gol...</td>\n",
       "    </tr>\n",
       "    <tr>\n",
       "      <th>10401</th>\n",
       "      <td>NaN</td>\n",
       "      <td>680</td>\n",
       "      <td>1 BHK Apartment</td>\n",
       "      <td>18000</td>\n",
       "      <td>Unfurnished</td>\n",
       "      <td>55,000 deposit</td>\n",
       "      <td>1 bathrooms</td>\n",
       "      <td>Ghansoli, Mumbai</td>\n",
       "      <td>Indoor Games, ATM, Lift(s), Full Power Backup,...</td>\n",
       "    </tr>\n",
       "    <tr>\n",
       "      <th>10402</th>\n",
       "      <td>NaN</td>\n",
       "      <td>1250</td>\n",
       "      <td>2 BHK Apartment</td>\n",
       "      <td>33500</td>\n",
       "      <td>Furnished</td>\n",
       "      <td>No Deposit</td>\n",
       "      <td>2 bathrooms</td>\n",
       "      <td>Ghansoli, Mumbai</td>\n",
       "      <td>Jogging Track, Car Parking, Vaastu Compliant, ...</td>\n",
       "    </tr>\n",
       "    <tr>\n",
       "      <th>10403</th>\n",
       "      <td>NaN</td>\n",
       "      <td>1200</td>\n",
       "      <td>2 BHK Apartment</td>\n",
       "      <td>35000</td>\n",
       "      <td>Furnished</td>\n",
       "      <td>No Deposit</td>\n",
       "      <td>3 bathrooms</td>\n",
       "      <td>Ghansoli, Mumbai</td>\n",
       "      <td>ATM, Lift(s), Indoor Games, Full Power Backup,...</td>\n",
       "    </tr>\n",
       "  </tbody>\n",
       "</table>\n",
       "<p>10404 rows × 9 columns</p>\n",
       "</div>"
      ],
      "text/plain": [
       "            Facing  Square Feet          BHK Apartment  Price  Furnish Status  \\\n",
       "0              NaN         1180        2 BHK Apartment  19000       Furnished   \n",
       "1              NaN         1120        2 BHK Apartment  12500     Unfurnished   \n",
       "2              NaN          750        2 BHK Apartment  28500     Unfurnished   \n",
       "3      East facing         1400        3 BHK Apartment  50000  Semi-Furnished   \n",
       "4      East facing          450  1 RK Studio Apartment   3000     Unfurnished   \n",
       "...            ...          ...                    ...    ...             ...   \n",
       "10399          NaN          650        1 BHK Apartment  16000     Unfurnished   \n",
       "10400          NaN          687        1 BHK Apartment  39000       Furnished   \n",
       "10401          NaN          680        1 BHK Apartment  18000     Unfurnished   \n",
       "10402          NaN         1250        2 BHK Apartment  33500       Furnished   \n",
       "10403          NaN         1200        2 BHK Apartment  35000       Furnished   \n",
       "\n",
       "       Deposit Status Bathroom Count                Location  \\\n",
       "0          No Deposit    2 bathrooms            Ulwe, Mumbai   \n",
       "1          No Deposit    2 bathrooms            Ulwe, Mumbai   \n",
       "2          No Deposit    2 bathrooms  Kandivali West, Mumbai   \n",
       "3          No Deposit    3 bathrooms         Chembur, Mumbai   \n",
       "4          No Deposit    1 bathrooms   Badlapur East, Mumbai   \n",
       "...               ...            ...                     ...   \n",
       "10399  45,000 deposit    1 bathrooms        Ghansoli, Mumbai   \n",
       "10400  1.25 L deposit    2 bathrooms        Ghansoli, Mumbai   \n",
       "10401  55,000 deposit    1 bathrooms        Ghansoli, Mumbai   \n",
       "10402      No Deposit    2 bathrooms        Ghansoli, Mumbai   \n",
       "10403      No Deposit    3 bathrooms        Ghansoli, Mumbai   \n",
       "\n",
       "                                               Amenities  \n",
       "0      Swimming Pool, Lift(s), 24 X 7 Security, Staff...  \n",
       "1      Lift(s), Full Power Backup, 24 X 7 Security, C...  \n",
       "2      Lift(s), Full Power Backup, 24 X 7 Security, C...  \n",
       "3      Gymnasium, Lift(s), Intercom, Sports Facility,...  \n",
       "4      Car Parking, Multipurpose Room, Sports Facilit...  \n",
       "...                                                  ...  \n",
       "10399  Indoor Games, ATM, Maintenance Staff, Hospital...  \n",
       "10400  Maintenance Staff, ATM, Intercom, Lift(s), Gol...  \n",
       "10401  Indoor Games, ATM, Lift(s), Full Power Backup,...  \n",
       "10402  Jogging Track, Car Parking, Vaastu Compliant, ...  \n",
       "10403  ATM, Lift(s), Indoor Games, Full Power Backup,...  \n",
       "\n",
       "[10404 rows x 9 columns]"
      ]
     },
     "execution_count": 4,
     "metadata": {},
     "output_type": "execute_result"
    }
   ],
   "source": [
    "df"
   ]
  },
  {
   "cell_type": "code",
   "execution_count": 5,
   "id": "85eab734",
   "metadata": {},
   "outputs": [
    {
     "name": "stdout",
     "output_type": "stream",
     "text": [
      "           Facing  Square Feet    BHK Apartment   Price  Furnish Status  \\\n",
      "2392          NaN          585  1 BHK Apartment    5000  Semi-Furnished   \n",
      "2605  East facing         1380  3 BHK Apartment   57000     Unfurnished   \n",
      "3055          NaN          980  2 BHK Apartment   11000  Semi-Furnished   \n",
      "3698          NaN          345  1 BHK Apartment    6000  Semi-Furnished   \n",
      "3716  East facing         1200  1 BHK Apartment   17000       Furnished   \n",
      "5237          NaN         1010  2 BHK Apartment   26000  Semi-Furnished   \n",
      "6100          NaN         1550  3 BHK Apartment  130000       Furnished   \n",
      "6202          NaN          610  1 BHK Apartment    6500  Semi-Furnished   \n",
      "6764          NaN         1100  2 BHK Apartment   48000       Furnished   \n",
      "6765          NaN         1515  3 BHK Apartment   90000       Furnished   \n",
      "7333          NaN          450  1 BHK Apartment   22000     Unfurnished   \n",
      "7747          NaN          450  1 BHK Apartment   18000     Unfurnished   \n",
      "7766          NaN          580  1 BHK Apartment   30000     Unfurnished   \n",
      "8537          NaN         1300  2 BHK Apartment   23000  Semi-Furnished   \n",
      "8825  East facing         1075  2 BHK Apartment   55000       Furnished   \n",
      "9038          NaN          375  1 BHK Apartment    8000       Furnished   \n",
      "9197          NaN          425  1 BHK Apartment   15000  Semi-Furnished   \n",
      "9198          NaN          425  1 BHK Apartment   12000     Unfurnished   \n",
      "9204          NaN          645  1 BHK Apartment   30000       Furnished   \n",
      "9213          NaN         1584  3 BHK Apartment   45000  Semi-Furnished   \n",
      "9332          NaN          580  1 BHK Apartment   15000     Unfurnished   \n",
      "9478          NaN          945  2 BHK Apartment   45000       Furnished   \n",
      "9560          NaN          480  1 BHK Apartment   21000  Semi-Furnished   \n",
      "9662          NaN         1200  3 BHK Apartment   75000       Furnished   \n",
      "9750          NaN          750  2 BHK Apartment   33000  Semi-Furnished   \n",
      "9927          NaN         1120  2 BHK Apartment   37000     Unfurnished   \n",
      "\n",
      "      Deposit Status Bathroom Count               Location  \\\n",
      "2392      No Deposit            NaN         Boisar, Mumbai   \n",
      "2605      No Deposit            NaN   Bhandup West, Mumbai   \n",
      "3055      No Deposit            NaN          Virar, Mumbai   \n",
      "3698      No Deposit            NaN   Andheri West, Mumbai   \n",
      "3716      No Deposit            NaN    Kalyan West, Mumbai   \n",
      "5237     1 L deposit            NaN       Kharghar, Mumbai   \n",
      "6100     4 L deposit            NaN   Andheri West, Mumbai   \n",
      "6202      No Deposit            NaN          Virar, Mumbai   \n",
      "6764      No Deposit            NaN     Kurla West, Mumbai   \n",
      "6765      No Deposit            NaN          Kurla, Mumbai   \n",
      "7333  75,000 deposit            NaN  Goregaon East, Mumbai   \n",
      "7747  50,000 deposit            NaN  Goregaon East, Mumbai   \n",
      "7766      No Deposit            NaN  Goregaon East, Mumbai   \n",
      "8537  80,000 deposit            NaN         Airoli, Mumbai   \n",
      "8825   1.5 L deposit            NaN   Andheri East, Mumbai   \n",
      "9038   8,000 deposit            NaN   Andheri East, Mumbai   \n",
      "9197  50,000 deposit            NaN  Goregaon East, Mumbai   \n",
      "9198  50,000 deposit            NaN  Goregaon East, Mumbai   \n",
      "9204     1 L deposit            NaN   Andheri East, Mumbai   \n",
      "9213     2 L deposit            NaN   Bhandup West, Mumbai   \n",
      "9332  50,000 deposit            NaN  Goregaon East, Mumbai   \n",
      "9478      No Deposit            NaN     Malad East, Mumbai   \n",
      "9560      No Deposit            NaN   Bhandup West, Mumbai   \n",
      "9662      No Deposit            NaN   Andheri West, Mumbai   \n",
      "9750      No Deposit            NaN  Goregaon East, Mumbai   \n",
      "9927      No Deposit            NaN   Andheri West, Mumbai   \n",
      "\n",
      "                                              Amenities  \n",
      "2392  Car Parking, Children's play area, Full Power ...  \n",
      "2605  Swimming Pool, Landscaped Gardens, Sports Faci...  \n",
      "3055  Lift(s), Full Power Backup, 24 X 7 Security, C...  \n",
      "3698  Lift(s), Full Power Backup, 24 X 7 Security, C...  \n",
      "3716  Gymnasium, Lift(s), Intercom, Jogging Track, I...  \n",
      "5237  Intercom, Car Parking, 24 X 7 Security, Full P...  \n",
      "6100  Lift(s), Full Power Backup, 24 X 7 Security, C...  \n",
      "6202  Gymnasium, Landscaped Gardens, Swimming Pool, ...  \n",
      "6764  Lift(s), Full Power Backup, 24 X 7 Security, C...  \n",
      "6765  Swimming Pool, Lift(s), Sports Facility, Full ...  \n",
      "7333  Swimming Pool, ATM, Lift(s), Full Power Backup...  \n",
      "7747  Swimming Pool, ATM, Lift(s), Full Power Backup...  \n",
      "7766  Swimming Pool, ATM, Lift(s), Full Power Backup...  \n",
      "8537  Intercom, Car Parking, Vaastu Compliant, Child...  \n",
      "8825  Landscaped Gardens, Lift(s), Swimming Pool, Gy...  \n",
      "9038  Lift(s), Full Power Backup, 24 X 7 Security, C...  \n",
      "9197  Gymnasium, Lift(s), Swimming Pool, Full Power ...  \n",
      "9198  Gymnasium, Lift(s), Swimming Pool, Full Power ...  \n",
      "9204  ATM, Lift(s), Car Parking, Shopping Mall, 24 X...  \n",
      "9213  Swimming Pool, Shopping Mall, Sports Facility,...  \n",
      "9332  Swimming Pool, ATM, Lift(s), Full Power Backup...  \n",
      "9478  Lift(s), Full Power Backup, 24 X 7 Security, C...  \n",
      "9560  Lift(s), Full Power Backup, 24 X 7 Security, C...  \n",
      "9662  Lift(s), Full Power Backup, 24 X 7 Security, C...  \n",
      "9750  Lift(s), Full Power Backup, 24 X 7 Security, C...  \n",
      "9927  Lift(s), Full Power Backup, 24 X 7 Security, C...  \n"
     ]
    }
   ],
   "source": [
    "# Assuming your DataFrame is named df\n",
    "\n",
    "# Filter the DataFrame for rows where 'BHK Apartment' contains 'BHK Apartment' and 'Bathroom Count' is null\n",
    "null_bathroom_bhk_apartment = df[(df['BHK Apartment'].str.contains('BHK Apartment')) & (df['Bathroom Count'].isnull())]\n",
    "\n",
    "# Display the rows where 'Bathroom Count' is null for BHK Apartments\n",
    "print(null_bathroom_bhk_apartment)\n"
   ]
  },
  {
   "cell_type": "code",
   "execution_count": 6,
   "id": "602c19ce",
   "metadata": {},
   "outputs": [
    {
     "data": {
      "text/plain": [
       "Facing            7603\n",
       "Square Feet          0\n",
       "BHK Apartment        0\n",
       "Price                0\n",
       "Furnish Status       0\n",
       "Deposit Status       0\n",
       "Bathroom Count      43\n",
       "Location             0\n",
       "Amenities           32\n",
       "dtype: int64"
      ]
     },
     "execution_count": 6,
     "metadata": {},
     "output_type": "execute_result"
    }
   ],
   "source": [
    "df.isnull().sum()"
   ]
  },
  {
   "cell_type": "code",
   "execution_count": 7,
   "id": "65ecd926",
   "metadata": {},
   "outputs": [
    {
     "name": "stdout",
     "output_type": "stream",
     "text": [
      "<class 'pandas.core.frame.DataFrame'>\n",
      "RangeIndex: 10404 entries, 0 to 10403\n",
      "Data columns (total 9 columns):\n",
      " #   Column          Non-Null Count  Dtype \n",
      "---  ------          --------------  ----- \n",
      " 0   Facing          2801 non-null   object\n",
      " 1   Square Feet     10404 non-null  int64 \n",
      " 2   BHK Apartment   10404 non-null  object\n",
      " 3   Price           10404 non-null  int64 \n",
      " 4   Furnish Status  10404 non-null  object\n",
      " 5   Deposit Status  10404 non-null  object\n",
      " 6   Bathroom Count  10361 non-null  object\n",
      " 7   Location        10404 non-null  object\n",
      " 8   Amenities       10372 non-null  object\n",
      "dtypes: int64(2), object(7)\n",
      "memory usage: 731.7+ KB\n"
     ]
    }
   ],
   "source": [
    "df.info()"
   ]
  },
  {
   "cell_type": "code",
   "execution_count": 8,
   "id": "4436bbd2",
   "metadata": {},
   "outputs": [
    {
     "data": {
      "text/plain": [
       "43"
      ]
     },
     "execution_count": 8,
     "metadata": {},
     "output_type": "execute_result"
    }
   ],
   "source": [
    "df['Bathroom Count'].isnull().sum()"
   ]
  },
  {
   "cell_type": "code",
   "execution_count": 9,
   "id": "455c8828",
   "metadata": {},
   "outputs": [
    {
     "data": {
      "text/plain": [
       "1"
      ]
     },
     "execution_count": 9,
     "metadata": {},
     "output_type": "execute_result"
    }
   ],
   "source": [
    "len(df[(df['BHK Apartment'] == '7 BHK Villa') & (df['Bathroom Count'].isnull())])"
   ]
  },
  {
   "cell_type": "markdown",
   "id": "86989f1e",
   "metadata": {},
   "source": [
    "# Preprocessing Treating null values Bathroom Count Column "
   ]
  },
  {
   "cell_type": "code",
   "execution_count": 10,
   "id": "34591e79",
   "metadata": {},
   "outputs": [],
   "source": [
    "df.loc[df['BHK Apartment'] == '1 BHK Apartment', 'Bathroom Count'] = df.loc[df['BHK Apartment'] == '1 BHK Apartment', 'Bathroom Count'].fillna('1 bathrooms')\n",
    "\n",
    "df.loc[df['BHK Apartment'] == '2 BHK Apartment', 'Bathroom Count'] = df.loc[df['BHK Apartment'] == '2 BHK Apartment', 'Bathroom Count'].fillna('2 bathrooms')\n",
    "\n",
    "df.loc[df['BHK Apartment'] == '3 BHK Apartment', 'Bathroom Count'] = df.loc[df['BHK Apartment'] == '3 BHK Apartment', 'Bathroom Count'].fillna('3 bathrooms')\n",
    "\n",
    "df.loc[df['BHK Apartment'] == '1 RK Studio Apartment', 'Bathroom Count'] = df.loc[df['BHK Apartment'] == '1 RK Studio Apartment', 'Bathroom Count'].fillna('1 bathrooms')\n",
    "\n",
    "df.loc[df['BHK Apartment'] == '7 BHK Villa', 'Bathroom Count'] = df.loc[df['BHK Apartment'] == '7 BHK Villa', 'Bathroom Count'].fillna('7 bathrooms')\n"
   ]
  },
  {
   "cell_type": "code",
   "execution_count": 11,
   "id": "aa2c5e88",
   "metadata": {},
   "outputs": [
    {
     "data": {
      "text/plain": [
       "0"
      ]
     },
     "execution_count": 11,
     "metadata": {},
     "output_type": "execute_result"
    }
   ],
   "source": [
    "df['Bathroom Count'].isnull().sum()"
   ]
  },
  {
   "cell_type": "markdown",
   "id": "0efd39db",
   "metadata": {},
   "source": [
    "# Treating Deposit Status column"
   ]
  },
  {
   "cell_type": "code",
   "execution_count": 12,
   "id": "165fbc74",
   "metadata": {},
   "outputs": [
    {
     "data": {
      "text/plain": [
       "0            No Deposit\n",
       "1            No Deposit\n",
       "2            No Deposit\n",
       "3            No Deposit\n",
       "4            No Deposit\n",
       "              ...      \n",
       "10399    45,000 deposit\n",
       "10400    1.25 L deposit\n",
       "10401    55,000 deposit\n",
       "10402        No Deposit\n",
       "10403        No Deposit\n",
       "Name: Deposit Status, Length: 10404, dtype: object"
      ]
     },
     "execution_count": 12,
     "metadata": {},
     "output_type": "execute_result"
    }
   ],
   "source": [
    "df['Deposit Status']"
   ]
  },
  {
   "cell_type": "code",
   "execution_count": 13,
   "id": "b5011c7d",
   "metadata": {},
   "outputs": [],
   "source": [
    "df.loc[df['Deposit Status'] == 'No Deposit', 'Deposit Status'] = 0\n"
   ]
  },
  {
   "cell_type": "code",
   "execution_count": 14,
   "id": "0f8a4005",
   "metadata": {},
   "outputs": [],
   "source": [
    "df['Deposit Status'] = df['Deposit Status'].str.replace(' deposit', '')"
   ]
  },
  {
   "cell_type": "code",
   "execution_count": 15,
   "id": "f2af8475",
   "metadata": {},
   "outputs": [],
   "source": [
    "df['Deposit Status'].fillna(0, inplace=True)"
   ]
  },
  {
   "cell_type": "code",
   "execution_count": 16,
   "id": "fce84620",
   "metadata": {},
   "outputs": [],
   "source": [
    "def convert_to_numerical(value):\n",
    "    value_str = str(value)\n",
    "    if 'L' in value_str:\n",
    "        numerical_value = float(value_str.replace(' L', '')) * 100000\n",
    "        return int(numerical_value)\n",
    "    else:\n",
    "        return int(value_str.replace(',', ''))\n",
    "\n",
    "df['Deposit Status'] = df['Deposit Status'].apply(convert_to_numerical)\n"
   ]
  },
  {
   "cell_type": "code",
   "execution_count": 17,
   "id": "64c61bdd",
   "metadata": {},
   "outputs": [],
   "source": [
    "df['Deposit Status'] = df['Deposit Status'].astype('int64')"
   ]
  },
  {
   "cell_type": "code",
   "execution_count": 18,
   "id": "dc9a82cd",
   "metadata": {},
   "outputs": [
    {
     "data": {
      "text/plain": [
       "Deposit Status\n",
       "0          6136\n",
       "100000      771\n",
       "200000      553\n",
       "150000      316\n",
       "50000       298\n",
       "           ... \n",
       "22000         1\n",
       "500           1\n",
       "2500          1\n",
       "1700000       1\n",
       "17500         1\n",
       "Name: count, Length: 169, dtype: int64"
      ]
     },
     "execution_count": 18,
     "metadata": {},
     "output_type": "execute_result"
    }
   ],
   "source": [
    "df['Deposit Status'].value_counts()"
   ]
  },
  {
   "cell_type": "code",
   "execution_count": 19,
   "id": "5bbc65cc",
   "metadata": {},
   "outputs": [
    {
     "data": {
      "text/plain": [
       "Bathroom Count\n",
       "2 bathrooms    6015\n",
       "1 bathrooms    2447\n",
       "3 bathrooms    1489\n",
       "4 bathrooms     329\n",
       "5 bathrooms      94\n",
       "6 bathrooms      24\n",
       "7 bathrooms       6\n",
       "Name: count, dtype: int64"
      ]
     },
     "execution_count": 19,
     "metadata": {},
     "output_type": "execute_result"
    }
   ],
   "source": [
    "df['Bathroom Count'].value_counts()"
   ]
  },
  {
   "cell_type": "code",
   "execution_count": 20,
   "id": "b5b5eca0",
   "metadata": {
    "scrolled": true
   },
   "outputs": [
    {
     "data": {
      "text/plain": [
       "BHK Apartment\n",
       "2 BHK Apartment            4418\n",
       "1 BHK Apartment            3421\n",
       "3 BHK Apartment            1780\n",
       "1 RK Studio Apartment       344\n",
       "4 BHK Apartment             298\n",
       "5 BHK Apartment              46\n",
       "1 BHK Independent House      21\n",
       "2 BHK Independent Floor      15\n",
       "1 BHK Independent Floor      10\n",
       "3 BHK Independent House       7\n",
       "2 BHK Independent House       6\n",
       "4 BHK Villa                   6\n",
       "3 BHK Villa                   5\n",
       "6 BHK Apartment               3\n",
       "4 BHK Independent House       3\n",
       "1 BHK Villa                   3\n",
       "3 BHK Independent Floor       3\n",
       "5 BHK Villa                   3\n",
       "6 BHK Villa                   3\n",
       "7 BHK Apartment               2\n",
       "4 BHK Independent Floor       1\n",
       "6 BHK Independent House       1\n",
       "9 BHK Villa                   1\n",
       "3 BHK Penthouse               1\n",
       "5 BHK Penthouse               1\n",
       "5 BHK Independent House       1\n",
       "7 BHK Villa                   1\n",
       "Name: count, dtype: int64"
      ]
     },
     "execution_count": 20,
     "metadata": {},
     "output_type": "execute_result"
    }
   ],
   "source": [
    "df['BHK Apartment'].value_counts()"
   ]
  },
  {
   "cell_type": "code",
   "execution_count": 21,
   "id": "5a77659d",
   "metadata": {
    "scrolled": true
   },
   "outputs": [
    {
     "data": {
      "text/plain": [
       "Location\n",
       "Thane West, Mumbai           1022\n",
       "Ghansoli, Mumbai              577\n",
       "Andheri West, Mumbai          567\n",
       "Kharghar, Mumbai              386\n",
       "Andheri East, Mumbai          357\n",
       "                             ... \n",
       "5th Rd, Mumbai                  1\n",
       "Vakola, Mumbai                  1\n",
       "Kapurbawadi, Mumbai             1\n",
       "Dharavi, Mumbai                 1\n",
       "Sector-3 Ghansoli, Mumbai       1\n",
       "Name: count, Length: 340, dtype: int64"
      ]
     },
     "execution_count": 21,
     "metadata": {},
     "output_type": "execute_result"
    }
   ],
   "source": [
    "df['Location'].value_counts()"
   ]
  },
  {
   "cell_type": "code",
   "execution_count": 22,
   "id": "ed262ba7",
   "metadata": {},
   "outputs": [
    {
     "data": {
      "text/plain": [
       "Square Feet\n",
       "650     422\n",
       "600     331\n",
       "1200    319\n",
       "1100    317\n",
       "1000    284\n",
       "       ... \n",
       "796       1\n",
       "877       1\n",
       "561       1\n",
       "439       1\n",
       "1279      1\n",
       "Name: count, Length: 979, dtype: int64"
      ]
     },
     "execution_count": 22,
     "metadata": {},
     "output_type": "execute_result"
    }
   ],
   "source": [
    "df['Square Feet'].value_counts()"
   ]
  },
  {
   "cell_type": "code",
   "execution_count": 23,
   "id": "2d5b6842",
   "metadata": {},
   "outputs": [
    {
     "data": {
      "text/plain": [
       "Location\n",
       "Khar West, Mumbai             48\n",
       "Dadar West, Mumbai            46\n",
       "Ambernath West, Mumbai        42\n",
       "Sector 21 Ghansoli, Mumbai    41\n",
       "Vashi, Mumbai                 40\n",
       "                              ..\n",
       "5th Rd, Mumbai                 1\n",
       "Vakola, Mumbai                 1\n",
       "Kapurbawadi, Mumbai            1\n",
       "Dharavi, Mumbai                1\n",
       "Sector-3 Ghansoli, Mumbai      1\n",
       "Name: count, Length: 294, dtype: int64"
      ]
     },
     "execution_count": 23,
     "metadata": {},
     "output_type": "execute_result"
    }
   ],
   "source": [
    "location_counts = df['Location'].value_counts()\n",
    "locations_less_than_10 = location_counts[location_counts < 50]\n",
    "locations_less_than_10"
   ]
  },
  {
   "cell_type": "code",
   "execution_count": 24,
   "id": "82f14865",
   "metadata": {},
   "outputs": [
    {
     "data": {
      "text/plain": [
       "array(['Ulwe, Mumbai', 'Kandivali West, Mumbai', 'Chembur, Mumbai',\n",
       "       'Badlapur East, Mumbai', 'Dombivali, Mumbai',\n",
       "       'Bandra West, Mumbai', 'Andheri East, Mumbai',\n",
       "       'Kandivali East, Mumbai', 'Powai, Mumbai', 'Andheri West, Mumbai',\n",
       "       'Kalyan West, Mumbai', 'Bhandup West, Mumbai', 'Palghar, Mumbai',\n",
       "       'Worli, Mumbai', 'Kanjurmarg, Mumbai', 'Sanpada, Mumbai',\n",
       "       'Kharghar, Mumbai', 'Ghatkopar East, Mumbai',\n",
       "       'Borivali East, Mumbai', 'Goregaon East, Mumbai',\n",
       "       'Thane West, Mumbai', 'Nerul, Mumbai', 'Airoli, Mumbai',\n",
       "       'Kalyan East, Mumbai', 'Mulund East, Mumbai', 'Malad West, Mumbai',\n",
       "       'Wadala, Mumbai', 'Seawoods, Mumbai', 'Ghansoli, Mumbai',\n",
       "       'Santacruz West, Mumbai', 'Juhu, Mumbai', 'Koper Khairane, Mumbai',\n",
       "       'Goregaon West, Mumbai', 'Dahisar West, Mumbai',\n",
       "       'Agripada, Mumbai', 'Taloje, Mumbai', 'Prabhadevi, Mumbai',\n",
       "       'Shil Phata, Mumbai', 'Malad East, Mumbai', 'Mulund West, Mumbai',\n",
       "       'Anjurdive, Mumbai', 'Lower Parel, Mumbai', 'Kalwa, Mumbai',\n",
       "       'Vikhroli, Mumbai', 'Colaba, Mumbai', 'Vashi, Mumbai',\n",
       "       'Dombivali East, Mumbai', 'Parel, Mumbai',\n",
       "       'Ville Parle East, Mumbai', 'Malabar Hill, Mumbai',\n",
       "       'Ghatkopar West, Mumbai', 'Kamothe, Mumbai', 'Dadar West, Mumbai',\n",
       "       'Shelu, Mumbai', 'Belapur, Mumbai', 'Khar West, Mumbai',\n",
       "       'Taloja, Mumbai', 'Bandra Kurla Complex, Mumbai',\n",
       "       'Jogeshwari West, Mumbai', 'Kanjurmarg East, Mumbai',\n",
       "       'Jogeshwari East, Mumbai', 'vile parle west, Mumbai',\n",
       "       'Hiranandani Estates, Mumbai', 'Mahalaxmi, Mumbai',\n",
       "       'Panvel, Mumbai', 'Bhiwandi, Mumbai', 'Matunga, Mumbai',\n",
       "       'Khar, Mumbai', 'Bandra East, Mumbai', 'Byculla, Mumbai',\n",
       "       'Churchgate, Mumbai', 'Tardeo, Mumbai', 'Dadar East, Mumbai',\n",
       "       'Sewri, Mumbai', 'Cumballa Hill, Mumbai', 'Marine Lines, Mumbai',\n",
       "       'Sion, Mumbai', 'Vikhroli West, Mumbai', 'Diva, Mumbai',\n",
       "       'Badlapur West, Mumbai', 'Bhandup East, Mumbai',\n",
       "       'Naigaon East, Mumbai', 'Kurla, Mumbai', 'Girgaon, Mumbai',\n",
       "       'Titwala, Mumbai', 'Dhokali Naka, Mumbai', 'Borivali West, Mumbai',\n",
       "       'Mira Road East, Mumbai', 'VidyaVihar, Mumbai',\n",
       "       'Nala Sopara, Mumbai', 'Vasai, Mumbai', 'Karanjade, Mumbai',\n",
       "       'Vasai West, Mumbai', 'Mahim, Mumbai', 'Napeansea Road, Mumbai',\n",
       "       'Cuffe Parade, Mumbai', 'Vasai east, Mumbai',\n",
       "       'kasaradavali thane west, Mumbai', 'Santacruz East, Mumbai',\n",
       "       'Ambernath West, Mumbai', 'Dahisar, Mumbai', 'mumbai, Mumbai',\n",
       "       'Bhayandar East, Mumbai', 'Virar, Mumbai', 'Boisar, Mumbai',\n",
       "       'Desale Pada, Mumbai', 'Kurla East, Mumbai',\n",
       "       'matunga east, Mumbai', 'MATUNGA WEST, Mumbai', 'Deonar, Mumbai',\n",
       "       'Dombivli (West), Mumbai', 'Thakurli, Mumbai', 'Palava, Mumbai',\n",
       "       'Bhayandar West, Mumbai', 'Kalamboli, Mumbai',\n",
       "       'Virar West, Mumbai', 'Dharamveer Nagar, Mumbai',\n",
       "       'Ambernath East, Mumbai', 'Tilak Nagar, Mumbai',\n",
       "       'Kurla West, Mumbai', 'Shivaji Park, Mumbai',\n",
       "       'Peddar Road, Mumbai', 'Nalasopara West, Mumbai',\n",
       "       'Ville Parle West, Mumbai', 'hiranandani meadows, Mumbai',\n",
       "       'hanuman nagar off akurli road near western express highway kandivali west, Mumbai',\n",
       "       'kavesar, Mumbai', 'Bhoirwadi, Mumbai',\n",
       "       'Majiwada,Thane west, Mumbai', 'panvel, Mumbai',\n",
       "       'hiranandani estate, Mumbai', 'G B Road, Mumbai',\n",
       "       'Antarli, Mumbai', 'Sector 21 Kamothe, Mumbai',\n",
       "       'Thane East, Mumbai', 'Karjat, Mumbai', 'Vikroli East, Mumbai',\n",
       "       'Diva Gaon, Mumbai', 'Govandi, Mumbai', 'Kolegaon, Mumbai',\n",
       "       'Kalbadevi, Mumbai', 'Kamathipura, Mumbai', 'Dahisar East, Mumbai',\n",
       "       'Mumbai Central, Mumbai', 'Khardi, Mumbai', 'St Andrew Rd, Mumbai',\n",
       "       'DoddakannelliKaadubeesanahalli Road, Mumbai', 'Balkum, Mumbai',\n",
       "       'Breach Candy, Mumbai', 'Gamdevi, Mumbai',\n",
       "       'Sector 21 Ghansoli, Mumbai', 'Sector6 Kopar Khairane, Mumbai',\n",
       "       'Saki Naka, Mumbai', 'Neral, Mumbai', 'Parel Village, Mumbai',\n",
       "       'Mahape, Mumbai', 'Pali Hill, Mumbai', 'Juhu Tara Rd, Mumbai',\n",
       "       'Juhu Scheme, Mumbai', 'Rasayani, Mumbai',\n",
       "       'Sector-9 Ghansoli, Mumbai', 'Sector 5 Ghansoli, Mumbai',\n",
       "       'Koparkhairane Station Road, Mumbai', 'juhu tara, Mumbai',\n",
       "       'vile parle east, Mumbai', 'nahar amrit shakti Chandivali, Mumbai',\n",
       "       'Versova, Mumbai', 'Yari Road, Mumbai',\n",
       "       'colaba post office, Mumbai', 'Near Check Naka, Mumbai',\n",
       "       'kandivali west charkop sector 5, Mumbai',\n",
       "       'Aarya Chanakya Nagar, Mumbai', 'Akurli Road, Mumbai',\n",
       "       'Akurli Road Number 1, Mumbai', 'Sector-15 Ghansoli, Mumbai',\n",
       "       'Walkeshwar, Mumbai', 'Sector-16 Koparkhairane, Mumbai',\n",
       "       'Carter Road, Mumbai', 'Marine Drive, Mumbai',\n",
       "       'Kasar vadavali, Mumbai', 'Sakinaka Andheri east, Mumbai',\n",
       "       'nallasopara W, Mumbai', 'Babhai Naka, Mumbai', 'Babhai, Mumbai',\n",
       "       'Kastur Park, Mumbai', 'yogi nagar, Mumbai',\n",
       "       'Jayraj Nagar near Yogi Nagar, Mumbai', 'Rabale, Mumbai',\n",
       "       'Devidas Cross Lane, Mumbai', 'Devidas Rd, Mumbai',\n",
       "       'Ghodbunder Road, Mumbai', 'jvpd, Mumbai',\n",
       "       'Piramal Nagar Housing Society Road, Mumbai',\n",
       "       'Hendre Pada, Mumbai', 'Suyog Nagar, Mumbai', 'Mankhurd, Mumbai',\n",
       "       'Sector-19 Koper Khairane, Mumbai', 'Majiwada thane, Mumbai',\n",
       "       'karanjade panvel, Mumbai', 'Saphale, Mumbai',\n",
       "       'Ghansoli Gaon, Mumbai', 'Syndicate, Mumbai',\n",
       "       'Sector5 Kopar Khairane, Mumbai', 'Nalasopara East, Mumbai',\n",
       "       'Gulmohar Road, Mumbai', 'Ghodbunder thane west, Mumbai',\n",
       "       'vakola santacuz e, Mumbai', 'Dharavi, Mumbai', 'Vichumbe, Mumbai',\n",
       "       'Kapurbawadi, Mumbai', 'Vakola, Mumbai',\n",
       "       'Sector 12 Kharghar, Mumbai', '5th Rd, Mumbai',\n",
       "       'Lokhandwala Twp, Mumbai', 'Chandivali, Mumbai',\n",
       "       'Gokuldham Marg, Mumbai', 'Ghatkopar East Pant Nagar, Mumbai',\n",
       "       'Vakola Yashwant Nagar, Mumbai', 'Kalina, Mumbai',\n",
       "       'Chembur East, Mumbai', 'Sangeeta Wadi, Mumbai',\n",
       "       'Sector-50 Seawoods, Mumbai', 'Rajendra Nagar, Mumbai',\n",
       "       'Nahur East, Mumbai', 'Poonam Nagar, Mumbai',\n",
       "       'Saki Vihar Complex Road, Mumbai', 'Mulund East Gavanpada, Mumbai',\n",
       "       'Sector 15 Kharghar, Mumbai', 'Mazgaon, Mumbai',\n",
       "       'Kamgar Nagar Road, Mumbai', 'Shell Colony Sahakar Nagar, Mumbai',\n",
       "       'Dronagiri, Mumbai', 'Haji Ali, Mumbai',\n",
       "       '29 Sector 3 Airoli Road, Mumbai', 'Chembur Shell Colony, Mumbai',\n",
       "       'Sector 2 Charkop Kandivali West, Mumbai',\n",
       "       'Marol andheri east, Mumbai',\n",
       "       '20 Vashi Kopar Khairane Road, Mumbai',\n",
       "       'Sector15 Ghansoli, Mumbai', 'Sector9 Ghansoli, Mumbai',\n",
       "       'Sector4 Kopar Khairane, Mumbai', 'KOPERKHAIRANE, Mumbai',\n",
       "       '23 Sector Number 3 Road, Mumbai',\n",
       "       '1 Sector Number 3 Road, Mumbai', 'Kopargaon, Mumbai',\n",
       "       'Vile Parle East, Mumbai', 'Vashi Kopar Khairane Road, Mumbai',\n",
       "       'Kopar Khairane Sector 19A, Mumbai', 'Sector3 Ghansoli, Mumbai',\n",
       "       'Sector 9 Airoli, Mumbai', 'Bandstand, Mumbai',\n",
       "       'Sector8A Airoli, Mumbai', 'GTB Nagar, Mumbai',\n",
       "       'khadakpada, Mumbai', 'Chikan Ghar, Mumbai', 'Fort, Mumbai',\n",
       "       'Palava City, Mumbai', 'Sector 21 Kharghar, Mumbai',\n",
       "       'Sector 20 Kharghar, Mumbai', 'Sector 7 Kharghar, Mumbai',\n",
       "       'Sector35D Kharghar, Mumbai', 'Vile Parle E, Mumbai',\n",
       "       'Taloja Phase 1 Road, Mumbai', 'worli sea Fase, Mumbai',\n",
       "       'Sector-12 Kopar Khairane, Mumbai', 'Gorai 1, Mumbai',\n",
       "       'Altamount Road, Mumbai', 'Mount Marry, Mumbai',\n",
       "       'Western Express Highway Jogeshwari East, Mumbai',\n",
       "       'Western Express Highway Santacruz East, Mumbai',\n",
       "       'Sector-14 Koparkhairane, Mumbai', 'Powai Vihar Road, Mumbai',\n",
       "       'Thakur Village, Mumbai', 'Sector19 Airoli, Mumbai',\n",
       "       'Borivali, Mumbai', 'nerul west, Mumbai',\n",
       "       'Sector 35 Kamothe, Mumbai', 'Rabale Station Road, Mumbai',\n",
       "       'Oshiwara, Mumbai', 'Seven Bunglow, Mumbai',\n",
       "       'Elphinstone Road, Mumbai', 'Curry Road Bridge, Mumbai',\n",
       "       'lower parel west, Mumbai', 'marol maroshi, Mumbai',\n",
       "       'Marol Millitary Road, Mumbai', 'Eksar Rd, Mumbai',\n",
       "       'versova, Mumbai', 'Sher e Punjab, Mumbai', '7 Bunglow, Mumbai',\n",
       "       'chikuwadi, Mumbai', 'Ashok nagar, Mumbai', 'GORAI 2, Mumbai',\n",
       "       'Eksar Village, Mumbai',\n",
       "       'New MHB Colony Ashtavinayak Nagar, Mumbai', 'eksar road, Mumbai',\n",
       "       'Vazira, Mumbai', 'TPS Road, Mumbai',\n",
       "       'new Panvel navi mumbai, Mumbai',\n",
       "       'J u h u Versova Link Road, Mumbai', 'Ambarnath, Mumbai',\n",
       "       'BANDRA RECLEMATION, Mumbai', 'Anand Nagar Thane West, Mumbai',\n",
       "       'Sector 44 Seawoods, Mumbai', 'Veera Desai Road, Mumbai',\n",
       "       'Oberoi Splendor, Mumbai', 'Shastri Nagar, Mumbai',\n",
       "       'kashimira mira road, Mumbai', 'Mumbra, Mumbai',\n",
       "       'Raheja Vihar Chandivali, Mumbai', 'Tembhode Palghar, Mumbai',\n",
       "       'Chakala, Mumbai', 'Shahapur, Mumbai', 'Film City road, Mumbai',\n",
       "       'Tulsiwadi, Mumbai', 'Mazagaon, Mumbai', 'Narayan Nagar, Mumbai',\n",
       "       'Mahim West, Mumbai', 'Mira Road West, Mumbai',\n",
       "       'Umerkhadi, Mumbai', 'Narendra Complex, Mumbai',\n",
       "       'Airoli Sector 5, Mumbai', 'Sion Koliwada, Mumbai',\n",
       "       'Kalu Nagar, Mumbai', 'Kurar Village, Mumbai', 'Kalher, Mumbai',\n",
       "       'Upper Govind Nagar, Mumbai', 'Sion East, Mumbai',\n",
       "       'Jacob Circle, Mumbai', 'Sector-3 Kalamboli, Mumbai',\n",
       "       'Sector 17 Vashi, Mumbai', 'Sector-6 Kopar Khairane, Mumbai',\n",
       "       'Sector 8 Kopar Khairane Road, Mumbai',\n",
       "       'Sector20 Koparkhairane, Mumbai',\n",
       "       'Sector 11 Koparkhairane, Mumbai',\n",
       "       'Sector12 Kopar Khairane, Mumbai',\n",
       "       'Sector-2A Kopar Khairane, Mumbai',\n",
       "       'Sector-20 Koparkhairane, Mumbai', 'Sector-5 Sanpada, Mumbai',\n",
       "       'Sector-5 Kopar Khairane, Mumbai', 'Sector-3 Ghansoli, Mumbai'],\n",
       "      dtype=object)"
      ]
     },
     "execution_count": 24,
     "metadata": {},
     "output_type": "execute_result"
    }
   ],
   "source": [
    "df['Location'].unique()"
   ]
  },
  {
   "cell_type": "code",
   "execution_count": 25,
   "id": "419efd48",
   "metadata": {},
   "outputs": [
    {
     "name": "stdout",
     "output_type": "stream",
     "text": [
      "Naigaon East, Mumbai\n"
     ]
    }
   ],
   "source": [
    "for i in df['Location'].unique():\n",
    "    #Bhayandar\n",
    "    if 'Naigaon' in i:\n",
    "        print(i)"
   ]
  },
  {
   "cell_type": "code",
   "execution_count": 26,
   "id": "7068bc4a",
   "metadata": {},
   "outputs": [],
   "source": [
    "a = ['Koparkhairane', 'Kopar Khairane','KOPERKHAIRANE','Koper Khairane']\n",
    "\n",
    "for index, row in df.iterrows():\n",
    "    for j in a:\n",
    "        if j in row['Location']:\n",
    "            df.at[index, 'Location'] = 'Koparkhairane, Mumbai'"
   ]
  },
  {
   "cell_type": "code",
   "execution_count": 27,
   "id": "4aa078f7",
   "metadata": {},
   "outputs": [],
   "source": [
    "a = ['Ghansoli', 'ghansoli','1 Sector Number 3 Road','23 Sector Number 3 Road' ]\n",
    "for i in df['Location'].unique():\n",
    "    for j in a:\n",
    "        if j in i:\n",
    "            df['Location'] = df['Location'].replace(i , 'Ghansoli, Mumbai')"
   ]
  },
  {
   "cell_type": "code",
   "execution_count": 28,
   "id": "2358066e",
   "metadata": {},
   "outputs": [],
   "source": [
    "a = ['Kharghar', 'kharghar' ]\n",
    "for i in df['Location'].unique():\n",
    "    for j in a:\n",
    "        if j in i:\n",
    "            df['Location'] = df['Location'].replace(i , 'Kharghar, Mumbai')"
   ]
  },
  {
   "cell_type": "code",
   "execution_count": 29,
   "id": "3f65599f",
   "metadata": {},
   "outputs": [],
   "source": [
    "a = ['Seawoods', 'seawoods' ]\n",
    "for i in df['Location'].unique():\n",
    "    for j in a:\n",
    "        if j in i:\n",
    "            df['Location'] = df['Location'].replace(i , 'Seawoods, Mumbai')"
   ]
  },
  {
   "cell_type": "code",
   "execution_count": 30,
   "id": "e69a5437",
   "metadata": {},
   "outputs": [],
   "source": [
    "a = ['Panvel', 'panvel','Karanjade','Greater Khanda','Rasayani','Vichumbe','Ulwe', 'ulwe','Dronagiri', 'Akurli' ]\n",
    "for i in df['Location'].unique():\n",
    "    for j in a:\n",
    "        if j in i:\n",
    "            df['Location'] = df['Location'].replace(i , 'Panvel, Mumbai')"
   ]
  },
  {
   "cell_type": "code",
   "execution_count": 31,
   "id": "1a85dbd2",
   "metadata": {},
   "outputs": [],
   "source": [
    "a = ['Kalamboli', 'Kamothe' ]\n",
    "for i in df['Location'].unique():\n",
    "    for j in a:\n",
    "        if j in i:\n",
    "            df['Location'] = df['Location'].replace(i , 'Kamothe, Mumbai')"
   ]
  },
  {
   "cell_type": "code",
   "execution_count": 32,
   "id": "6e6930fc",
   "metadata": {},
   "outputs": [],
   "source": [
    "a = ['Vashi', 'Sanpada' ]\n",
    "for i in df['Location'].unique():\n",
    "    for j in a:\n",
    "        if j in i:\n",
    "            df['Location'] = df['Location'].replace(i , 'Vashi, Mumbai')"
   ]
  },
  {
   "cell_type": "code",
   "execution_count": 33,
   "id": "20a9ae5b",
   "metadata": {},
   "outputs": [],
   "source": [
    "a = ['Airoli', 'AIROLI' ]\n",
    "for i in df['Location'].unique():\n",
    "    for j in a:\n",
    "        if j in i:\n",
    "            df['Location'] = df['Location'].replace(i , 'Airoli, Mumbai')"
   ]
  },
  {
   "cell_type": "code",
   "execution_count": 34,
   "id": "093a182d",
   "metadata": {},
   "outputs": [],
   "source": [
    "a = ['Mulund', 'mulund','Near Check Naka' ]\n",
    "for i in df['Location'].unique():\n",
    "    for j in a:\n",
    "        if j in i:\n",
    "            df['Location'] = df['Location'].replace(i , 'Mulund, Mumbai')"
   ]
  },
  {
   "cell_type": "code",
   "execution_count": 35,
   "id": "f53a840a",
   "metadata": {},
   "outputs": [],
   "source": [
    "a = ['Kalwa', 'Mumbra','Dhokali','Shil Phata','hiranandani meadows','kavesar','Balkum',\n",
    "     'Ghodbunder Road','Thane','thane','Kasar vadavali','Kapurbawadi','Shastri Nagar','Dharamveer Nagar','Narayan Nagar']\n",
    "for i in df['Location'].unique():\n",
    "    for j in a:\n",
    "        if j in i:\n",
    "            df['Location'] = df['Location'].replace(i , 'Thane, Mumbai')"
   ]
  },
  {
   "cell_type": "code",
   "execution_count": 36,
   "id": "36b21977",
   "metadata": {},
   "outputs": [],
   "source": [
    "a = ['Belapur', 'belapur' ]\n",
    "for i in df['Location'].unique():\n",
    "    for j in a:\n",
    "        if j in i:\n",
    "            df['Location'] = df['Location'].replace(i , 'Belapur, Mumbai')"
   ]
  },
  {
   "cell_type": "code",
   "execution_count": 37,
   "id": "fafc37fa",
   "metadata": {},
   "outputs": [],
   "source": [
    "a = ['Bhiwandi', 'Kalher','Anjurdive' ]\n",
    "for i in df['Location'].unique():\n",
    "    for j in a:\n",
    "        if j in i:\n",
    "            df['Location'] = df['Location'].replace(i , 'Bhiwandi, Mumbai')"
   ]
  },
  {
   "cell_type": "code",
   "execution_count": 38,
   "id": "a87f1d92",
   "metadata": {},
   "outputs": [],
   "source": [
    "a = ['Vasai', 'Virar','Nalasopara','Nala Sopara','nallasopara', 'Suyog Nagar','Naigaon' ]\n",
    "for i in df['Location'].unique():\n",
    "    for j in a:\n",
    "        if j in i:\n",
    "            df['Location'] = df['Location'].replace(i , 'Vasai-Virar-Nalasopara, Mumbai')"
   ]
  },
  {
   "cell_type": "code",
   "execution_count": 39,
   "id": "626ae8d9",
   "metadata": {},
   "outputs": [],
   "source": [
    "a = ['Taloja', 'Taloje']\n",
    "for i in df['Location'].unique():\n",
    "    for j in a:\n",
    "        if j in i:\n",
    "            df['Location'] = df['Location'].replace(i , 'Taloja, Mumbai')"
   ]
  },
  {
   "cell_type": "code",
   "execution_count": 40,
   "id": "d0e4d746",
   "metadata": {},
   "outputs": [],
   "source": [
    "a = ['Nerul', 'nerul','Seawoods' ]\n",
    "for i in df['Location'].unique():\n",
    "    for j in a:\n",
    "        if j in i:\n",
    "            df['Location'] = df['Location'].replace(i , 'Nerul, Mumbai')"
   ]
  },
  {
   "cell_type": "code",
   "execution_count": 41,
   "id": "6e8dc10c",
   "metadata": {},
   "outputs": [],
   "source": [
    "a = ['Rabale', 'Mahape']\n",
    "for i in df['Location'].unique():\n",
    "    for j in a:\n",
    "        if j in i:\n",
    "            df['Location'] = df['Location'].replace(i , 'Rabale, Mumbai')"
   ]
  },
  {
   "cell_type": "code",
   "execution_count": 42,
   "id": "910b6ac7",
   "metadata": {},
   "outputs": [],
   "source": [
    "a = ['Dombivali', 'Thakurli','Palava','Dombivli','Diva','Desale Pada','Kopargaon','Kalu Nagar','Sangeeta Wadi','Antarli','Kolegaon']\n",
    "for i in df['Location'].unique():\n",
    "    for j in a:\n",
    "        if j in i:\n",
    "            df['Location'] = df['Location'].replace(i , 'Diva-Dombivali, Mumbai')"
   ]
  },
  {
   "cell_type": "code",
   "execution_count": 43,
   "id": "a9534ac7",
   "metadata": {},
   "outputs": [],
   "source": [
    "a = ['Ambernath', 'Ambarnath' ]\n",
    "for i in df['Location'].unique():\n",
    "    for j in a:\n",
    "        if j in i:\n",
    "            df['Location'] = df['Location'].replace(i , 'Ambernath, Mumbai')"
   ]
  },
  {
   "cell_type": "code",
   "execution_count": 44,
   "id": "3cceb6c2",
   "metadata": {},
   "outputs": [],
   "source": [
    "a = ['Kalyan', 'kalyan','Bhoirwadi','khadakpada', 'Chikan Ghar', 'Syndicate' ]\n",
    "for i in df['Location'].unique():\n",
    "    for j in a:\n",
    "        if j in i:\n",
    "            df['Location'] = df['Location'].replace(i , 'Kalyan, Mumbai')"
   ]
  },
  {
   "cell_type": "code",
   "execution_count": 45,
   "id": "c3d8fe8c",
   "metadata": {},
   "outputs": [],
   "source": [
    "a = ['Badlapur', 'badlapur','Hendre Pada' ]\n",
    "for i in df['Location'].unique():\n",
    "    for j in a:\n",
    "        if j in i:\n",
    "            df['Location'] = df['Location'].replace(i , 'Badlapur, Mumbai')"
   ]
  },
  {
   "cell_type": "code",
   "execution_count": 46,
   "id": "093b525f",
   "metadata": {},
   "outputs": [],
   "source": [
    "a = ['Palghar', 'Saphale','Boisar' ]\n",
    "for i in df['Location'].unique():\n",
    "    for j in a:\n",
    "        if j in i:\n",
    "            df['Location'] = df['Location'].replace(i , 'Palghar, Mumbai')"
   ]
  },
  {
   "cell_type": "code",
   "execution_count": 47,
   "id": "c2ae4c59",
   "metadata": {},
   "outputs": [],
   "source": [
    "a = ['Neral', 'Shelu', 'Karjat' ]\n",
    "for i in df['Location'].unique():\n",
    "    for j in a:\n",
    "        if j in i:\n",
    "            df['Location'] = df['Location'].replace(i , 'Neral-Karjat, Mumbai')"
   ]
  },
  {
   "cell_type": "code",
   "execution_count": 48,
   "id": "3482da59",
   "metadata": {},
   "outputs": [],
   "source": [
    "a = ['dahisar', 'Dahisar', 'Narendra Complex']\n",
    "for i in df['Location'].unique():\n",
    "    for j in a:\n",
    "        if j in i:\n",
    "            df['Location'] = df['Location'].replace(i , 'Dahisar, Mumbai')"
   ]
  },
  {
   "cell_type": "code",
   "execution_count": 49,
   "id": "10953e47",
   "metadata": {},
   "outputs": [],
   "source": [
    "a = ['Bhandup', 'bhandup']\n",
    "for i in df['Location'].unique():\n",
    "    for j in a:\n",
    "        if j in i:\n",
    "            df['Location'] = df['Location'].replace(i , 'Bhandup, Mumbai')"
   ]
  },
  {
   "cell_type": "code",
   "execution_count": 50,
   "id": "7ec7bfe1",
   "metadata": {},
   "outputs": [],
   "source": [
    "a = ['Kanjurmarg', 'kanjurmarg']\n",
    "for i in df['Location'].unique():\n",
    "    for j in a:\n",
    "        if j in i:\n",
    "            df['Location'] = df['Location'].replace(i , 'Kanjurmarg, Mumbai')"
   ]
  },
  {
   "cell_type": "code",
   "execution_count": 51,
   "id": "64ac4daf",
   "metadata": {},
   "outputs": [],
   "source": [
    "a = ['Borivali', 'Babhai Naka', 'Eksar', 'eksar', 'Thakur Village', 'Govind Nagar', 'TPS Road', 'Vazira', 'chikuwadi', \n",
    "     'Devidas Rd', 'Devidas Cross Lane', 'Jayraj Nagar near Yogi Nagar', 'yogi nagar', 'Kastur Park', 'Babhai',\n",
    "      'New MHB Colony Ashtavinayak Nagar', 'Rajendra Nagar']\n",
    "for i in df['Location'].unique():\n",
    "    for j in a:\n",
    "        if j in i:\n",
    "            df['Location'] = df['Location'].replace(i , 'Borivali, Mumbai')"
   ]
  },
  {
   "cell_type": "code",
   "execution_count": 52,
   "id": "8fcf028f",
   "metadata": {},
   "outputs": [],
   "source": [
    "a = ['Mira Road', 'mira road','Bhayandar', 'GORAI', 'Gorai']\n",
    "for i in df['Location'].unique():\n",
    "    for j in a:\n",
    "        if j in i:\n",
    "            df['Location'] = df['Location'].replace(i , 'Mira-Bhayandar, Mumbai')"
   ]
  },
  {
   "cell_type": "code",
   "execution_count": 53,
   "id": "a24bec81",
   "metadata": {},
   "outputs": [],
   "source": [
    "a = ['Kurla','Kamgar Nagar', 'Shell Colony Sahakar Nagar']\n",
    "for i in df['Location'].unique():\n",
    "    for j in a:\n",
    "        if j in i:\n",
    "            df['Location'] = df['Location'].replace(i , 'Kurla, Mumbai')"
   ]
  },
  {
   "cell_type": "code",
   "execution_count": 54,
   "id": "5245df42",
   "metadata": {},
   "outputs": [],
   "source": [
    "a = ['Bandra', 'BANDRA', 'Mount Marry','Carter Road']\n",
    "for i in df['Location'].unique():\n",
    "    for j in a:\n",
    "        if j in i:\n",
    "            df['Location'] = df['Location'].replace(i , 'Bandra, Mumbai')"
   ]
  },
  {
   "cell_type": "code",
   "execution_count": 55,
   "id": "a4806469",
   "metadata": {},
   "outputs": [],
   "source": [
    "a = ['Andheri', 'Chakala', 'Ashok nagar', 'Marol', 'marol', 'Veera Desai Road', 'Sakinaka', 'Sher e Punjab', 'Poonam Nagar']\n",
    "for i in df['Location'].unique():\n",
    "    for j in a:\n",
    "        if j in i:\n",
    "            df['Location'] = df['Location'].replace(i , 'Andheri, Mumbai')"
   ]
  },
  {
   "cell_type": "code",
   "execution_count": 56,
   "id": "3f2d6439",
   "metadata": {},
   "outputs": [],
   "source": [
    "a = ['Byculla', 'Agripada', 'Jacob Circle']\n",
    "for i in df['Location'].unique():\n",
    "    for j in a:\n",
    "        if j in i:\n",
    "            df['Location'] = df['Location'].replace(i , 'Byculla, Mumbai')"
   ]
  },
  {
   "cell_type": "code",
   "execution_count": 57,
   "id": "e34de8f4",
   "metadata": {},
   "outputs": [],
   "source": [
    "a = ['Sion', 'GTB Nagar']\n",
    "for i in df['Location'].unique():\n",
    "    for j in a:\n",
    "        if j in i:\n",
    "            df['Location'] = df['Location'].replace(i , 'Sion, Mumbai')"
   ]
  },
  {
   "cell_type": "code",
   "execution_count": 58,
   "id": "317e5c8f",
   "metadata": {},
   "outputs": [],
   "source": [
    "a = ['Mahim', 'mahim']\n",
    "for i in df['Location'].unique():\n",
    "    for j in a:\n",
    "        if j in i:\n",
    "            df['Location'] = df['Location'].replace(i , 'Mahim, Mumbai')"
   ]
  },
  {
   "cell_type": "code",
   "execution_count": 59,
   "id": "52ad88e5",
   "metadata": {},
   "outputs": [],
   "source": [
    "a = ['Girgaon', 'Gamdevi']\n",
    "for i in df['Location'].unique():\n",
    "    for j in a:\n",
    "        if j in i:\n",
    "            df['Location'] = df['Location'].replace(i , 'Girgaon, Mumbai')"
   ]
  },
  {
   "cell_type": "code",
   "execution_count": 60,
   "id": "bf574c21",
   "metadata": {},
   "outputs": [],
   "source": [
    "a = ['versova', 'Versova', '7 Bunglow', 'Seven Bunglow','Yari Road']\n",
    "for i in df['Location'].unique():\n",
    "    for j in a:\n",
    "        if j in i:\n",
    "            df['Location'] = df['Location'].replace(i , 'Versova, Mumbai')"
   ]
  },
  {
   "cell_type": "code",
   "execution_count": 61,
   "id": "e9d81ebf",
   "metadata": {},
   "outputs": [],
   "source": [
    "a = ['Chandivali', 'Saki Vihar Complex Road']\n",
    "for i in df['Location'].unique():\n",
    "    for j in a:\n",
    "        if j in i:\n",
    "            df['Location'] = df['Location'].replace(i , 'Chandivali, Mumbai')"
   ]
  },
  {
   "cell_type": "code",
   "execution_count": 62,
   "id": "5d3465d0",
   "metadata": {},
   "outputs": [],
   "source": [
    "a = ['Jogeshwari', 'Oberoi Splendor']\n",
    "for i in df['Location'].unique():\n",
    "    for j in a:\n",
    "        if j in i:\n",
    "            df['Location'] = df['Location'].replace(i , 'Chandivali, Mumbai')"
   ]
  },
  {
   "cell_type": "code",
   "execution_count": 63,
   "id": "7c0c452d",
   "metadata": {},
   "outputs": [],
   "source": [
    "a = ['Santacruz', 'Vakola', 'vakola','Kalina']\n",
    "for i in df['Location'].unique():\n",
    "    for j in a:\n",
    "        if j in i:\n",
    "            df['Location'] = df['Location'].replace(i , 'Santacruz, Mumbai')"
   ]
  },
  {
   "cell_type": "code",
   "execution_count": 64,
   "id": "8c184cfb",
   "metadata": {},
   "outputs": [],
   "source": [
    "a = ['Worli', 'worli', 'Bandstand']\n",
    "for i in df['Location'].unique():\n",
    "    for j in a:\n",
    "        if j in i:\n",
    "            df['Location'] = df['Location'].replace(i , 'Worli, Mumbai')"
   ]
  },
  {
   "cell_type": "code",
   "execution_count": 65,
   "id": "55141c95",
   "metadata": {},
   "outputs": [],
   "source": [
    "a = ['Tardeo', 'Tulsiwadi','Tulsiwadi', 'Altamount Road']\n",
    "for i in df['Location'].unique():\n",
    "    for j in a:\n",
    "        if j in i:\n",
    "            df['Location'] = df['Location'].replace(i , 'Tardeo, Mumbai')"
   ]
  },
  {
   "cell_type": "code",
   "execution_count": 66,
   "id": "4ac8fff9",
   "metadata": {},
   "outputs": [],
   "source": [
    "a = ['kandivali','Akurli', 'akurli', 'Kandivali', 'Aarya Chanakya Nagar', 'Lokhandwala Twp']\n",
    "for i in df['Location'].unique():\n",
    "    for j in a:\n",
    "        if j in i:\n",
    "            df['Location'] = df['Location'].replace(i , 'Kandivali, Mumbai')"
   ]
  },
  {
   "cell_type": "code",
   "execution_count": 67,
   "id": "d133bb10",
   "metadata": {},
   "outputs": [],
   "source": [
    "a = ['Cumballa Hill', 'Haji Ali','Breach Candy']\n",
    "for i in df['Location'].unique():\n",
    "    for j in a:\n",
    "        if j in i:\n",
    "            df['Location'] = df['Location'].replace(i , 'Tulsiwadi, Mumbai')"
   ]
  },
  {
   "cell_type": "code",
   "execution_count": 68,
   "id": "a51f0017",
   "metadata": {},
   "outputs": [],
   "source": [
    "a = ['Juhu', 'jvpd', 'juhu']\n",
    "for i in df['Location'].unique():\n",
    "    for j in a:\n",
    "        if j in i:\n",
    "            df['Location'] = df['Location'].replace(i , 'Juhu, Mumbai')"
   ]
  },
  {
   "cell_type": "code",
   "execution_count": 69,
   "id": "f6b8943d",
   "metadata": {},
   "outputs": [],
   "source": [
    "a = ['Chembur', 'Tilak Nagar','Deonar']\n",
    "for i in df['Location'].unique():\n",
    "    for j in a:\n",
    "        if j in i:\n",
    "            df['Location'] = df['Location'].replace(i , 'Chembur, Mumbai')"
   ]
  },
  {
   "cell_type": "code",
   "execution_count": 70,
   "id": "1afacb1b",
   "metadata": {},
   "outputs": [],
   "source": [
    "a = ['Mazagaon', 'Umerkhadi', 'Mazgaon']\n",
    "for i in df['Location'].unique():\n",
    "    for j in a:\n",
    "        if j in i:\n",
    "            df['Location'] = df['Location'].replace(i , 'Mazgaon, Mumbai')"
   ]
  },
  {
   "cell_type": "code",
   "execution_count": 71,
   "id": "5c1bda5d",
   "metadata": {},
   "outputs": [],
   "source": [
    "a = ['Malad', 'Kurar']\n",
    "for i in df['Location'].unique():\n",
    "    for j in a:\n",
    "        if j in i:\n",
    "            df['Location'] = df['Location'].replace(i , 'Malad, Mumbai')"
   ]
  },
  {
   "cell_type": "code",
   "execution_count": 72,
   "id": "17663ba1",
   "metadata": {},
   "outputs": [],
   "source": [
    "a = ['Goregaon', 'Film City road', 'Gokuldham','Piramal Nagar Housing Society Road']\n",
    "for i in df['Location'].unique():\n",
    "    for j in a:\n",
    "        if j in i:\n",
    "            df['Location'] = df['Location'].replace(i , 'Goregaon, Mumbai')"
   ]
  },
  {
   "cell_type": "code",
   "execution_count": 73,
   "id": "0680cf3f",
   "metadata": {},
   "outputs": [],
   "source": [
    "a = ['Ghatkopar', 'ghatkopar']\n",
    "for i in df['Location'].unique():\n",
    "    for j in a:\n",
    "        if j in i:\n",
    "            df['Location'] = df['Location'].replace(i , 'Ghatkopar, Mumbai')"
   ]
  },
  {
   "cell_type": "code",
   "execution_count": 74,
   "id": "399792b0",
   "metadata": {},
   "outputs": [],
   "source": [
    "a = ['Kamathipura', 'G B Road']\n",
    "for i in df['Location'].unique():\n",
    "    for j in a:\n",
    "        if j in i:\n",
    "            df['Location'] = df['Location'].replace(i , 'Kamathipura, Mumbai')"
   ]
  },
  {
   "cell_type": "code",
   "execution_count": 75,
   "id": "b5e09e79",
   "metadata": {},
   "outputs": [],
   "source": [
    "a = ['Shivaji Park', 'Dadar']\n",
    "for i in df['Location'].unique():\n",
    "    for j in a:\n",
    "        if j in i:\n",
    "            df['Location'] = df['Location'].replace(i , 'Dadar, Mumbai')"
   ]
  },
  {
   "cell_type": "code",
   "execution_count": 76,
   "id": "4889866a",
   "metadata": {},
   "outputs": [],
   "source": [
    "a = ['matunga', 'Matunga']\n",
    "for i in df['Location'].unique():\n",
    "    for j in a:\n",
    "        if j in i:\n",
    "            df['Location'] = df['Location'].replace(i , 'Matunga, Mumbai')"
   ]
  },
  {
   "cell_type": "code",
   "execution_count": 77,
   "id": "aa1b3107",
   "metadata": {},
   "outputs": [],
   "source": [
    "#Vile Parle\n",
    "a = ['Vile Parle', 'vile parle', 'Ville Parle', 'Gulmohar Road']\n",
    "for i in df['Location'].unique():\n",
    "    for j in a:\n",
    "        if j in i:\n",
    "            df['Location'] = df['Location'].replace(i , 'Vile Parle, Mumbai')"
   ]
  },
  {
   "cell_type": "code",
   "execution_count": 78,
   "id": "1860d7c9",
   "metadata": {},
   "outputs": [],
   "source": [
    "#colaba\n",
    "a = ['colaba', 'Colaba','Cuffe Parade']\n",
    "for i in df['Location'].unique():\n",
    "    for j in a:\n",
    "        if j in i:\n",
    "            df['Location'] = df['Location'].replace(i , 'Colaba, Mumbai')"
   ]
  },
  {
   "cell_type": "code",
   "execution_count": 79,
   "id": "db94c5ba",
   "metadata": {},
   "outputs": [],
   "source": [
    "#MATUNGA\n",
    "a = ['MATUNGA', 'Matunga']\n",
    "for i in df['Location'].unique():\n",
    "    for j in a:\n",
    "        if j in i:\n",
    "            df['Location'] = df['Location'].replace(i , 'Matunga, Mumbai')"
   ]
  },
  {
   "cell_type": "code",
   "execution_count": 80,
   "id": "2736ae85",
   "metadata": {},
   "outputs": [],
   "source": [
    "a = ['Khar', '5th Rd']\n",
    "for i in df['Location'].unique():\n",
    "    for j in a:\n",
    "        if j in i and 'Kharghar' not in i and 'Khardi' not in i:\n",
    "            df['Location'] = df['Location'].replace(i , 'Khar, Mumbai')"
   ]
  },
  {
   "cell_type": "code",
   "execution_count": 81,
   "id": "1f2fc201",
   "metadata": {},
   "outputs": [],
   "source": [
    "#Powai\n",
    "a = ['Powai', 'Hiranandani','hiranandani estate']\n",
    "for i in df['Location'].unique():\n",
    "    for j in a:\n",
    "        if j in i:\n",
    "            df['Location'] = df['Location'].replace(i , 'Powai, Mumbai')"
   ]
  },
  {
   "cell_type": "code",
   "execution_count": 82,
   "id": "8d95e21b",
   "metadata": {},
   "outputs": [],
   "source": [
    "a = ['Pali Hill', 'St Andrew Rd']\n",
    "for i in df['Location'].unique():\n",
    "    for j in a:\n",
    "        if j in i:\n",
    "            df['Location'] = df['Location'].replace(i , 'Pali Hill, Mumbai')"
   ]
  },
  {
   "cell_type": "code",
   "execution_count": 83,
   "id": "3b506c9f",
   "metadata": {},
   "outputs": [],
   "source": [
    "a = ['Lower Parel', 'lower parel', 'Curry Road']\n",
    "for i in df['Location'].unique():\n",
    "    for j in a:\n",
    "        if j in i:\n",
    "            df['Location'] = df['Location'].replace(i , 'Lower Parel, Mumbai')"
   ]
  },
  {
   "cell_type": "code",
   "execution_count": 84,
   "id": "bc6f6310",
   "metadata": {},
   "outputs": [],
   "source": [
    "a = ['Vikhroli', 'vikhroli', 'Vikroli']\n",
    "for i in df['Location'].unique():\n",
    "    for j in a:\n",
    "        if j in i:\n",
    "            df['Location'] = df['Location'].replace(i , 'Vikroli, Mumbai')"
   ]
  },
  {
   "cell_type": "code",
   "execution_count": 85,
   "id": "12b3e6e5",
   "metadata": {},
   "outputs": [],
   "source": [
    "a = ['Malabar Hill', 'Napeansea Road', 'Walkeshwar']\n",
    "for i in df['Location'].unique():\n",
    "    for j in a:\n",
    "        if j in i:\n",
    "            df['Location'] = df['Location'].replace(i , 'Malabar Hill, Mumbai')"
   ]
  },
  {
   "cell_type": "code",
   "execution_count": 86,
   "id": "9cce5b92",
   "metadata": {},
   "outputs": [
    {
     "data": {
      "text/html": [
       "<div>\n",
       "<style scoped>\n",
       "    .dataframe tbody tr th:only-of-type {\n",
       "        vertical-align: middle;\n",
       "    }\n",
       "\n",
       "    .dataframe tbody tr th {\n",
       "        vertical-align: top;\n",
       "    }\n",
       "\n",
       "    .dataframe thead th {\n",
       "        text-align: right;\n",
       "    }\n",
       "</style>\n",
       "<table border=\"1\" class=\"dataframe\">\n",
       "  <thead>\n",
       "    <tr style=\"text-align: right;\">\n",
       "      <th></th>\n",
       "      <th>Facing</th>\n",
       "      <th>Square Feet</th>\n",
       "      <th>BHK Apartment</th>\n",
       "      <th>Price</th>\n",
       "      <th>Furnish Status</th>\n",
       "      <th>Deposit Status</th>\n",
       "      <th>Bathroom Count</th>\n",
       "      <th>Location</th>\n",
       "      <th>Amenities</th>\n",
       "    </tr>\n",
       "  </thead>\n",
       "  <tbody>\n",
       "    <tr>\n",
       "      <th>0</th>\n",
       "      <td>NaN</td>\n",
       "      <td>1180</td>\n",
       "      <td>2 BHK Apartment</td>\n",
       "      <td>19000</td>\n",
       "      <td>Furnished</td>\n",
       "      <td>0</td>\n",
       "      <td>2 bathrooms</td>\n",
       "      <td>Panvel, Mumbai</td>\n",
       "      <td>Swimming Pool, Lift(s), 24 X 7 Security, Staff...</td>\n",
       "    </tr>\n",
       "    <tr>\n",
       "      <th>1</th>\n",
       "      <td>NaN</td>\n",
       "      <td>1120</td>\n",
       "      <td>2 BHK Apartment</td>\n",
       "      <td>12500</td>\n",
       "      <td>Unfurnished</td>\n",
       "      <td>0</td>\n",
       "      <td>2 bathrooms</td>\n",
       "      <td>Panvel, Mumbai</td>\n",
       "      <td>Lift(s), Full Power Backup, 24 X 7 Security, C...</td>\n",
       "    </tr>\n",
       "    <tr>\n",
       "      <th>2</th>\n",
       "      <td>NaN</td>\n",
       "      <td>750</td>\n",
       "      <td>2 BHK Apartment</td>\n",
       "      <td>28500</td>\n",
       "      <td>Unfurnished</td>\n",
       "      <td>0</td>\n",
       "      <td>2 bathrooms</td>\n",
       "      <td>Kandivali, Mumbai</td>\n",
       "      <td>Lift(s), Full Power Backup, 24 X 7 Security, C...</td>\n",
       "    </tr>\n",
       "    <tr>\n",
       "      <th>3</th>\n",
       "      <td>East facing</td>\n",
       "      <td>1400</td>\n",
       "      <td>3 BHK Apartment</td>\n",
       "      <td>50000</td>\n",
       "      <td>Semi-Furnished</td>\n",
       "      <td>0</td>\n",
       "      <td>3 bathrooms</td>\n",
       "      <td>Chembur, Mumbai</td>\n",
       "      <td>Gymnasium, Lift(s), Intercom, Sports Facility,...</td>\n",
       "    </tr>\n",
       "    <tr>\n",
       "      <th>4</th>\n",
       "      <td>East facing</td>\n",
       "      <td>450</td>\n",
       "      <td>1 RK Studio Apartment</td>\n",
       "      <td>3000</td>\n",
       "      <td>Unfurnished</td>\n",
       "      <td>0</td>\n",
       "      <td>1 bathrooms</td>\n",
       "      <td>Badlapur, Mumbai</td>\n",
       "      <td>Car Parking, Multipurpose Room, Sports Facilit...</td>\n",
       "    </tr>\n",
       "    <tr>\n",
       "      <th>...</th>\n",
       "      <td>...</td>\n",
       "      <td>...</td>\n",
       "      <td>...</td>\n",
       "      <td>...</td>\n",
       "      <td>...</td>\n",
       "      <td>...</td>\n",
       "      <td>...</td>\n",
       "      <td>...</td>\n",
       "      <td>...</td>\n",
       "    </tr>\n",
       "    <tr>\n",
       "      <th>10399</th>\n",
       "      <td>NaN</td>\n",
       "      <td>650</td>\n",
       "      <td>1 BHK Apartment</td>\n",
       "      <td>16000</td>\n",
       "      <td>Unfurnished</td>\n",
       "      <td>45000</td>\n",
       "      <td>1 bathrooms</td>\n",
       "      <td>Ghansoli, Mumbai</td>\n",
       "      <td>Indoor Games, ATM, Maintenance Staff, Hospital...</td>\n",
       "    </tr>\n",
       "    <tr>\n",
       "      <th>10400</th>\n",
       "      <td>NaN</td>\n",
       "      <td>687</td>\n",
       "      <td>1 BHK Apartment</td>\n",
       "      <td>39000</td>\n",
       "      <td>Furnished</td>\n",
       "      <td>125000</td>\n",
       "      <td>2 bathrooms</td>\n",
       "      <td>Ghansoli, Mumbai</td>\n",
       "      <td>Maintenance Staff, ATM, Intercom, Lift(s), Gol...</td>\n",
       "    </tr>\n",
       "    <tr>\n",
       "      <th>10401</th>\n",
       "      <td>NaN</td>\n",
       "      <td>680</td>\n",
       "      <td>1 BHK Apartment</td>\n",
       "      <td>18000</td>\n",
       "      <td>Unfurnished</td>\n",
       "      <td>55000</td>\n",
       "      <td>1 bathrooms</td>\n",
       "      <td>Ghansoli, Mumbai</td>\n",
       "      <td>Indoor Games, ATM, Lift(s), Full Power Backup,...</td>\n",
       "    </tr>\n",
       "    <tr>\n",
       "      <th>10402</th>\n",
       "      <td>NaN</td>\n",
       "      <td>1250</td>\n",
       "      <td>2 BHK Apartment</td>\n",
       "      <td>33500</td>\n",
       "      <td>Furnished</td>\n",
       "      <td>0</td>\n",
       "      <td>2 bathrooms</td>\n",
       "      <td>Ghansoli, Mumbai</td>\n",
       "      <td>Jogging Track, Car Parking, Vaastu Compliant, ...</td>\n",
       "    </tr>\n",
       "    <tr>\n",
       "      <th>10403</th>\n",
       "      <td>NaN</td>\n",
       "      <td>1200</td>\n",
       "      <td>2 BHK Apartment</td>\n",
       "      <td>35000</td>\n",
       "      <td>Furnished</td>\n",
       "      <td>0</td>\n",
       "      <td>3 bathrooms</td>\n",
       "      <td>Ghansoli, Mumbai</td>\n",
       "      <td>ATM, Lift(s), Indoor Games, Full Power Backup,...</td>\n",
       "    </tr>\n",
       "  </tbody>\n",
       "</table>\n",
       "<p>10404 rows × 9 columns</p>\n",
       "</div>"
      ],
      "text/plain": [
       "            Facing  Square Feet          BHK Apartment  Price  Furnish Status  \\\n",
       "0              NaN         1180        2 BHK Apartment  19000       Furnished   \n",
       "1              NaN         1120        2 BHK Apartment  12500     Unfurnished   \n",
       "2              NaN          750        2 BHK Apartment  28500     Unfurnished   \n",
       "3      East facing         1400        3 BHK Apartment  50000  Semi-Furnished   \n",
       "4      East facing          450  1 RK Studio Apartment   3000     Unfurnished   \n",
       "...            ...          ...                    ...    ...             ...   \n",
       "10399          NaN          650        1 BHK Apartment  16000     Unfurnished   \n",
       "10400          NaN          687        1 BHK Apartment  39000       Furnished   \n",
       "10401          NaN          680        1 BHK Apartment  18000     Unfurnished   \n",
       "10402          NaN         1250        2 BHK Apartment  33500       Furnished   \n",
       "10403          NaN         1200        2 BHK Apartment  35000       Furnished   \n",
       "\n",
       "       Deposit Status Bathroom Count           Location  \\\n",
       "0                   0    2 bathrooms     Panvel, Mumbai   \n",
       "1                   0    2 bathrooms     Panvel, Mumbai   \n",
       "2                   0    2 bathrooms  Kandivali, Mumbai   \n",
       "3                   0    3 bathrooms    Chembur, Mumbai   \n",
       "4                   0    1 bathrooms   Badlapur, Mumbai   \n",
       "...               ...            ...                ...   \n",
       "10399           45000    1 bathrooms   Ghansoli, Mumbai   \n",
       "10400          125000    2 bathrooms   Ghansoli, Mumbai   \n",
       "10401           55000    1 bathrooms   Ghansoli, Mumbai   \n",
       "10402               0    2 bathrooms   Ghansoli, Mumbai   \n",
       "10403               0    3 bathrooms   Ghansoli, Mumbai   \n",
       "\n",
       "                                               Amenities  \n",
       "0      Swimming Pool, Lift(s), 24 X 7 Security, Staff...  \n",
       "1      Lift(s), Full Power Backup, 24 X 7 Security, C...  \n",
       "2      Lift(s), Full Power Backup, 24 X 7 Security, C...  \n",
       "3      Gymnasium, Lift(s), Intercom, Sports Facility,...  \n",
       "4      Car Parking, Multipurpose Room, Sports Facilit...  \n",
       "...                                                  ...  \n",
       "10399  Indoor Games, ATM, Maintenance Staff, Hospital...  \n",
       "10400  Maintenance Staff, ATM, Intercom, Lift(s), Gol...  \n",
       "10401  Indoor Games, ATM, Lift(s), Full Power Backup,...  \n",
       "10402  Jogging Track, Car Parking, Vaastu Compliant, ...  \n",
       "10403  ATM, Lift(s), Indoor Games, Full Power Backup,...  \n",
       "\n",
       "[10404 rows x 9 columns]"
      ]
     },
     "execution_count": 86,
     "metadata": {},
     "output_type": "execute_result"
    }
   ],
   "source": [
    "df"
   ]
  },
  {
   "cell_type": "markdown",
   "id": "a901ded2",
   "metadata": {},
   "source": [
    "# check Outliers"
   ]
  },
  {
   "cell_type": "code",
   "execution_count": 87,
   "id": "99418c39",
   "metadata": {},
   "outputs": [],
   "source": [
    "import matplotlib.pyplot as plt"
   ]
  },
  {
   "cell_type": "code",
   "execution_count": 88,
   "id": "7bfd34d5",
   "metadata": {},
   "outputs": [],
   "source": [
    "def outlier(cat):\n",
    "    fig, ax= plt.subplots(1,2,figsize=(15,8))\n",
    "    ax[0].hist(df[cat])\n",
    "    ax[1].boxplot(df[cat])\n",
    "    plt.suptitle('distribution of '+cat)\n",
    "    plt.show()"
   ]
  },
  {
   "cell_type": "code",
   "execution_count": 89,
   "id": "1b12c72c",
   "metadata": {},
   "outputs": [
    {
     "data": {
      "image/png": "[encoded data removed]",
      "text/plain": [
       "<Figure size 1500x800 with 2 Axes>"
      ]
     },
     "metadata": {},
     "output_type": "display_data"
    },
    {
     "data": {
      "image/png": "[encoded data removed]",
      "text/plain": [
       "<Figure size 1500x800 with 2 Axes>"
      ]
     },
     "metadata": {},
     "output_type": "display_data"
    },
    {
     "data": {
      "image/png": "[encoded data removed]",
      "text/plain": [
       "<Figure size 1500x800 with 2 Axes>"
      ]
     },
     "metadata": {},
     "output_type": "display_data"
    }
   ],
   "source": [
    "for i in df.columns:\n",
    "    if df[i].dtype!='O':\n",
    "        #print(i)\n",
    "        outlier(i)"
   ]
  },
  {
   "cell_type": "code",
   "execution_count": 90,
   "id": "cd71b808",
   "metadata": {},
   "outputs": [
    {
     "name": "stdout",
     "output_type": "stream",
     "text": [
      "-225.0 2055.0\n"
     ]
    }
   ],
   "source": [
    "q1= df['Square Feet'].quantile(0.25)\n",
    "q3= df['Square Feet'].quantile(0.75)\n",
    "iqr= q3-q1\n",
    "lf= q1-1.5*iqr\n",
    "uf= q3+1.5*iqr\n",
    "print(lf, uf)"
   ]
  },
  {
   "cell_type": "code",
   "execution_count": 91,
   "id": "f86cfb2d",
   "metadata": {},
   "outputs": [
    {
     "data": {
      "text/plain": [
       "0"
      ]
     },
     "execution_count": 91,
     "metadata": {},
     "output_type": "execute_result"
    }
   ],
   "source": [
    "df[df['Square Feet']<lf].shape[0]"
   ]
  },
  {
   "cell_type": "code",
   "execution_count": 92,
   "id": "c9c0d1a2",
   "metadata": {},
   "outputs": [
    {
     "data": {
      "text/plain": [
       "421"
      ]
     },
     "execution_count": 92,
     "metadata": {},
     "output_type": "execute_result"
    }
   ],
   "source": [
    "df[df['Square Feet']>uf].shape[0]"
   ]
  },
  {
   "cell_type": "code",
   "execution_count": 93,
   "id": "9e2bcd59",
   "metadata": {},
   "outputs": [
    {
     "name": "stdout",
     "output_type": "stream",
     "text": [
      "-47485.625 132491.375\n"
     ]
    }
   ],
   "source": [
    "q1= df['Price'].quantile(0.25)\n",
    "q3= df['Price'].quantile(0.75)\n",
    "iqr= q3-q1\n",
    "lf= q1-1.5*iqr\n",
    "uf= q3+1.5*iqr\n",
    "print(lf, uf)"
   ]
  },
  {
   "cell_type": "code",
   "execution_count": 94,
   "id": "afad4cae",
   "metadata": {},
   "outputs": [
    {
     "data": {
      "text/plain": [
       "0"
      ]
     },
     "execution_count": 94,
     "metadata": {},
     "output_type": "execute_result"
    }
   ],
   "source": [
    "df[df['Price']<lf].shape[0]"
   ]
  },
  {
   "cell_type": "code",
   "execution_count": 95,
   "id": "37510caa",
   "metadata": {},
   "outputs": [
    {
     "data": {
      "text/plain": [
       "831"
      ]
     },
     "execution_count": 95,
     "metadata": {},
     "output_type": "execute_result"
    }
   ],
   "source": [
    "df[df['Price']>uf].shape[0]"
   ]
  },
  {
   "cell_type": "code",
   "execution_count": 96,
   "id": "27ea94a7",
   "metadata": {},
   "outputs": [
    {
     "name": "stdout",
     "output_type": "stream",
     "text": [
      "-150000.0 250000.0\n"
     ]
    }
   ],
   "source": [
    "q1= df['Deposit Status'].quantile(0.25)\n",
    "q3= df['Deposit Status'].quantile(0.75)\n",
    "iqr= q3-q1\n",
    "lf= q1-1.5*iqr\n",
    "uf= q3+1.5*iqr\n",
    "print(lf, uf)"
   ]
  },
  {
   "cell_type": "code",
   "execution_count": 97,
   "id": "6f50fadb",
   "metadata": {},
   "outputs": [
    {
     "data": {
      "text/plain": [
       "0"
      ]
     },
     "execution_count": 97,
     "metadata": {},
     "output_type": "execute_result"
    }
   ],
   "source": [
    "df[df['Deposit Status']<lf].shape[0]"
   ]
  },
  {
   "cell_type": "code",
   "execution_count": 98,
   "id": "67e358a2",
   "metadata": {},
   "outputs": [
    {
     "data": {
      "text/plain": [
       "673"
      ]
     },
     "execution_count": 98,
     "metadata": {},
     "output_type": "execute_result"
    }
   ],
   "source": [
    "df[df['Deposit Status']>uf].shape[0]"
   ]
  },
  {
   "cell_type": "markdown",
   "id": "1853e326",
   "metadata": {},
   "source": [
    "Label Encoding On Categorical Columns"
   ]
  },
  {
   "cell_type": "code",
   "execution_count": 99,
   "id": "04acc53d",
   "metadata": {},
   "outputs": [
    {
     "data": {
      "text/html": [
       "<div>\n",
       "<style scoped>\n",
       "    .dataframe tbody tr th:only-of-type {\n",
       "        vertical-align: middle;\n",
       "    }\n",
       "\n",
       "    .dataframe tbody tr th {\n",
       "        vertical-align: top;\n",
       "    }\n",
       "\n",
       "    .dataframe thead th {\n",
       "        text-align: right;\n",
       "    }\n",
       "</style>\n",
       "<table border=\"1\" class=\"dataframe\">\n",
       "  <thead>\n",
       "    <tr style=\"text-align: right;\">\n",
       "      <th></th>\n",
       "      <th>Facing</th>\n",
       "      <th>Square Feet</th>\n",
       "      <th>BHK Apartment</th>\n",
       "      <th>Price</th>\n",
       "      <th>Furnish Status</th>\n",
       "      <th>Deposit Status</th>\n",
       "      <th>Bathroom Count</th>\n",
       "      <th>Location</th>\n",
       "      <th>Amenities</th>\n",
       "    </tr>\n",
       "  </thead>\n",
       "  <tbody>\n",
       "    <tr>\n",
       "      <th>0</th>\n",
       "      <td>NaN</td>\n",
       "      <td>1180</td>\n",
       "      <td>2 BHK Apartment</td>\n",
       "      <td>19000</td>\n",
       "      <td>Furnished</td>\n",
       "      <td>0</td>\n",
       "      <td>2 bathrooms</td>\n",
       "      <td>Panvel, Mumbai</td>\n",
       "      <td>Swimming Pool, Lift(s), 24 X 7 Security, Staff...</td>\n",
       "    </tr>\n",
       "    <tr>\n",
       "      <th>1</th>\n",
       "      <td>NaN</td>\n",
       "      <td>1120</td>\n",
       "      <td>2 BHK Apartment</td>\n",
       "      <td>12500</td>\n",
       "      <td>Unfurnished</td>\n",
       "      <td>0</td>\n",
       "      <td>2 bathrooms</td>\n",
       "      <td>Panvel, Mumbai</td>\n",
       "      <td>Lift(s), Full Power Backup, 24 X 7 Security, C...</td>\n",
       "    </tr>\n",
       "    <tr>\n",
       "      <th>2</th>\n",
       "      <td>NaN</td>\n",
       "      <td>750</td>\n",
       "      <td>2 BHK Apartment</td>\n",
       "      <td>28500</td>\n",
       "      <td>Unfurnished</td>\n",
       "      <td>0</td>\n",
       "      <td>2 bathrooms</td>\n",
       "      <td>Kandivali, Mumbai</td>\n",
       "      <td>Lift(s), Full Power Backup, 24 X 7 Security, C...</td>\n",
       "    </tr>\n",
       "    <tr>\n",
       "      <th>3</th>\n",
       "      <td>East facing</td>\n",
       "      <td>1400</td>\n",
       "      <td>3 BHK Apartment</td>\n",
       "      <td>50000</td>\n",
       "      <td>Semi-Furnished</td>\n",
       "      <td>0</td>\n",
       "      <td>3 bathrooms</td>\n",
       "      <td>Chembur, Mumbai</td>\n",
       "      <td>Gymnasium, Lift(s), Intercom, Sports Facility,...</td>\n",
       "    </tr>\n",
       "    <tr>\n",
       "      <th>4</th>\n",
       "      <td>East facing</td>\n",
       "      <td>450</td>\n",
       "      <td>1 RK Studio Apartment</td>\n",
       "      <td>3000</td>\n",
       "      <td>Unfurnished</td>\n",
       "      <td>0</td>\n",
       "      <td>1 bathrooms</td>\n",
       "      <td>Badlapur, Mumbai</td>\n",
       "      <td>Car Parking, Multipurpose Room, Sports Facilit...</td>\n",
       "    </tr>\n",
       "  </tbody>\n",
       "</table>\n",
       "</div>"
      ],
      "text/plain": [
       "        Facing  Square Feet          BHK Apartment  Price  Furnish Status  \\\n",
       "0          NaN         1180        2 BHK Apartment  19000       Furnished   \n",
       "1          NaN         1120        2 BHK Apartment  12500     Unfurnished   \n",
       "2          NaN          750        2 BHK Apartment  28500     Unfurnished   \n",
       "3  East facing         1400        3 BHK Apartment  50000  Semi-Furnished   \n",
       "4  East facing          450  1 RK Studio Apartment   3000     Unfurnished   \n",
       "\n",
       "   Deposit Status Bathroom Count           Location  \\\n",
       "0               0    2 bathrooms     Panvel, Mumbai   \n",
       "1               0    2 bathrooms     Panvel, Mumbai   \n",
       "2               0    2 bathrooms  Kandivali, Mumbai   \n",
       "3               0    3 bathrooms    Chembur, Mumbai   \n",
       "4               0    1 bathrooms   Badlapur, Mumbai   \n",
       "\n",
       "                                           Amenities  \n",
       "0  Swimming Pool, Lift(s), 24 X 7 Security, Staff...  \n",
       "1  Lift(s), Full Power Backup, 24 X 7 Security, C...  \n",
       "2  Lift(s), Full Power Backup, 24 X 7 Security, C...  \n",
       "3  Gymnasium, Lift(s), Intercom, Sports Facility,...  \n",
       "4  Car Parking, Multipurpose Room, Sports Facilit...  "
      ]
     },
     "execution_count": 99,
     "metadata": {},
     "output_type": "execute_result"
    }
   ],
   "source": [
    "df.head()"
   ]
  },
  {
   "cell_type": "code",
   "execution_count": 100,
   "id": "840bff0b",
   "metadata": {},
   "outputs": [],
   "source": [
    "from sklearn.preprocessing import OrdinalEncoder"
   ]
  },
  {
   "cell_type": "code",
   "execution_count": 101,
   "id": "f34d9928",
   "metadata": {},
   "outputs": [
    {
     "name": "stdout",
     "output_type": "stream",
     "text": [
      "            Facing  Square Feet  BHK Apartment  Price  Furnish Status  \\\n",
      "0              NaN         1180            5.0  19000             0.0   \n",
      "1              NaN         1120            5.0  12500             2.0   \n",
      "2              NaN          750            5.0  28500             2.0   \n",
      "3      East facing         1400            8.0  50000             1.0   \n",
      "4      East facing          450            4.0   3000             2.0   \n",
      "...            ...          ...            ...    ...             ...   \n",
      "10399          NaN          650            0.0  16000             2.0   \n",
      "10400          NaN          687            0.0  39000             0.0   \n",
      "10401          NaN          680            0.0  18000             2.0   \n",
      "10402          NaN         1250            5.0  33500             0.0   \n",
      "10403          NaN         1200            5.0  35000             0.0   \n",
      "\n",
      "       Deposit Status  Bathroom Count  Location  \\\n",
      "0                   0             1.0      57.0   \n",
      "1                   0             1.0      57.0   \n",
      "2                   0             1.0      31.0   \n",
      "3                   0             2.0      11.0   \n",
      "4                   0             0.0       3.0   \n",
      "...               ...             ...       ...   \n",
      "10399           45000             0.0      21.0   \n",
      "10400          125000             1.0      21.0   \n",
      "10401           55000             0.0      21.0   \n",
      "10402               0             1.0      21.0   \n",
      "10403               0             2.0      21.0   \n",
      "\n",
      "                                               Amenities  \n",
      "0      Swimming Pool, Lift(s), 24 X 7 Security, Staff...  \n",
      "1      Lift(s), Full Power Backup, 24 X 7 Security, C...  \n",
      "2      Lift(s), Full Power Backup, 24 X 7 Security, C...  \n",
      "3      Gymnasium, Lift(s), Intercom, Sports Facility,...  \n",
      "4      Car Parking, Multipurpose Room, Sports Facilit...  \n",
      "...                                                  ...  \n",
      "10399  Indoor Games, ATM, Maintenance Staff, Hospital...  \n",
      "10400  Maintenance Staff, ATM, Intercom, Lift(s), Gol...  \n",
      "10401  Indoor Games, ATM, Lift(s), Full Power Backup,...  \n",
      "10402  Jogging Track, Car Parking, Vaastu Compliant, ...  \n",
      "10403  ATM, Lift(s), Indoor Games, Full Power Backup,...  \n",
      "\n",
      "[10404 rows x 9 columns]\n"
     ]
    }
   ],
   "source": [
    "encoder = OrdinalEncoder()\n",
    "\n",
    "encoded_data = encoder.fit_transform(df[[\"BHK Apartment\", \"Bathroom Count\", \"Location\",'Furnish Status']])\n",
    "\n",
    "df[[\"BHK Apartment\", \"Bathroom Count\", \"Location\", 'Furnish Status']] = encoded_data\n",
    "\n",
    "print(df)"
   ]
  },
  {
   "cell_type": "markdown",
   "id": "0b46a11d",
   "metadata": {},
   "source": [
    "# Step 1 without Amenities column and without treating outliers "
   ]
  },
  {
   "cell_type": "code",
   "execution_count": 102,
   "id": "c1972790",
   "metadata": {},
   "outputs": [],
   "source": [
    "X = df.loc[:, ~df.columns.isin([\"Facing\", \"Price\", \"Amenities\"])]\n",
    "y = df[\"Price\"]"
   ]
  },
  {
   "cell_type": "code",
   "execution_count": 103,
   "id": "97c8229a",
   "metadata": {},
   "outputs": [
    {
     "data": {
      "text/plain": [
       "Square Feet       0\n",
       "BHK Apartment     0\n",
       "Furnish Status    0\n",
       "Deposit Status    0\n",
       "Bathroom Count    0\n",
       "Location          0\n",
       "dtype: int64"
      ]
     },
     "execution_count": 103,
     "metadata": {},
     "output_type": "execute_result"
    }
   ],
   "source": [
    "X.isnull().sum()"
   ]
  },
  {
   "cell_type": "code",
   "execution_count": 104,
   "id": "ea7a6646",
   "metadata": {},
   "outputs": [
    {
     "data": {
      "text/plain": [
       "0        19000\n",
       "1        12500\n",
       "2        28500\n",
       "3        50000\n",
       "4         3000\n",
       "         ...  \n",
       "10399    16000\n",
       "10400    39000\n",
       "10401    18000\n",
       "10402    33500\n",
       "10403    35000\n",
       "Name: Price, Length: 10404, dtype: int64"
      ]
     },
     "execution_count": 104,
     "metadata": {},
     "output_type": "execute_result"
    }
   ],
   "source": [
    "y"
   ]
  },
  {
   "cell_type": "code",
   "execution_count": 105,
   "id": "f8d0c8c0",
   "metadata": {},
   "outputs": [
    {
     "data": {
      "text/plain": [
       "<Axes: >"
      ]
     },
     "execution_count": 105,
     "metadata": {},
     "output_type": "execute_result"
    },
    {
     "data": {
      "image/png": "[encoded data removed]",
      "text/plain": [
       "<Figure size 640x480 with 2 Axes>"
      ]
     },
     "metadata": {},
     "output_type": "display_data"
    }
   ],
   "source": [
    "import seaborn as sns\n",
    "import matplotlib.pyplot as plt\n",
    "sns.heatmap(X.corr())"
   ]
  },
  {
   "cell_type": "markdown",
   "id": "a53a6599",
   "metadata": {},
   "source": [
    "# Linear Regression"
   ]
  },
  {
   "cell_type": "code",
   "execution_count": 106,
   "id": "04a50952",
   "metadata": {},
   "outputs": [],
   "source": [
    "from sklearn.model_selection import train_test_split\n",
    "from sklearn.linear_model import LinearRegression"
   ]
  },
  {
   "cell_type": "code",
   "execution_count": 107,
   "id": "46233531",
   "metadata": {},
   "outputs": [],
   "source": [
    "x_train, x_test, y_train, y_test = train_test_split(X,y, test_size=0.2, random_state=43)"
   ]
  },
  {
   "cell_type": "code",
   "execution_count": 108,
   "id": "1b98df6e",
   "metadata": {},
   "outputs": [],
   "source": [
    "lin_reg=LinearRegression()\n",
    "lin_reg.fit(x_train,y_train)\n",
    "y_pred_lin=lin_reg.predict(x_train)\n",
    "y_test_pred=lin_reg.predict(x_test)"
   ]
  },
  {
   "cell_type": "code",
   "execution_count": 109,
   "id": "97746f7b",
   "metadata": {},
   "outputs": [
    {
     "name": "stdout",
     "output_type": "stream",
     "text": [
      "Mean squared error:  2905560273.150858\n",
      "Mean absolute error:  31235.330055521357\n",
      "R2 score:  0.5657273133546488\n"
     ]
    }
   ],
   "source": [
    "from sklearn import metrics\n",
    "print(\"Mean squared error: \",metrics.mean_squared_error(y_train,y_pred_lin))\n",
    "print(\"Mean absolute error: \",metrics.mean_absolute_error(y_train,y_pred_lin))\n",
    "print(\"R2 score: \",metrics.r2_score(y_train,y_pred_lin))"
   ]
  },
  {
   "cell_type": "code",
   "execution_count": 110,
   "id": "06a247e3",
   "metadata": {},
   "outputs": [
    {
     "name": "stdout",
     "output_type": "stream",
     "text": [
      "Mean squared error:  2712729940.522195\n",
      "Mean absolute error:  30662.57257478961\n",
      "R2 score:  0.6123241824746819\n"
     ]
    }
   ],
   "source": [
    "from sklearn import metrics\n",
    "print(\"Mean squared error: \",metrics.mean_squared_error(y_test,y_test_pred))\n",
    "print(\"Mean absolute error: \",metrics.mean_absolute_error(y_test,y_test_pred))\n",
    "print(\"R2 score: \",metrics.r2_score(y_test,y_test_pred))"
   ]
  },
  {
   "cell_type": "markdown",
   "id": "d9e7e76e",
   "metadata": {},
   "source": [
    "# Polynomial "
   ]
  },
  {
   "cell_type": "code",
   "execution_count": 111,
   "id": "05e87a9c",
   "metadata": {},
   "outputs": [],
   "source": [
    "from sklearn.preprocessing import PolynomialFeatures\n",
    "from sklearn.tree import DecisionTreeRegressor\n",
    "from sklearn.ensemble import RandomForestRegressor\n",
    "from sklearn.svm import SVR"
   ]
  },
  {
   "cell_type": "code",
   "execution_count": 112,
   "id": "65d31e6e",
   "metadata": {},
   "outputs": [],
   "source": [
    "degree=2\n",
    "poly= PolynomialFeatures(degree= degree)\n",
    "xpoly= poly.fit_transform(x_train)\n",
    "pol_reg= LinearRegression()\n",
    "pol_reg.fit(xpoly, y_train)\n",
    "pol_train_pred= pol_reg.predict(xpoly)\n",
    "pol_test_pred=pol_reg.predict(poly.fit_transform(x_test))"
   ]
  },
  {
   "cell_type": "code",
   "execution_count": 113,
   "id": "7fb76924",
   "metadata": {},
   "outputs": [
    {
     "name": "stdout",
     "output_type": "stream",
     "text": [
      "Mean squared error:  2378483999.6780353\n",
      "Mean absolute error:  26266.46547461683\n",
      "R2 score:  0.6445055205951558\n"
     ]
    }
   ],
   "source": [
    "print(\"Mean squared error: \",metrics.mean_squared_error(y_train,pol_train_pred))\n",
    "print(\"Mean absolute error: \",metrics.mean_absolute_error(y_train,pol_train_pred))\n",
    "print(\"R2 score: \",metrics.r2_score(y_train,pol_train_pred))"
   ]
  },
  {
   "cell_type": "code",
   "execution_count": 114,
   "id": "cc6de803",
   "metadata": {},
   "outputs": [
    {
     "name": "stdout",
     "output_type": "stream",
     "text": [
      "Mean squared error:  2321207859.0561843\n",
      "Mean absolute error:  25394.896182170498\n",
      "R2 score:  0.6682765427683615\n"
     ]
    }
   ],
   "source": [
    "print(\"Mean squared error: \",metrics.mean_squared_error(y_test,pol_test_pred))\n",
    "print(\"Mean absolute error: \",metrics.mean_absolute_error(y_test,pol_test_pred))\n",
    "print(\"R2 score: \",metrics.r2_score(y_test,pol_test_pred))"
   ]
  },
  {
   "cell_type": "markdown",
   "id": "6a03a907",
   "metadata": {},
   "source": [
    "# Dcision tree regressor"
   ]
  },
  {
   "cell_type": "code",
   "execution_count": 115,
   "id": "c7623918",
   "metadata": {},
   "outputs": [],
   "source": [
    "tree_reg=DecisionTreeRegressor(min_samples_split=50,min_samples_leaf=50)\n",
    "tree_reg.fit(x_train,y_train)\n",
    "tree_pred_train=tree_reg.predict(x_train)\n",
    "tree_pred_test=tree_reg.predict(x_test)"
   ]
  },
  {
   "cell_type": "code",
   "execution_count": 116,
   "id": "7a5188a9",
   "metadata": {},
   "outputs": [
    {
     "name": "stdout",
     "output_type": "stream",
     "text": [
      "Mean squared error:  2388008899.73701\n",
      "Mean absolute error:  21118.917013666825\n",
      "R2 score:  0.6430819039602294\n"
     ]
    }
   ],
   "source": [
    "print(\"Mean squared error: \",metrics.mean_squared_error(y_train,tree_pred_train))\n",
    "print(\"Mean absolute error: \",metrics.mean_absolute_error(y_train,tree_pred_train))\n",
    "print(\"R2 score: \",metrics.r2_score(y_train,tree_pred_train))"
   ]
  },
  {
   "cell_type": "code",
   "execution_count": 117,
   "id": "d66e9e79",
   "metadata": {},
   "outputs": [
    {
     "name": "stdout",
     "output_type": "stream",
     "text": [
      "Mean squared error:  2399065229.9948215\n",
      "Mean absolute error:  21431.942839351213\n",
      "R2 score:  0.6571499578923168\n"
     ]
    }
   ],
   "source": [
    "print(\"Mean squared error: \",metrics.mean_squared_error(y_test,tree_pred_test))\n",
    "print(\"Mean absolute error: \",metrics.mean_absolute_error(y_test,tree_pred_test))\n",
    "print(\"R2 score: \",metrics.r2_score(y_test,tree_pred_test))"
   ]
  },
  {
   "cell_type": "markdown",
   "id": "7643075a",
   "metadata": {},
   "source": [
    "# random forest"
   ]
  },
  {
   "cell_type": "code",
   "execution_count": 118,
   "id": "7d17e929",
   "metadata": {},
   "outputs": [
    {
     "data": {
      "text/plain": [
       "'forest_reg=RandomForestRegressor(min_samples_split=50,min_samples_leaf=50)\\nforest_reg.fit(x_train,y_train) \\nforest_pred_train=tree_reg.predict(x_train)\\nforest_pred_test=tree_reg.predict(x_test)'"
      ]
     },
     "execution_count": 118,
     "metadata": {},
     "output_type": "execute_result"
    }
   ],
   "source": [
    "\"\"\"forest_reg=RandomForestRegressor(min_samples_split=50,min_samples_leaf=50)\n",
    "forest_reg.fit(x_train,y_train) \n",
    "forest_pred_train=tree_reg.predict(x_train)\n",
    "forest_pred_test=tree_reg.predict(x_test)\"\"\""
   ]
  },
  {
   "cell_type": "code",
   "execution_count": 119,
   "id": "c1a90b60",
   "metadata": {},
   "outputs": [
    {
     "data": {
      "text/plain": [
       "'print(\"Mean squared error: \",metrics.mean_squared_error(y_train,forest_pred_train))\\nprint(\"Mean absolute error: \",metrics.mean_absolute_error(y_train,forest_pred_train))\\nprint(\"R2 score: \",metrics.r2_score(y_train,forest_pred_train))'"
      ]
     },
     "execution_count": 119,
     "metadata": {},
     "output_type": "execute_result"
    }
   ],
   "source": [
    "\"\"\"print(\"Mean squared error: \",metrics.mean_squared_error(y_train,forest_pred_train))\n",
    "print(\"Mean absolute error: \",metrics.mean_absolute_error(y_train,forest_pred_train))\n",
    "print(\"R2 score: \",metrics.r2_score(y_train,forest_pred_train))\"\"\""
   ]
  },
  {
   "cell_type": "code",
   "execution_count": 120,
   "id": "7b3188a4",
   "metadata": {},
   "outputs": [
    {
     "data": {
      "text/plain": [
       "'print(\"Mean squared error: \",metrics.mean_squared_error(y_test,forest_pred_test))\\nprint(\"Mean absolute error: \",metrics.mean_absolute_error(y_test,forest_pred_test))\\nprint(\"R2 score: \",metrics.r2_score(y_test,forest_pred_test))'"
      ]
     },
     "execution_count": 120,
     "metadata": {},
     "output_type": "execute_result"
    }
   ],
   "source": [
    "\"\"\"print(\"Mean squared error: \",metrics.mean_squared_error(y_test,forest_pred_test))\n",
    "print(\"Mean absolute error: \",metrics.mean_absolute_error(y_test,forest_pred_test))\n",
    "print(\"R2 score: \",metrics.r2_score(y_test,forest_pred_test))\"\"\""
   ]
  },
  {
   "cell_type": "markdown",
   "id": "d5f6ea6a",
   "metadata": {},
   "source": [
    "# svr"
   ]
  },
  {
   "cell_type": "code",
   "execution_count": 121,
   "id": "314472e5",
   "metadata": {},
   "outputs": [],
   "source": [
    "svr_reg=SVR()\n",
    "svr_reg.fit(x_train,y_train) \n",
    "svr_pred_train=svr_reg.predict(x_train)\n",
    "svr_pred_test=svr_reg.predict(x_test)"
   ]
  },
  {
   "cell_type": "code",
   "execution_count": 122,
   "id": "19de6066",
   "metadata": {},
   "outputs": [
    {
     "name": "stdout",
     "output_type": "stream",
     "text": [
      "Mean squared error:  7227972311.457502\n",
      "Mean absolute error:  37703.213961283866\n",
      "R2 score:  -0.08031176764781045\n"
     ]
    }
   ],
   "source": [
    "print(\"Mean squared error: \",metrics.mean_squared_error(y_train,svr_pred_train))\n",
    "print(\"Mean absolute error: \",metrics.mean_absolute_error(y_train,svr_pred_train))\n",
    "print(\"R2 score: \",metrics.r2_score(y_train,svr_pred_train))"
   ]
  },
  {
   "cell_type": "code",
   "execution_count": 123,
   "id": "49b54614",
   "metadata": {},
   "outputs": [
    {
     "name": "stdout",
     "output_type": "stream",
     "text": [
      "Mean squared error:  7522132216.430358\n",
      "Mean absolute error:  37107.56573395909\n",
      "R2 score:  -0.0749867552156036\n"
     ]
    }
   ],
   "source": [
    "print(\"Mean squared error: \",metrics.mean_squared_error(y_test,svr_pred_test))\n",
    "print(\"Mean absolute error: \",metrics.mean_absolute_error(y_test,svr_pred_test))\n",
    "print(\"R2 score: \",metrics.r2_score(y_test,svr_pred_test))"
   ]
  },
  {
   "cell_type": "markdown",
   "id": "bac764ae",
   "metadata": {},
   "source": [
    "# LASSO - RIDGE"
   ]
  },
  {
   "cell_type": "code",
   "execution_count": 124,
   "id": "d22ac559",
   "metadata": {},
   "outputs": [],
   "source": [
    "from sklearn.linear_model import Lasso, Ridge\n",
    "l1=Lasso(alpha=0.01)\n",
    "l1.fit(x_train,y_train)\n",
    "y_train_pred_l1=l1.predict(x_train)\n",
    "y_test_pred_l1=l1.predict(x_test)"
   ]
  },
  {
   "cell_type": "code",
   "execution_count": 125,
   "id": "3ea8c621",
   "metadata": {},
   "outputs": [
    {
     "name": "stdout",
     "output_type": "stream",
     "text": [
      "Mean squared error:  2905560273.151677\n",
      "Mean absolute error:  31235.3256778505\n",
      "R2 score:  0.5657273133545264\n"
     ]
    }
   ],
   "source": [
    "print(\"Mean squared error: \",metrics.mean_squared_error(y_train,y_train_pred_l1))\n",
    "print(\"Mean absolute error: \",metrics.mean_absolute_error(y_train,y_train_pred_l1))\n",
    "print(\"R2 score: \",metrics.r2_score(y_train,y_train_pred_l1))"
   ]
  },
  {
   "cell_type": "code",
   "execution_count": 126,
   "id": "6bbff829",
   "metadata": {},
   "outputs": [
    {
     "name": "stdout",
     "output_type": "stream",
     "text": [
      "Mean squared error:  2712729644.0127482\n",
      "Mean absolute error:  30662.56788502365\n",
      "R2 score:  0.6123242248488012\n"
     ]
    }
   ],
   "source": [
    "print(\"Mean squared error: \",metrics.mean_squared_error(y_test,y_test_pred_l1))\n",
    "print(\"Mean absolute error: \",metrics.mean_absolute_error(y_test,y_test_pred_l1))\n",
    "print(\"R2 score: \",metrics.r2_score(y_test,y_test_pred_l1))"
   ]
  },
  {
   "cell_type": "code",
   "execution_count": 127,
   "id": "0183d151",
   "metadata": {},
   "outputs": [],
   "source": [
    "from sklearn.linear_model import Lasso, Ridge\n",
    "l2 = Ridge(alpha=0.01)\n",
    "l2.fit(x_train, y_train)\n",
    "y_train_pred_l2 = l2.predict(x_train)\n",
    "y_test_pred_l2 = l2.predict(x_test)"
   ]
  },
  {
   "cell_type": "code",
   "execution_count": 128,
   "id": "99c76436",
   "metadata": {},
   "outputs": [
    {
     "name": "stdout",
     "output_type": "stream",
     "text": [
      "Mean squared error:  2905560273.153612\n",
      "Mean absolute error:  31235.321580517637\n",
      "R2 score:  0.5657273133542371\n"
     ]
    }
   ],
   "source": [
    "print(\"Mean squared error: \",metrics.mean_squared_error(y_train,y_train_pred_l2))\n",
    "print(\"Mean absolute error: \",metrics.mean_absolute_error(y_train,y_train_pred_l2))\n",
    "print(\"R2 score: \",metrics.r2_score(y_train,y_train_pred_l2))"
   ]
  },
  {
   "cell_type": "code",
   "execution_count": 129,
   "id": "2460d52c",
   "metadata": {},
   "outputs": [
    {
     "name": "stdout",
     "output_type": "stream",
     "text": [
      "Mean squared error:  2712729302.4206934\n",
      "Mean absolute error:  30662.56351139247\n",
      "R2 score:  0.6123242736656691\n"
     ]
    }
   ],
   "source": [
    "print(\"Mean squared error: \",metrics.mean_squared_error(y_test,y_test_pred_l2))\n",
    "print(\"Mean absolute error: \",metrics.mean_absolute_error(y_test,y_test_pred_l2))\n",
    "print(\"R2 score: \",metrics.r2_score(y_test,y_test_pred_l2))"
   ]
  },
  {
   "cell_type": "markdown",
   "id": "11f4e710",
   "metadata": {},
   "source": [
    "# ELASTICNET"
   ]
  },
  {
   "cell_type": "code",
   "execution_count": 130,
   "id": "988ffec1",
   "metadata": {},
   "outputs": [],
   "source": [
    "from sklearn.linear_model import ElasticNet\n",
    "l1_l2= ElasticNet(alpha= 0.01)\n",
    "l1_l2.fit(x_train, y_train)\n",
    "y_train_pred_l1_l2= l1_l2.predict(x_train)\n",
    "y_test_pred_l1_l2= l1_l2.predict(x_test)"
   ]
  },
  {
   "cell_type": "code",
   "execution_count": 131,
   "id": "de8e86eb",
   "metadata": {},
   "outputs": [
    {
     "name": "stdout",
     "output_type": "stream",
     "text": [
      "Training mean squared error:  2905605820.695206\n",
      "Training mean absolute error:  31201.760492598893\n",
      "Training r2 score:  0.5657205056987771\n"
     ]
    }
   ],
   "source": [
    "print('Training mean squared error: ', metrics.mean_squared_error(y_train, y_train_pred_l1_l2))\n",
    "print('Training mean absolute error: ', metrics.mean_absolute_error(y_train, y_train_pred_l1_l2))\n",
    "print('Training r2 score: ', metrics.r2_score(y_train, y_train_pred_l1_l2))"
   ]
  },
  {
   "cell_type": "code",
   "execution_count": 132,
   "id": "8dc9ec35",
   "metadata": {},
   "outputs": [
    {
     "name": "stdout",
     "output_type": "stream",
     "text": [
      "Testing mean squared error:  2710184848.156469\n",
      "Testing mean absolute error:  30627.03714576883\n",
      "Testing r2 score:  0.6126879012322411\n"
     ]
    }
   ],
   "source": [
    "print('Testing mean squared error: ', metrics.mean_squared_error(y_test, y_test_pred_l1_l2))\n",
    "print('Testing mean absolute error: ', metrics.mean_absolute_error(y_test, y_test_pred_l1_l2))\n",
    "print('Testing r2 score: ', metrics.r2_score(y_test, y_test_pred_l1_l2))"
   ]
  },
  {
   "cell_type": "markdown",
   "id": "8fcfc575",
   "metadata": {},
   "source": [
    "# TREATING OUTLIERS "
   ]
  },
  {
   "cell_type": "code",
   "execution_count": 133,
   "id": "8dc7f180",
   "metadata": {},
   "outputs": [
    {
     "data": {
      "text/plain": [
       "\"plt.figure(figsize=(16,5))\\nplt.subplot(1,3,1)\\nsns.distplot(df2['Price'])\\nplt.subplot(1,3,2)\\nsns.distplot(df2['Square Feet'])\\nplt.subplot(1,3,3)\\nsns.distplot(df2['Deposit Status'])\""
      ]
     },
     "execution_count": 133,
     "metadata": {},
     "output_type": "execute_result"
    }
   ],
   "source": [
    "\"\"\"plt.figure(figsize=(16,5))\n",
    "plt.subplot(1,3,1)\n",
    "sns.distplot(df2['Price'])\n",
    "plt.subplot(1,3,2)\n",
    "sns.distplot(df2['Square Feet'])\n",
    "plt.subplot(1,3,3)\n",
    "sns.distplot(df2['Deposit Status'])\"\"\""
   ]
  },
  {
   "cell_type": "code",
   "execution_count": 134,
   "id": "ee27ade3",
   "metadata": {},
   "outputs": [],
   "source": [
    "df2 = df.copy()"
   ]
  },
  {
   "cell_type": "code",
   "execution_count": 135,
   "id": "0e25a795",
   "metadata": {},
   "outputs": [
    {
     "name": "stdout",
     "output_type": "stream",
     "text": [
      "Number of outliers after treatment: 0\n"
     ]
    }
   ],
   "source": [
    "q1 = df2['Square Feet'].quantile(0.25)\n",
    "q3 = df2['Square Feet'].quantile(0.75)\n",
    "iqr = q3 - q1\n",
    "sq_lf = q1 - 1.5 * iqr\n",
    "sq_uf = q3 + 1.5 * iqr\n",
    "\n",
    "# Treat outliers in 'Square Feet' column\n",
    "df2['Square Feet'] = df2['Square Feet'].clip(lower=sq_lf, upper=sq_uf)\n",
    "\n",
    "# Now, if you want to count the number of outliers after treatment:\n",
    "outliers_count = df2[(df2['Square Feet'] < sq_lf) | (df2['Square Feet'] > sq_uf)].shape[0]\n",
    "print(\"Number of outliers after treatment:\", outliers_count)\n"
   ]
  },
  {
   "cell_type": "code",
   "execution_count": 136,
   "id": "3c6547a5",
   "metadata": {},
   "outputs": [
    {
     "name": "stdout",
     "output_type": "stream",
     "text": [
      "-150000.0 250000.0\n"
     ]
    }
   ],
   "source": [
    "q1= df2['Deposit Status'].quantile(0.25)\n",
    "q3= df2['Deposit Status'].quantile(0.75)\n",
    "iqr= q3-q1\n",
    "ds_lf= q1-1.5*iqr\n",
    "ds_uf= q3+1.5*iqr\n",
    "print(ds_lf, ds_uf)"
   ]
  },
  {
   "cell_type": "code",
   "execution_count": 137,
   "id": "23341635",
   "metadata": {},
   "outputs": [
    {
     "name": "stdout",
     "output_type": "stream",
     "text": [
      "-47485.625 132491.375\n"
     ]
    }
   ],
   "source": [
    "q1= df2['Price'].quantile(0.25)\n",
    "q3= df2['Price'].quantile(0.75)\n",
    "iqr= q3-q1\n",
    "p_lf= q1-1.5*iqr\n",
    "p_uf= q3+1.5*iqr\n",
    "print(p_lf, p_uf)"
   ]
  },
  {
   "cell_type": "code",
   "execution_count": 138,
   "id": "83dd774d",
   "metadata": {},
   "outputs": [],
   "source": [
    "df2['Square Feet'] = df2['Square Feet'].clip(lower=sq_lf, upper=sq_uf)"
   ]
  },
  {
   "cell_type": "code",
   "execution_count": 139,
   "id": "f1af97cb",
   "metadata": {},
   "outputs": [],
   "source": [
    "import numpy as np\n",
    "df2['Deposit Status'] = np.where(\n",
    "df2['Deposit Status']> ds_uf,\n",
    "ds_uf,\n",
    "np.where(\n",
    "df2['Deposit Status']<ds_lf,\n",
    "ds_lf,\n",
    "df2['Deposit Status']))"
   ]
  },
  {
   "cell_type": "code",
   "execution_count": 140,
   "id": "c5185554",
   "metadata": {},
   "outputs": [],
   "source": [
    "import numpy as np\n",
    "df2['Price'] = np.where(\n",
    "df2['Price']> p_uf,\n",
    "p_uf,\n",
    "np.where(\n",
    "df2['Price']<p_lf,\n",
    "p_lf,\n",
    "df2['Price']))"
   ]
  },
  {
   "cell_type": "code",
   "execution_count": 141,
   "id": "a55da378",
   "metadata": {},
   "outputs": [
    {
     "name": "stdout",
     "output_type": "stream",
     "text": [
      "0\n",
      "0\n",
      "0\n"
     ]
    }
   ],
   "source": [
    "print(df2[df2['Square Feet']>sq_uf].shape[0])\n",
    "print(df2[df2['Price']>p_uf].shape[0])\n",
    "print(df2[df2['Deposit Status']>ds_uf].shape[0])"
   ]
  },
  {
   "cell_type": "code",
   "execution_count": 142,
   "id": "dd3ed53e",
   "metadata": {},
   "outputs": [
    {
     "data": {
      "image/png": "[encoded data removed]",
      "text/plain": [
       "<Figure size 1500x800 with 2 Axes>"
      ]
     },
     "metadata": {},
     "output_type": "display_data"
    },
    {
     "data": {
      "image/png": "[encoded data removed]",
      "text/plain": [
       "<Figure size 1500x800 with 2 Axes>"
      ]
     },
     "metadata": {},
     "output_type": "display_data"
    },
    {
     "data": {
      "image/png": "[encoded data removed]",
      "text/plain": [
       "<Figure size 1500x800 with 2 Axes>"
      ]
     },
     "metadata": {},
     "output_type": "display_data"
    },
    {
     "data": {
      "image/png": "[encoded data removed]",
      "text/plain": [
       "<Figure size 1500x800 with 2 Axes>"
      ]
     },
     "metadata": {},
     "output_type": "display_data"
    },
    {
     "data": {
      "image/png": "[encoded data removed]",
      "text/plain": [
       "<Figure size 1500x800 with 2 Axes>"
      ]
     },
     "metadata": {},
     "output_type": "display_data"
    },
    {
     "data": {
      "image/png": "[encoded data removed]",
      "text/plain": [
       "<Figure size 1500x800 with 2 Axes>"
      ]
     },
     "metadata": {},
     "output_type": "display_data"
    },
    {
     "data": {
      "image/png": "[encoded data removed]",
      "text/plain": [
       "<Figure size 1500x800 with 2 Axes>"
      ]
     },
     "metadata": {},
     "output_type": "display_data"
    }
   ],
   "source": [
    "for i in df2.columns:\n",
    "    if df2[i].dtype!='O':\n",
    "        #print(i)\n",
    "        outlier(i)"
   ]
  },
  {
   "cell_type": "code",
   "execution_count": 143,
   "id": "fc969e27",
   "metadata": {},
   "outputs": [
    {
     "data": {
      "text/html": [
       "<div>\n",
       "<style scoped>\n",
       "    .dataframe tbody tr th:only-of-type {\n",
       "        vertical-align: middle;\n",
       "    }\n",
       "\n",
       "    .dataframe tbody tr th {\n",
       "        vertical-align: top;\n",
       "    }\n",
       "\n",
       "    .dataframe thead th {\n",
       "        text-align: right;\n",
       "    }\n",
       "</style>\n",
       "<table border=\"1\" class=\"dataframe\">\n",
       "  <thead>\n",
       "    <tr style=\"text-align: right;\">\n",
       "      <th></th>\n",
       "      <th>Facing</th>\n",
       "      <th>Square Feet</th>\n",
       "      <th>BHK Apartment</th>\n",
       "      <th>Price</th>\n",
       "      <th>Furnish Status</th>\n",
       "      <th>Deposit Status</th>\n",
       "      <th>Bathroom Count</th>\n",
       "      <th>Location</th>\n",
       "      <th>Amenities</th>\n",
       "    </tr>\n",
       "  </thead>\n",
       "  <tbody>\n",
       "    <tr>\n",
       "      <th>0</th>\n",
       "      <td>NaN</td>\n",
       "      <td>1180</td>\n",
       "      <td>5.0</td>\n",
       "      <td>19000.0</td>\n",
       "      <td>0.0</td>\n",
       "      <td>0.0</td>\n",
       "      <td>1.0</td>\n",
       "      <td>57.0</td>\n",
       "      <td>Swimming Pool, Lift(s), 24 X 7 Security, Staff...</td>\n",
       "    </tr>\n",
       "    <tr>\n",
       "      <th>1</th>\n",
       "      <td>NaN</td>\n",
       "      <td>1120</td>\n",
       "      <td>5.0</td>\n",
       "      <td>12500.0</td>\n",
       "      <td>2.0</td>\n",
       "      <td>0.0</td>\n",
       "      <td>1.0</td>\n",
       "      <td>57.0</td>\n",
       "      <td>Lift(s), Full Power Backup, 24 X 7 Security, C...</td>\n",
       "    </tr>\n",
       "    <tr>\n",
       "      <th>2</th>\n",
       "      <td>NaN</td>\n",
       "      <td>750</td>\n",
       "      <td>5.0</td>\n",
       "      <td>28500.0</td>\n",
       "      <td>2.0</td>\n",
       "      <td>0.0</td>\n",
       "      <td>1.0</td>\n",
       "      <td>31.0</td>\n",
       "      <td>Lift(s), Full Power Backup, 24 X 7 Security, C...</td>\n",
       "    </tr>\n",
       "    <tr>\n",
       "      <th>3</th>\n",
       "      <td>East facing</td>\n",
       "      <td>1400</td>\n",
       "      <td>8.0</td>\n",
       "      <td>50000.0</td>\n",
       "      <td>1.0</td>\n",
       "      <td>0.0</td>\n",
       "      <td>2.0</td>\n",
       "      <td>11.0</td>\n",
       "      <td>Gymnasium, Lift(s), Intercom, Sports Facility,...</td>\n",
       "    </tr>\n",
       "    <tr>\n",
       "      <th>4</th>\n",
       "      <td>East facing</td>\n",
       "      <td>450</td>\n",
       "      <td>4.0</td>\n",
       "      <td>3000.0</td>\n",
       "      <td>2.0</td>\n",
       "      <td>0.0</td>\n",
       "      <td>0.0</td>\n",
       "      <td>3.0</td>\n",
       "      <td>Car Parking, Multipurpose Room, Sports Facilit...</td>\n",
       "    </tr>\n",
       "    <tr>\n",
       "      <th>...</th>\n",
       "      <td>...</td>\n",
       "      <td>...</td>\n",
       "      <td>...</td>\n",
       "      <td>...</td>\n",
       "      <td>...</td>\n",
       "      <td>...</td>\n",
       "      <td>...</td>\n",
       "      <td>...</td>\n",
       "      <td>...</td>\n",
       "    </tr>\n",
       "    <tr>\n",
       "      <th>10399</th>\n",
       "      <td>NaN</td>\n",
       "      <td>650</td>\n",
       "      <td>0.0</td>\n",
       "      <td>16000.0</td>\n",
       "      <td>2.0</td>\n",
       "      <td>45000.0</td>\n",
       "      <td>0.0</td>\n",
       "      <td>21.0</td>\n",
       "      <td>Indoor Games, ATM, Maintenance Staff, Hospital...</td>\n",
       "    </tr>\n",
       "    <tr>\n",
       "      <th>10400</th>\n",
       "      <td>NaN</td>\n",
       "      <td>687</td>\n",
       "      <td>0.0</td>\n",
       "      <td>39000.0</td>\n",
       "      <td>0.0</td>\n",
       "      <td>125000.0</td>\n",
       "      <td>1.0</td>\n",
       "      <td>21.0</td>\n",
       "      <td>Maintenance Staff, ATM, Intercom, Lift(s), Gol...</td>\n",
       "    </tr>\n",
       "    <tr>\n",
       "      <th>10401</th>\n",
       "      <td>NaN</td>\n",
       "      <td>680</td>\n",
       "      <td>0.0</td>\n",
       "      <td>18000.0</td>\n",
       "      <td>2.0</td>\n",
       "      <td>55000.0</td>\n",
       "      <td>0.0</td>\n",
       "      <td>21.0</td>\n",
       "      <td>Indoor Games, ATM, Lift(s), Full Power Backup,...</td>\n",
       "    </tr>\n",
       "    <tr>\n",
       "      <th>10402</th>\n",
       "      <td>NaN</td>\n",
       "      <td>1250</td>\n",
       "      <td>5.0</td>\n",
       "      <td>33500.0</td>\n",
       "      <td>0.0</td>\n",
       "      <td>0.0</td>\n",
       "      <td>1.0</td>\n",
       "      <td>21.0</td>\n",
       "      <td>Jogging Track, Car Parking, Vaastu Compliant, ...</td>\n",
       "    </tr>\n",
       "    <tr>\n",
       "      <th>10403</th>\n",
       "      <td>NaN</td>\n",
       "      <td>1200</td>\n",
       "      <td>5.0</td>\n",
       "      <td>35000.0</td>\n",
       "      <td>0.0</td>\n",
       "      <td>0.0</td>\n",
       "      <td>2.0</td>\n",
       "      <td>21.0</td>\n",
       "      <td>ATM, Lift(s), Indoor Games, Full Power Backup,...</td>\n",
       "    </tr>\n",
       "  </tbody>\n",
       "</table>\n",
       "<p>10404 rows × 9 columns</p>\n",
       "</div>"
      ],
      "text/plain": [
       "            Facing  Square Feet  BHK Apartment    Price  Furnish Status  \\\n",
       "0              NaN         1180            5.0  19000.0             0.0   \n",
       "1              NaN         1120            5.0  12500.0             2.0   \n",
       "2              NaN          750            5.0  28500.0             2.0   \n",
       "3      East facing         1400            8.0  50000.0             1.0   \n",
       "4      East facing          450            4.0   3000.0             2.0   \n",
       "...            ...          ...            ...      ...             ...   \n",
       "10399          NaN          650            0.0  16000.0             2.0   \n",
       "10400          NaN          687            0.0  39000.0             0.0   \n",
       "10401          NaN          680            0.0  18000.0             2.0   \n",
       "10402          NaN         1250            5.0  33500.0             0.0   \n",
       "10403          NaN         1200            5.0  35000.0             0.0   \n",
       "\n",
       "       Deposit Status  Bathroom Count  Location  \\\n",
       "0                 0.0             1.0      57.0   \n",
       "1                 0.0             1.0      57.0   \n",
       "2                 0.0             1.0      31.0   \n",
       "3                 0.0             2.0      11.0   \n",
       "4                 0.0             0.0       3.0   \n",
       "...               ...             ...       ...   \n",
       "10399         45000.0             0.0      21.0   \n",
       "10400        125000.0             1.0      21.0   \n",
       "10401         55000.0             0.0      21.0   \n",
       "10402             0.0             1.0      21.0   \n",
       "10403             0.0             2.0      21.0   \n",
       "\n",
       "                                               Amenities  \n",
       "0      Swimming Pool, Lift(s), 24 X 7 Security, Staff...  \n",
       "1      Lift(s), Full Power Backup, 24 X 7 Security, C...  \n",
       "2      Lift(s), Full Power Backup, 24 X 7 Security, C...  \n",
       "3      Gymnasium, Lift(s), Intercom, Sports Facility,...  \n",
       "4      Car Parking, Multipurpose Room, Sports Facilit...  \n",
       "...                                                  ...  \n",
       "10399  Indoor Games, ATM, Maintenance Staff, Hospital...  \n",
       "10400  Maintenance Staff, ATM, Intercom, Lift(s), Gol...  \n",
       "10401  Indoor Games, ATM, Lift(s), Full Power Backup,...  \n",
       "10402  Jogging Track, Car Parking, Vaastu Compliant, ...  \n",
       "10403  ATM, Lift(s), Indoor Games, Full Power Backup,...  \n",
       "\n",
       "[10404 rows x 9 columns]"
      ]
     },
     "execution_count": 143,
     "metadata": {},
     "output_type": "execute_result"
    }
   ],
   "source": [
    "df2"
   ]
  },
  {
   "cell_type": "code",
   "execution_count": 144,
   "id": "4ba89330",
   "metadata": {},
   "outputs": [
    {
     "data": {
      "text/plain": [
       "32"
      ]
     },
     "execution_count": 144,
     "metadata": {},
     "output_type": "execute_result"
    }
   ],
   "source": [
    "df2['Amenities'].isnull().sum()"
   ]
  },
  {
   "cell_type": "code",
   "execution_count": 145,
   "id": "9b82712f",
   "metadata": {},
   "outputs": [],
   "source": [
    "df2X = df2.loc[:, ~df2.columns.isin([\"Facing\", \"Price\", \"Amenities\"])]\n",
    "df2y = df2[\"Price\"]"
   ]
  },
  {
   "cell_type": "code",
   "execution_count": 146,
   "id": "2c1608ce",
   "metadata": {},
   "outputs": [
    {
     "data": {
      "text/html": [
       "<div>\n",
       "<style scoped>\n",
       "    .dataframe tbody tr th:only-of-type {\n",
       "        vertical-align: middle;\n",
       "    }\n",
       "\n",
       "    .dataframe tbody tr th {\n",
       "        vertical-align: top;\n",
       "    }\n",
       "\n",
       "    .dataframe thead th {\n",
       "        text-align: right;\n",
       "    }\n",
       "</style>\n",
       "<table border=\"1\" class=\"dataframe\">\n",
       "  <thead>\n",
       "    <tr style=\"text-align: right;\">\n",
       "      <th></th>\n",
       "      <th>Square Feet</th>\n",
       "      <th>BHK Apartment</th>\n",
       "      <th>Furnish Status</th>\n",
       "      <th>Deposit Status</th>\n",
       "      <th>Bathroom Count</th>\n",
       "      <th>Location</th>\n",
       "    </tr>\n",
       "  </thead>\n",
       "  <tbody>\n",
       "    <tr>\n",
       "      <th>0</th>\n",
       "      <td>1180</td>\n",
       "      <td>5.0</td>\n",
       "      <td>0.0</td>\n",
       "      <td>0.0</td>\n",
       "      <td>1.0</td>\n",
       "      <td>57.0</td>\n",
       "    </tr>\n",
       "    <tr>\n",
       "      <th>1</th>\n",
       "      <td>1120</td>\n",
       "      <td>5.0</td>\n",
       "      <td>2.0</td>\n",
       "      <td>0.0</td>\n",
       "      <td>1.0</td>\n",
       "      <td>57.0</td>\n",
       "    </tr>\n",
       "    <tr>\n",
       "      <th>2</th>\n",
       "      <td>750</td>\n",
       "      <td>5.0</td>\n",
       "      <td>2.0</td>\n",
       "      <td>0.0</td>\n",
       "      <td>1.0</td>\n",
       "      <td>31.0</td>\n",
       "    </tr>\n",
       "    <tr>\n",
       "      <th>3</th>\n",
       "      <td>1400</td>\n",
       "      <td>8.0</td>\n",
       "      <td>1.0</td>\n",
       "      <td>0.0</td>\n",
       "      <td>2.0</td>\n",
       "      <td>11.0</td>\n",
       "    </tr>\n",
       "    <tr>\n",
       "      <th>4</th>\n",
       "      <td>450</td>\n",
       "      <td>4.0</td>\n",
       "      <td>2.0</td>\n",
       "      <td>0.0</td>\n",
       "      <td>0.0</td>\n",
       "      <td>3.0</td>\n",
       "    </tr>\n",
       "    <tr>\n",
       "      <th>...</th>\n",
       "      <td>...</td>\n",
       "      <td>...</td>\n",
       "      <td>...</td>\n",
       "      <td>...</td>\n",
       "      <td>...</td>\n",
       "      <td>...</td>\n",
       "    </tr>\n",
       "    <tr>\n",
       "      <th>10399</th>\n",
       "      <td>650</td>\n",
       "      <td>0.0</td>\n",
       "      <td>2.0</td>\n",
       "      <td>45000.0</td>\n",
       "      <td>0.0</td>\n",
       "      <td>21.0</td>\n",
       "    </tr>\n",
       "    <tr>\n",
       "      <th>10400</th>\n",
       "      <td>687</td>\n",
       "      <td>0.0</td>\n",
       "      <td>0.0</td>\n",
       "      <td>125000.0</td>\n",
       "      <td>1.0</td>\n",
       "      <td>21.0</td>\n",
       "    </tr>\n",
       "    <tr>\n",
       "      <th>10401</th>\n",
       "      <td>680</td>\n",
       "      <td>0.0</td>\n",
       "      <td>2.0</td>\n",
       "      <td>55000.0</td>\n",
       "      <td>0.0</td>\n",
       "      <td>21.0</td>\n",
       "    </tr>\n",
       "    <tr>\n",
       "      <th>10402</th>\n",
       "      <td>1250</td>\n",
       "      <td>5.0</td>\n",
       "      <td>0.0</td>\n",
       "      <td>0.0</td>\n",
       "      <td>1.0</td>\n",
       "      <td>21.0</td>\n",
       "    </tr>\n",
       "    <tr>\n",
       "      <th>10403</th>\n",
       "      <td>1200</td>\n",
       "      <td>5.0</td>\n",
       "      <td>0.0</td>\n",
       "      <td>0.0</td>\n",
       "      <td>2.0</td>\n",
       "      <td>21.0</td>\n",
       "    </tr>\n",
       "  </tbody>\n",
       "</table>\n",
       "<p>10404 rows × 6 columns</p>\n",
       "</div>"
      ],
      "text/plain": [
       "       Square Feet  BHK Apartment  Furnish Status  Deposit Status  \\\n",
       "0             1180            5.0             0.0             0.0   \n",
       "1             1120            5.0             2.0             0.0   \n",
       "2              750            5.0             2.0             0.0   \n",
       "3             1400            8.0             1.0             0.0   \n",
       "4              450            4.0             2.0             0.0   \n",
       "...            ...            ...             ...             ...   \n",
       "10399          650            0.0             2.0         45000.0   \n",
       "10400          687            0.0             0.0        125000.0   \n",
       "10401          680            0.0             2.0         55000.0   \n",
       "10402         1250            5.0             0.0             0.0   \n",
       "10403         1200            5.0             0.0             0.0   \n",
       "\n",
       "       Bathroom Count  Location  \n",
       "0                 1.0      57.0  \n",
       "1                 1.0      57.0  \n",
       "2                 1.0      31.0  \n",
       "3                 2.0      11.0  \n",
       "4                 0.0       3.0  \n",
       "...               ...       ...  \n",
       "10399             0.0      21.0  \n",
       "10400             1.0      21.0  \n",
       "10401             0.0      21.0  \n",
       "10402             1.0      21.0  \n",
       "10403             2.0      21.0  \n",
       "\n",
       "[10404 rows x 6 columns]"
      ]
     },
     "execution_count": 146,
     "metadata": {},
     "output_type": "execute_result"
    }
   ],
   "source": [
    "df2X"
   ]
  },
  {
   "cell_type": "code",
   "execution_count": 147,
   "id": "2ecbe826",
   "metadata": {},
   "outputs": [],
   "source": [
    "from sklearn.model_selection import train_test_split\n",
    "from sklearn.preprocessing import MinMaxScaler\n",
    "from sklearn.compose import ColumnTransformer\n",
    "from sklearn.preprocessing import StandardScaler\n",
    "\n",
    "# Split the dataset into training and testing sets\n",
    "X_train, X_test, Y_train, Y_test = train_test_split(df2X, df2y, test_size=0.2, random_state=43)\n",
    "\n",
    "# Define numerical features (excluding categorical features)\n",
    "numerical_features = ['Square Feet', 'Deposit Status']\n",
    "\n",
    "# Define preprocessing steps for numerical features only\n",
    "preprocessor = ColumnTransformer(\n",
    "    transformers=[\n",
    "        ('num', MinMaxScaler(), numerical_features)\n",
    "    ])\n",
    "\n",
    "# Fit and transform preprocessing steps on training data\n",
    "X_train_pro = preprocessor.fit_transform(X_train)\n",
    "\n",
    "# Transform testing data using preprocessing steps\n",
    "X_test_pro = preprocessor.transform(X_test)\n",
    "\n",
    "# Initialize StandardScaler\n",
    "scaler = StandardScaler()\n",
    "\n",
    "# Fit scaler on training features\n",
    "scaler.fit(X_train[numerical_features])\n",
    "\n",
    "# Transform training and testing features\n",
    "X_train_scaled = scaler.transform(X_train[numerical_features])\n",
    "X_test_scaled = scaler.transform(X_test[numerical_features])\n"
   ]
  },
  {
   "cell_type": "code",
   "execution_count": 148,
   "id": "b519e90d",
   "metadata": {},
   "outputs": [
    {
     "name": "stdout",
     "output_type": "stream",
     "text": [
      "Mean squared error:  705211627.3976946\n",
      "Mean absolute error:  20434.821569642318\n",
      "R2 score:  0.4561442725509701\n",
      "Mean squared error:  658282713.9450765\n",
      "Mean absolute error:  19796.023647598482\n",
      "R2 score:  0.4710338144623438\n"
     ]
    }
   ],
   "source": [
    "lin_reg=LinearRegression()\n",
    "lin_reg.fit(X_train_scaled,Y_train)\n",
    "Y_pred_lin=lin_reg.predict(X_train_scaled)\n",
    "Y_test_pred=lin_reg.predict(X_test_scaled)\n",
    "\n",
    "print(\"Mean squared error: \",metrics.mean_squared_error(Y_train,Y_pred_lin))\n",
    "print(\"Mean absolute error: \",metrics.mean_absolute_error(Y_train,Y_pred_lin))\n",
    "print(\"R2 score: \",metrics.r2_score(Y_train,Y_pred_lin))\n",
    "\n",
    "print(\"Mean squared error: \",metrics.mean_squared_error(Y_test,Y_test_pred))\n",
    "print(\"Mean absolute error: \",metrics.mean_absolute_error(Y_test,Y_test_pred))\n",
    "print(\"R2 score: \",metrics.r2_score(Y_test,Y_test_pred))"
   ]
  },
  {
   "cell_type": "markdown",
   "id": "2ce55f58",
   "metadata": {},
   "source": [
    "# grid search"
   ]
  },
  {
   "cell_type": "code",
   "execution_count": 149,
   "id": "24c2bf97",
   "metadata": {},
   "outputs": [
    {
     "data": {
      "text/plain": [
       "'from sklearn.model_selection import GridSearchCV\\nfrom sklearn.linear_model import LinearRegression\\n\\n# Define the parameter grid for Linear Regression (there are no hyperparameters to tune)\\nlr_param_grid = {}\\n\\n# Initialize Linear Regression model\\nlr_model = LinearRegression()\\n\\n# Initialize GridSearchCV with Linear Regression model and parameter grid\\nlr_grid_search = GridSearchCV(lr_model, lr_param_grid, cv=15, scoring=\\'r2\\')\\n\\n# Fit GridSearchCV to the data\\nlr_grid_search.fit(X_train, Y_train)\\n\\n# Get best parameters and best score\\nlr_best_params = lr_grid_search.best_params_\\nlr_best_score = lr_grid_search.best_score_\\n\\n# Print best parameters and best score\\nprint(\"Best Parameters (Linear Regression):\", lr_best_params)\\nprint(\"Best R^2 Score (Linear Regression):\", lr_best_score)\\n'"
      ]
     },
     "execution_count": 149,
     "metadata": {},
     "output_type": "execute_result"
    }
   ],
   "source": [
    "\"\"\"from sklearn.model_selection import GridSearchCV\n",
    "from sklearn.linear_model import LinearRegression\n",
    "\n",
    "# Define the parameter grid for Linear Regression (there are no hyperparameters to tune)\n",
    "lr_param_grid = {}\n",
    "\n",
    "# Initialize Linear Regression model\n",
    "lr_model = LinearRegression()\n",
    "\n",
    "# Initialize GridSearchCV with Linear Regression model and parameter grid\n",
    "lr_grid_search = GridSearchCV(lr_model, lr_param_grid, cv=15, scoring='r2')\n",
    "\n",
    "# Fit GridSearchCV to the data\n",
    "lr_grid_search.fit(X_train, Y_train)\n",
    "\n",
    "# Get best parameters and best score\n",
    "lr_best_params = lr_grid_search.best_params_\n",
    "lr_best_score = lr_grid_search.best_score_\n",
    "\n",
    "# Print best parameters and best score\n",
    "print(\"Best Parameters (Linear Regression):\", lr_best_params)\n",
    "print(\"Best R^2 Score (Linear Regression):\", lr_best_score)\n",
    "\"\"\""
   ]
  },
  {
   "cell_type": "code",
   "execution_count": 150,
   "id": "e9cdcae0",
   "metadata": {},
   "outputs": [
    {
     "data": {
      "text/plain": [
       "'from sklearn.tree import DecisionTreeRegressor\\n\\n# Define the parameter grid for Decision Tree\\ndt_param_grid = {\\n    \\'max_depth\\': [None, 5, 10, 20],\\n    \\'min_samples_split\\': [2, 5, 10]\\n}\\n\\n# Initialize Decision Tree model\\ndt_model = DecisionTreeRegressor(random_state=42)\\n\\n# Initialize GridSearchCV with Decision Tree model and parameter grid\\ndt_grid_search = GridSearchCV(dt_model, dt_param_grid, cv=15, scoring=\\'r2\\')\\n\\n# Fit GridSearchCV to the data\\ndt_grid_search.fit(X_train, Y_train)\\n\\n# Get best parameters and best score\\ndt_best_params = dt_grid_search.best_params_\\ndt_best_score = dt_grid_search.best_score_\\n\\n# Print best parameters and best score\\nprint(\"Best Parameters (Decision Tree):\", dt_best_params)\\nprint(\"Best R^2 Score (Decision Tree):\", dt_best_score)\\n'"
      ]
     },
     "execution_count": 150,
     "metadata": {},
     "output_type": "execute_result"
    }
   ],
   "source": [
    "\"\"\"from sklearn.tree import DecisionTreeRegressor\n",
    "\n",
    "# Define the parameter grid for Decision Tree\n",
    "dt_param_grid = {\n",
    "    'max_depth': [None, 5, 10, 20],\n",
    "    'min_samples_split': [2, 5, 10]\n",
    "}\n",
    "\n",
    "# Initialize Decision Tree model\n",
    "dt_model = DecisionTreeRegressor(random_state=42)\n",
    "\n",
    "# Initialize GridSearchCV with Decision Tree model and parameter grid\n",
    "dt_grid_search = GridSearchCV(dt_model, dt_param_grid, cv=15, scoring='r2')\n",
    "\n",
    "# Fit GridSearchCV to the data\n",
    "dt_grid_search.fit(X_train, Y_train)\n",
    "\n",
    "# Get best parameters and best score\n",
    "dt_best_params = dt_grid_search.best_params_\n",
    "dt_best_score = dt_grid_search.best_score_\n",
    "\n",
    "# Print best parameters and best score\n",
    "print(\"Best Parameters (Decision Tree):\", dt_best_params)\n",
    "print(\"Best R^2 Score (Decision Tree):\", dt_best_score)\n",
    "\"\"\""
   ]
  },
  {
   "cell_type": "code",
   "execution_count": 151,
   "id": "f4c1db38",
   "metadata": {},
   "outputs": [
    {
     "name": "stdout",
     "output_type": "stream",
     "text": [
      "Mean squared error:  45733517.18522365\n",
      "Mean absolute error:  3259.0973775797006\n",
      "R2 score:  0.9647305372015001\n",
      "Mean squared error:  237123044.33881992\n",
      "Mean absolute error:  8300.483128773223\n",
      "R2 score:  0.8094586571850233\n"
     ]
    }
   ],
   "source": [
    "tree_reg=DecisionTreeRegressor(min_samples_split=5,max_depth = None)\n",
    "tree_reg.fit(X_train,Y_train)\n",
    "tree_pred_Xtrain=tree_reg.predict(X_train)\n",
    "tree_pred_Ytest=tree_reg.predict(X_test)\n",
    "\n",
    "print(\"Mean squared error: \",metrics.mean_squared_error(Y_train,tree_pred_Xtrain))\n",
    "print(\"Mean absolute error: \",metrics.mean_absolute_error(Y_train,tree_pred_Xtrain))\n",
    "print(\"R2 score: \",metrics.r2_score(Y_train,tree_pred_Xtrain))\n",
    "\n",
    "print(\"Mean squared error: \",metrics.mean_squared_error(Y_test,tree_pred_Ytest))\n",
    "print(\"Mean absolute error: \",metrics.mean_absolute_error(Y_test,tree_pred_Ytest))\n",
    "print(\"R2 score: \",metrics.r2_score(Y_test,tree_pred_Ytest))"
   ]
  },
  {
   "cell_type": "code",
   "execution_count": 152,
   "id": "3d4079aa",
   "metadata": {},
   "outputs": [
    {
     "data": {
      "text/plain": [
       "'from sklearn.model_selection import GridSearchCV\\nfrom sklearn.ensemble import RandomForestRegressor\\n\\n# Define the parameter grid for Random Forest\\nrf_param_grid = {\\n    \\'n_estimators\\': [100, 200, 300],\\n    \\'max_depth\\': [None, 10, 20],\\n    \\'min_samples_split\\': [2, 5, 10]\\n}\\n\\n# Initialize Random Forest model\\nrf_model = RandomForestRegressor(random_state=42)\\n\\n# Initialize GridSearchCV with Random Forest model and parameter grid\\nrf_grid_search = GridSearchCV(rf_model, rf_param_grid, cv=15, scoring=\\'r2\\')\\n\\n# Fit GridSearchCV to the data\\nrf_grid_search.fit(X_train, Y_train)\\n\\n# Get best parameters and best score\\nrf_best_params = rf_grid_search.best_params_\\nrf_best_score = rf_grid_search.best_score_\\n\\n# Print best parameters and best score\\nprint(\"Best Parameters (Random Forest):\", rf_best_params)\\nprint(\"Best R^2 Score (Random Forest):\", rf_best_score)\\n'"
      ]
     },
     "execution_count": 152,
     "metadata": {},
     "output_type": "execute_result"
    }
   ],
   "source": [
    "\"\"\"from sklearn.model_selection import GridSearchCV\n",
    "from sklearn.ensemble import RandomForestRegressor\n",
    "\n",
    "# Define the parameter grid for Random Forest\n",
    "rf_param_grid = {\n",
    "    'n_estimators': [100, 200, 300],\n",
    "    'max_depth': [None, 10, 20],\n",
    "    'min_samples_split': [2, 5, 10]\n",
    "}\n",
    "\n",
    "# Initialize Random Forest model\n",
    "rf_model = RandomForestRegressor(random_state=42)\n",
    "\n",
    "# Initialize GridSearchCV with Random Forest model and parameter grid\n",
    "rf_grid_search = GridSearchCV(rf_model, rf_param_grid, cv=15, scoring='r2')\n",
    "\n",
    "# Fit GridSearchCV to the data\n",
    "rf_grid_search.fit(X_train, Y_train)\n",
    "\n",
    "# Get best parameters and best score\n",
    "rf_best_params = rf_grid_search.best_params_\n",
    "rf_best_score = rf_grid_search.best_score_\n",
    "\n",
    "# Print best parameters and best score\n",
    "print(\"Best Parameters (Random Forest):\", rf_best_params)\n",
    "print(\"Best R^2 Score (Random Forest):\", rf_best_score)\n",
    "\"\"\""
   ]
  },
  {
   "cell_type": "code",
   "execution_count": 153,
   "id": "34044a74",
   "metadata": {},
   "outputs": [
    {
     "name": "stdout",
     "output_type": "stream",
     "text": [
      "Mean squared error:  85608766.65570387\n",
      "Mean absolute error:  5735.322118122517\n",
      "R2 score:  0.9339789415592039\n",
      "Mean squared error:  170315335.043247\n",
      "Mean absolute error:  8022.204972379742\n",
      "R2 score:  0.8631423076925715\n"
     ]
    }
   ],
   "source": [
    "forest_reg=RandomForestRegressor(max_depth=20, min_samples_split=10, n_estimators=300)\n",
    "#forest_reg=RandomForestRegressor(max_depth=10, min_samples_split=10, n_estimators=10)\n",
    "forest_reg.fit(X_train,Y_train) \n",
    "Forest_pred_train=forest_reg.predict(X_train)\n",
    "Forest_pred_test=forest_reg.predict(X_test)\n",
    "\n",
    "print(\"Mean squared error: \",metrics.mean_squared_error(Y_train,Forest_pred_train))\n",
    "print(\"Mean absolute error: \",metrics.mean_absolute_error(Y_train,Forest_pred_train))\n",
    "print(\"R2 score: \",metrics.r2_score(Y_train,Forest_pred_train))\n",
    "\n",
    "print(\"Mean squared error: \",metrics.mean_squared_error(Y_test,Forest_pred_test))\n",
    "print(\"Mean absolute error: \",metrics.mean_absolute_error(Y_test,Forest_pred_test))\n",
    "print(\"R2 score: \",metrics.r2_score(Y_test,Forest_pred_test))"
   ]
  },
  {
   "cell_type": "code",
   "execution_count": 154,
   "id": "6103f1da",
   "metadata": {},
   "outputs": [
    {
     "data": {
      "text/plain": [
       "'from sklearn.linear_model import Lasso\\nfrom sklearn.model_selection import GridSearchCV\\n\\n# Define the parameter grid for Lasso regression\\nlasso_param_grid = {\\n    \\'alpha\\': [0.01, 0.1, 1.0, 10.0]  # Regularization strength\\n}\\n\\n# Initialize Lasso regression model\\nlasso_model = Lasso(random_state=42)\\n\\n# Initialize GridSearchCV with Lasso regression model and parameter grid\\nlasso_grid_search = GridSearchCV(lasso_model, lasso_param_grid, cv=15, scoring=\\'r2\\')\\n\\n# Fit GridSearchCV to the data\\nlasso_grid_search.fit(X_train, Y_train)\\n\\n# Get best parameters and best score\\nlasso_best_params = lasso_grid_search.best_params_\\nlasso_best_score = lasso_grid_search.best_score_\\n\\n# Print best parameters and best score\\nprint(\"Best Parameters (Lasso Regression):\", lasso_best_params)\\nprint(\"Best R^2 Score (Lasso Regression):\", lasso_best_score)\\n'"
      ]
     },
     "execution_count": 154,
     "metadata": {},
     "output_type": "execute_result"
    }
   ],
   "source": [
    "\"\"\"from sklearn.linear_model import Lasso\n",
    "from sklearn.model_selection import GridSearchCV\n",
    "\n",
    "# Define the parameter grid for Lasso regression\n",
    "lasso_param_grid = {\n",
    "    'alpha': [0.01, 0.1, 1.0, 10.0]  # Regularization strength\n",
    "}\n",
    "\n",
    "# Initialize Lasso regression model\n",
    "lasso_model = Lasso(random_state=42)\n",
    "\n",
    "# Initialize GridSearchCV with Lasso regression model and parameter grid\n",
    "lasso_grid_search = GridSearchCV(lasso_model, lasso_param_grid, cv=15, scoring='r2')\n",
    "\n",
    "# Fit GridSearchCV to the data\n",
    "lasso_grid_search.fit(X_train, Y_train)\n",
    "\n",
    "# Get best parameters and best score\n",
    "lasso_best_params = lasso_grid_search.best_params_\n",
    "lasso_best_score = lasso_grid_search.best_score_\n",
    "\n",
    "# Print best parameters and best score\n",
    "print(\"Best Parameters (Lasso Regression):\", lasso_best_params)\n",
    "print(\"Best R^2 Score (Lasso Regression):\", lasso_best_score)\n",
    "\"\"\""
   ]
  },
  {
   "cell_type": "code",
   "execution_count": 155,
   "id": "a8809f04",
   "metadata": {},
   "outputs": [
    {
     "data": {
      "text/plain": [
       "'from sklearn.linear_model import Ridge\\n\\n# Define the parameter grid for Ridge regression\\nridge_param_grid = {\\n    \\'alpha\\': [0.01, 0.1, 1.0, 10.0]  # Regularization strength\\n}\\n\\n# Initialize Ridge regression model\\nridge_model = Ridge(random_state=42)\\n\\n# Initialize GridSearchCV with Ridge regression model and parameter grid\\nridge_grid_search = GridSearchCV(ridge_model, ridge_param_grid, cv=5, scoring=\\'r2\\')\\n\\n# Fit GridSearchCV to the data\\nridge_grid_search.fit(X_train, Y_train)\\n\\n# Get best parameters and best score\\nridge_best_params = ridge_grid_search.best_params_\\nridge_best_score = ridge_grid_search.best_score_\\n\\n# Print best parameters and best score\\nprint(\"Best Parameters (Ridge Regression):\", ridge_best_params)\\nprint(\"Best R^2 Score (Ridge Regression):\", ridge_best_score)\\n'"
      ]
     },
     "execution_count": 155,
     "metadata": {},
     "output_type": "execute_result"
    }
   ],
   "source": [
    "\"\"\"from sklearn.linear_model import Ridge\n",
    "\n",
    "# Define the parameter grid for Ridge regression\n",
    "ridge_param_grid = {\n",
    "    'alpha': [0.01, 0.1, 1.0, 10.0]  # Regularization strength\n",
    "}\n",
    "\n",
    "# Initialize Ridge regression model\n",
    "ridge_model = Ridge(random_state=42)\n",
    "\n",
    "# Initialize GridSearchCV with Ridge regression model and parameter grid\n",
    "ridge_grid_search = GridSearchCV(ridge_model, ridge_param_grid, cv=5, scoring='r2')\n",
    "\n",
    "# Fit GridSearchCV to the data\n",
    "ridge_grid_search.fit(X_train, Y_train)\n",
    "\n",
    "# Get best parameters and best score\n",
    "ridge_best_params = ridge_grid_search.best_params_\n",
    "ridge_best_score = ridge_grid_search.best_score_\n",
    "\n",
    "# Print best parameters and best score\n",
    "print(\"Best Parameters (Ridge Regression):\", ridge_best_params)\n",
    "print(\"Best R^2 Score (Ridge Regression):\", ridge_best_score)\n",
    "\"\"\""
   ]
  },
  {
   "cell_type": "markdown",
   "id": "a72ab33c",
   "metadata": {},
   "source": [
    "# 3 USING AMENITIES COLUMN"
   ]
  },
  {
   "cell_type": "code",
   "execution_count": 156,
   "id": "bcd69f3c",
   "metadata": {},
   "outputs": [],
   "source": [
    "df6 = df2.copy()"
   ]
  },
  {
   "cell_type": "code",
   "execution_count": 157,
   "id": "9bf6869d",
   "metadata": {},
   "outputs": [
    {
     "data": {
      "text/plain": [
       "\"q1= df3['Deposit Status'].quantile(0.25)\\nq3= df3['Deposit Status'].quantile(0.75)\\niqr= q3-q1\\nds_lf= q1-1.5*iqr\\nds_uf= q3+1.5*iqr\\nprint(ds_lf, ds_uf)\""
      ]
     },
     "execution_count": 157,
     "metadata": {},
     "output_type": "execute_result"
    }
   ],
   "source": [
    "\"\"\"q1= df3['Deposit Status'].quantile(0.25)\n",
    "q3= df3['Deposit Status'].quantile(0.75)\n",
    "iqr= q3-q1\n",
    "ds_lf= q1-1.5*iqr\n",
    "ds_uf= q3+1.5*iqr\n",
    "print(ds_lf, ds_uf)\"\"\""
   ]
  },
  {
   "cell_type": "code",
   "execution_count": 158,
   "id": "883b40d1",
   "metadata": {},
   "outputs": [
    {
     "name": "stdout",
     "output_type": "stream",
     "text": [
      "0\n",
      "0\n",
      "0\n"
     ]
    }
   ],
   "source": [
    "print(df6[df6['Square Feet']>sq_uf].shape[0])\n",
    "print(df6[df6['Price']>p_uf].shape[0])\n",
    "print(df6[df6['Deposit Status']>ds_uf].shape[0])"
   ]
  },
  {
   "cell_type": "code",
   "execution_count": 159,
   "id": "947e8ea6",
   "metadata": {},
   "outputs": [
    {
     "data": {
      "text/html": [
       "<div>\n",
       "<style scoped>\n",
       "    .dataframe tbody tr th:only-of-type {\n",
       "        vertical-align: middle;\n",
       "    }\n",
       "\n",
       "    .dataframe tbody tr th {\n",
       "        vertical-align: top;\n",
       "    }\n",
       "\n",
       "    .dataframe thead th {\n",
       "        text-align: right;\n",
       "    }\n",
       "</style>\n",
       "<table border=\"1\" class=\"dataframe\">\n",
       "  <thead>\n",
       "    <tr style=\"text-align: right;\">\n",
       "      <th></th>\n",
       "      <th>Facing</th>\n",
       "      <th>Square Feet</th>\n",
       "      <th>BHK Apartment</th>\n",
       "      <th>Price</th>\n",
       "      <th>Furnish Status</th>\n",
       "      <th>Deposit Status</th>\n",
       "      <th>Bathroom Count</th>\n",
       "      <th>Location</th>\n",
       "      <th>Amenities</th>\n",
       "    </tr>\n",
       "  </thead>\n",
       "  <tbody>\n",
       "    <tr>\n",
       "      <th>0</th>\n",
       "      <td>NaN</td>\n",
       "      <td>1180</td>\n",
       "      <td>5.0</td>\n",
       "      <td>19000.0</td>\n",
       "      <td>0.0</td>\n",
       "      <td>0.0</td>\n",
       "      <td>1.0</td>\n",
       "      <td>57.0</td>\n",
       "      <td>Swimming Pool, Lift(s), 24 X 7 Security, Staff...</td>\n",
       "    </tr>\n",
       "    <tr>\n",
       "      <th>1</th>\n",
       "      <td>NaN</td>\n",
       "      <td>1120</td>\n",
       "      <td>5.0</td>\n",
       "      <td>12500.0</td>\n",
       "      <td>2.0</td>\n",
       "      <td>0.0</td>\n",
       "      <td>1.0</td>\n",
       "      <td>57.0</td>\n",
       "      <td>Lift(s), Full Power Backup, 24 X 7 Security, C...</td>\n",
       "    </tr>\n",
       "    <tr>\n",
       "      <th>2</th>\n",
       "      <td>NaN</td>\n",
       "      <td>750</td>\n",
       "      <td>5.0</td>\n",
       "      <td>28500.0</td>\n",
       "      <td>2.0</td>\n",
       "      <td>0.0</td>\n",
       "      <td>1.0</td>\n",
       "      <td>31.0</td>\n",
       "      <td>Lift(s), Full Power Backup, 24 X 7 Security, C...</td>\n",
       "    </tr>\n",
       "    <tr>\n",
       "      <th>3</th>\n",
       "      <td>East facing</td>\n",
       "      <td>1400</td>\n",
       "      <td>8.0</td>\n",
       "      <td>50000.0</td>\n",
       "      <td>1.0</td>\n",
       "      <td>0.0</td>\n",
       "      <td>2.0</td>\n",
       "      <td>11.0</td>\n",
       "      <td>Gymnasium, Lift(s), Intercom, Sports Facility,...</td>\n",
       "    </tr>\n",
       "    <tr>\n",
       "      <th>4</th>\n",
       "      <td>East facing</td>\n",
       "      <td>450</td>\n",
       "      <td>4.0</td>\n",
       "      <td>3000.0</td>\n",
       "      <td>2.0</td>\n",
       "      <td>0.0</td>\n",
       "      <td>0.0</td>\n",
       "      <td>3.0</td>\n",
       "      <td>Car Parking, Multipurpose Room, Sports Facilit...</td>\n",
       "    </tr>\n",
       "    <tr>\n",
       "      <th>...</th>\n",
       "      <td>...</td>\n",
       "      <td>...</td>\n",
       "      <td>...</td>\n",
       "      <td>...</td>\n",
       "      <td>...</td>\n",
       "      <td>...</td>\n",
       "      <td>...</td>\n",
       "      <td>...</td>\n",
       "      <td>...</td>\n",
       "    </tr>\n",
       "    <tr>\n",
       "      <th>10399</th>\n",
       "      <td>NaN</td>\n",
       "      <td>650</td>\n",
       "      <td>0.0</td>\n",
       "      <td>16000.0</td>\n",
       "      <td>2.0</td>\n",
       "      <td>45000.0</td>\n",
       "      <td>0.0</td>\n",
       "      <td>21.0</td>\n",
       "      <td>Indoor Games, ATM, Maintenance Staff, Hospital...</td>\n",
       "    </tr>\n",
       "    <tr>\n",
       "      <th>10400</th>\n",
       "      <td>NaN</td>\n",
       "      <td>687</td>\n",
       "      <td>0.0</td>\n",
       "      <td>39000.0</td>\n",
       "      <td>0.0</td>\n",
       "      <td>125000.0</td>\n",
       "      <td>1.0</td>\n",
       "      <td>21.0</td>\n",
       "      <td>Maintenance Staff, ATM, Intercom, Lift(s), Gol...</td>\n",
       "    </tr>\n",
       "    <tr>\n",
       "      <th>10401</th>\n",
       "      <td>NaN</td>\n",
       "      <td>680</td>\n",
       "      <td>0.0</td>\n",
       "      <td>18000.0</td>\n",
       "      <td>2.0</td>\n",
       "      <td>55000.0</td>\n",
       "      <td>0.0</td>\n",
       "      <td>21.0</td>\n",
       "      <td>Indoor Games, ATM, Lift(s), Full Power Backup,...</td>\n",
       "    </tr>\n",
       "    <tr>\n",
       "      <th>10402</th>\n",
       "      <td>NaN</td>\n",
       "      <td>1250</td>\n",
       "      <td>5.0</td>\n",
       "      <td>33500.0</td>\n",
       "      <td>0.0</td>\n",
       "      <td>0.0</td>\n",
       "      <td>1.0</td>\n",
       "      <td>21.0</td>\n",
       "      <td>Jogging Track, Car Parking, Vaastu Compliant, ...</td>\n",
       "    </tr>\n",
       "    <tr>\n",
       "      <th>10403</th>\n",
       "      <td>NaN</td>\n",
       "      <td>1200</td>\n",
       "      <td>5.0</td>\n",
       "      <td>35000.0</td>\n",
       "      <td>0.0</td>\n",
       "      <td>0.0</td>\n",
       "      <td>2.0</td>\n",
       "      <td>21.0</td>\n",
       "      <td>ATM, Lift(s), Indoor Games, Full Power Backup,...</td>\n",
       "    </tr>\n",
       "  </tbody>\n",
       "</table>\n",
       "<p>10404 rows × 9 columns</p>\n",
       "</div>"
      ],
      "text/plain": [
       "            Facing  Square Feet  BHK Apartment    Price  Furnish Status  \\\n",
       "0              NaN         1180            5.0  19000.0             0.0   \n",
       "1              NaN         1120            5.0  12500.0             2.0   \n",
       "2              NaN          750            5.0  28500.0             2.0   \n",
       "3      East facing         1400            8.0  50000.0             1.0   \n",
       "4      East facing          450            4.0   3000.0             2.0   \n",
       "...            ...          ...            ...      ...             ...   \n",
       "10399          NaN          650            0.0  16000.0             2.0   \n",
       "10400          NaN          687            0.0  39000.0             0.0   \n",
       "10401          NaN          680            0.0  18000.0             2.0   \n",
       "10402          NaN         1250            5.0  33500.0             0.0   \n",
       "10403          NaN         1200            5.0  35000.0             0.0   \n",
       "\n",
       "       Deposit Status  Bathroom Count  Location  \\\n",
       "0                 0.0             1.0      57.0   \n",
       "1                 0.0             1.0      57.0   \n",
       "2                 0.0             1.0      31.0   \n",
       "3                 0.0             2.0      11.0   \n",
       "4                 0.0             0.0       3.0   \n",
       "...               ...             ...       ...   \n",
       "10399         45000.0             0.0      21.0   \n",
       "10400        125000.0             1.0      21.0   \n",
       "10401         55000.0             0.0      21.0   \n",
       "10402             0.0             1.0      21.0   \n",
       "10403             0.0             2.0      21.0   \n",
       "\n",
       "                                               Amenities  \n",
       "0      Swimming Pool, Lift(s), 24 X 7 Security, Staff...  \n",
       "1      Lift(s), Full Power Backup, 24 X 7 Security, C...  \n",
       "2      Lift(s), Full Power Backup, 24 X 7 Security, C...  \n",
       "3      Gymnasium, Lift(s), Intercom, Sports Facility,...  \n",
       "4      Car Parking, Multipurpose Room, Sports Facilit...  \n",
       "...                                                  ...  \n",
       "10399  Indoor Games, ATM, Maintenance Staff, Hospital...  \n",
       "10400  Maintenance Staff, ATM, Intercom, Lift(s), Gol...  \n",
       "10401  Indoor Games, ATM, Lift(s), Full Power Backup,...  \n",
       "10402  Jogging Track, Car Parking, Vaastu Compliant, ...  \n",
       "10403  ATM, Lift(s), Indoor Games, Full Power Backup,...  \n",
       "\n",
       "[10404 rows x 9 columns]"
      ]
     },
     "execution_count": 159,
     "metadata": {},
     "output_type": "execute_result"
    }
   ],
   "source": [
    "df6"
   ]
  },
  {
   "cell_type": "code",
   "execution_count": 160,
   "id": "b83fc347",
   "metadata": {},
   "outputs": [
    {
     "data": {
      "text/plain": [
       "Facing            7603\n",
       "Square Feet          0\n",
       "BHK Apartment        0\n",
       "Price                0\n",
       "Furnish Status       0\n",
       "Deposit Status       0\n",
       "Bathroom Count       0\n",
       "Location             0\n",
       "Amenities           32\n",
       "dtype: int64"
      ]
     },
     "execution_count": 160,
     "metadata": {},
     "output_type": "execute_result"
    }
   ],
   "source": [
    "df6.isnull().sum()"
   ]
  },
  {
   "cell_type": "code",
   "execution_count": 161,
   "id": "1a981c42",
   "metadata": {},
   "outputs": [],
   "source": [
    "df6.dropna(subset=['Amenities'], inplace=True)\n",
    "df6.reset_index(drop=True, inplace=True)"
   ]
  },
  {
   "cell_type": "code",
   "execution_count": 162,
   "id": "3bf812d8",
   "metadata": {},
   "outputs": [],
   "source": [
    "def amenities_tokenizer(x):\n",
    "    return x.split(', ')"
   ]
  },
  {
   "cell_type": "code",
   "execution_count": 163,
   "id": "67bed074",
   "metadata": {},
   "outputs": [
    {
     "name": "stdout",
     "output_type": "stream",
     "text": [
      "            Facing  Square Feet  BHK Apartment    Price  Furnish Status  \\\n",
      "0              NaN         1180            5.0  19000.0             0.0   \n",
      "1              NaN         1120            5.0  12500.0             2.0   \n",
      "2              NaN          750            5.0  28500.0             2.0   \n",
      "3      East facing         1400            8.0  50000.0             1.0   \n",
      "4      East facing          450            4.0   3000.0             2.0   \n",
      "...            ...          ...            ...      ...             ...   \n",
      "10367          NaN          650            0.0  16000.0             2.0   \n",
      "10368          NaN          687            0.0  39000.0             0.0   \n",
      "10369          NaN          680            0.0  18000.0             2.0   \n",
      "10370          NaN         1250            5.0  33500.0             0.0   \n",
      "10371          NaN         1200            5.0  35000.0             0.0   \n",
      "\n",
      "       Deposit Status  Bathroom Count  Location  \\\n",
      "0                 0.0             1.0      57.0   \n",
      "1                 0.0             1.0      57.0   \n",
      "2                 0.0             1.0      31.0   \n",
      "3                 0.0             2.0      11.0   \n",
      "4                 0.0             0.0       3.0   \n",
      "...               ...             ...       ...   \n",
      "10367         45000.0             0.0      21.0   \n",
      "10368        125000.0             1.0      21.0   \n",
      "10369         55000.0             0.0      21.0   \n",
      "10370             0.0             1.0      21.0   \n",
      "10371             0.0             2.0      21.0   \n",
      "\n",
      "                                               Amenities  24 x 7 security  \\\n",
      "0      Swimming Pool, Lift(s), 24 X 7 Security, Staff...                1   \n",
      "1      Lift(s), Full Power Backup, 24 X 7 Security, C...                1   \n",
      "2      Lift(s), Full Power Backup, 24 X 7 Security, C...                1   \n",
      "3      Gymnasium, Lift(s), Intercom, Sports Facility,...                1   \n",
      "4      Car Parking, Multipurpose Room, Sports Facilit...                1   \n",
      "...                                                  ...              ...   \n",
      "10367  Indoor Games, ATM, Maintenance Staff, Hospital...                1   \n",
      "10368  Maintenance Staff, ATM, Intercom, Lift(s), Gol...                1   \n",
      "10369  Indoor Games, ATM, Lift(s), Full Power Backup,...                1   \n",
      "10370  Jogging Track, Car Parking, Vaastu Compliant, ...                1   \n",
      "10371  ATM, Lift(s), Indoor Games, Full Power Backup,...                1   \n",
      "\n",
      "       ...  lift(s)  maintenance staff  multipurpose room  \\\n",
      "0      ...        1                  1                  0   \n",
      "1      ...        1                  0                  0   \n",
      "2      ...        1                  0                  0   \n",
      "3      ...        1                  0                  0   \n",
      "4      ...        1                  1                  1   \n",
      "...    ...      ...                ...                ...   \n",
      "10367  ...        1                  1                  0   \n",
      "10368  ...        1                  1                  1   \n",
      "10369  ...        1                  1                  0   \n",
      "10370  ...        1                  0                  0   \n",
      "10371  ...        1                  0                  0   \n",
      "\n",
      "       rain water harvesting  school  shopping mall  sports facility  \\\n",
      "0                          1       0              0                1   \n",
      "1                          0       0              0                1   \n",
      "2                          0       0              0                1   \n",
      "3                          0       0              0                1   \n",
      "4                          1       0              0                1   \n",
      "...                      ...     ...            ...              ...   \n",
      "10367                      1       1              1                1   \n",
      "10368                      1       1              1                1   \n",
      "10369                      1       1              1                1   \n",
      "10370                      0       0              0                1   \n",
      "10371                      1       1              1                1   \n",
      "\n",
      "       staff quarter  swimming pool  vaastu compliant  \n",
      "0                  1              1                 1  \n",
      "1                  0              1                 0  \n",
      "2                  0              1                 0  \n",
      "3                  0              1                 0  \n",
      "4                  0              1                 1  \n",
      "...              ...            ...               ...  \n",
      "10367              0              1                 1  \n",
      "10368              1              1                 1  \n",
      "10369              1              1                 1  \n",
      "10370              0              1                 1  \n",
      "10371              1              1                 1  \n",
      "\n",
      "[10372 rows x 33 columns]\n"
     ]
    },
    {
     "name": "stderr",
     "output_type": "stream",
     "text": [
      "C:\\Users\\Nikita\\anaconda3\\Lib\\site-packages\\sklearn\\feature_extraction\\text.py:525: UserWarning: The parameter 'token_pattern' will not be used since 'tokenizer' is not None'\n",
      "  warnings.warn(\n"
     ]
    }
   ],
   "source": [
    "from sklearn.feature_extraction.text import CountVectorizer\n",
    "# Initialize CountVectorizer\n",
    "vectorizer = CountVectorizer(tokenizer=amenities_tokenizer)\n",
    "\n",
    "# Fit and transform the amenities column\n",
    "amenities_matrix = vectorizer.fit_transform(df6['Amenities'])\n",
    "\n",
    "# Convert the result to a DataFrame\n",
    "amenities_df = pd.DataFrame(amenities_matrix.toarray(), columns=vectorizer.get_feature_names_out())\n",
    "\n",
    "# Reset index of amenities_df to match the index of df\n",
    "#amenities_df.reset_index(drop=True, inplace=True)\n",
    "\n",
    "# Concatenate with the original DataFrame\n",
    "df6 = pd.concat([df6, amenities_df], axis=1)\n",
    "\n",
    "print(df6)"
   ]
  },
  {
   "cell_type": "code",
   "execution_count": 164,
   "id": "3a7bc1cb",
   "metadata": {},
   "outputs": [
    {
     "data": {
      "text/plain": [
       "Facing                   7574\n",
       "Square Feet                 0\n",
       "BHK Apartment               0\n",
       "Price                       0\n",
       "Furnish Status              0\n",
       "Deposit Status              0\n",
       "Bathroom Count              0\n",
       "Location                    0\n",
       "Amenities                   0\n",
       "24 x 7 security             0\n",
       "atm                         0\n",
       "cafeteria                   0\n",
       "car parking                 0\n",
       "children's play area        0\n",
       "club house                  0\n",
       "full power backup           0\n",
       "golf course                 0\n",
       "gymnasium                   0\n",
       "hospital                    0\n",
       "indoor games                0\n",
       "intercom                    0\n",
       "jogging track               0\n",
       "landscaped gardens          0\n",
       "lift(s)                     0\n",
       "maintenance staff           0\n",
       "multipurpose room           0\n",
       "rain water harvesting       0\n",
       "school                      0\n",
       "shopping mall               0\n",
       "sports facility             0\n",
       "staff quarter               0\n",
       "swimming pool               0\n",
       "vaastu compliant            0\n",
       "dtype: int64"
      ]
     },
     "execution_count": 164,
     "metadata": {},
     "output_type": "execute_result"
    }
   ],
   "source": [
    "df6.isnull().sum()"
   ]
  },
  {
   "cell_type": "code",
   "execution_count": 165,
   "id": "f6c96a7d",
   "metadata": {
    "scrolled": true
   },
   "outputs": [
    {
     "data": {
      "text/html": [
       "<div>\n",
       "<style scoped>\n",
       "    .dataframe tbody tr th:only-of-type {\n",
       "        vertical-align: middle;\n",
       "    }\n",
       "\n",
       "    .dataframe tbody tr th {\n",
       "        vertical-align: top;\n",
       "    }\n",
       "\n",
       "    .dataframe thead th {\n",
       "        text-align: right;\n",
       "    }\n",
       "</style>\n",
       "<table border=\"1\" class=\"dataframe\">\n",
       "  <thead>\n",
       "    <tr style=\"text-align: right;\">\n",
       "      <th></th>\n",
       "      <th>Facing</th>\n",
       "      <th>Square Feet</th>\n",
       "      <th>BHK Apartment</th>\n",
       "      <th>Price</th>\n",
       "      <th>Furnish Status</th>\n",
       "      <th>Deposit Status</th>\n",
       "      <th>Bathroom Count</th>\n",
       "      <th>Location</th>\n",
       "      <th>Amenities</th>\n",
       "      <th>24 x 7 security</th>\n",
       "      <th>...</th>\n",
       "      <th>lift(s)</th>\n",
       "      <th>maintenance staff</th>\n",
       "      <th>multipurpose room</th>\n",
       "      <th>rain water harvesting</th>\n",
       "      <th>school</th>\n",
       "      <th>shopping mall</th>\n",
       "      <th>sports facility</th>\n",
       "      <th>staff quarter</th>\n",
       "      <th>swimming pool</th>\n",
       "      <th>vaastu compliant</th>\n",
       "    </tr>\n",
       "  </thead>\n",
       "  <tbody>\n",
       "    <tr>\n",
       "      <th>0</th>\n",
       "      <td>NaN</td>\n",
       "      <td>1180</td>\n",
       "      <td>5.0</td>\n",
       "      <td>19000.0</td>\n",
       "      <td>0.0</td>\n",
       "      <td>0.0</td>\n",
       "      <td>1.0</td>\n",
       "      <td>57.0</td>\n",
       "      <td>Swimming Pool, Lift(s), 24 X 7 Security, Staff...</td>\n",
       "      <td>1</td>\n",
       "      <td>...</td>\n",
       "      <td>1</td>\n",
       "      <td>1</td>\n",
       "      <td>0</td>\n",
       "      <td>1</td>\n",
       "      <td>0</td>\n",
       "      <td>0</td>\n",
       "      <td>1</td>\n",
       "      <td>1</td>\n",
       "      <td>1</td>\n",
       "      <td>1</td>\n",
       "    </tr>\n",
       "    <tr>\n",
       "      <th>1</th>\n",
       "      <td>NaN</td>\n",
       "      <td>1120</td>\n",
       "      <td>5.0</td>\n",
       "      <td>12500.0</td>\n",
       "      <td>2.0</td>\n",
       "      <td>0.0</td>\n",
       "      <td>1.0</td>\n",
       "      <td>57.0</td>\n",
       "      <td>Lift(s), Full Power Backup, 24 X 7 Security, C...</td>\n",
       "      <td>1</td>\n",
       "      <td>...</td>\n",
       "      <td>1</td>\n",
       "      <td>0</td>\n",
       "      <td>0</td>\n",
       "      <td>0</td>\n",
       "      <td>0</td>\n",
       "      <td>0</td>\n",
       "      <td>1</td>\n",
       "      <td>0</td>\n",
       "      <td>1</td>\n",
       "      <td>0</td>\n",
       "    </tr>\n",
       "    <tr>\n",
       "      <th>2</th>\n",
       "      <td>NaN</td>\n",
       "      <td>750</td>\n",
       "      <td>5.0</td>\n",
       "      <td>28500.0</td>\n",
       "      <td>2.0</td>\n",
       "      <td>0.0</td>\n",
       "      <td>1.0</td>\n",
       "      <td>31.0</td>\n",
       "      <td>Lift(s), Full Power Backup, 24 X 7 Security, C...</td>\n",
       "      <td>1</td>\n",
       "      <td>...</td>\n",
       "      <td>1</td>\n",
       "      <td>0</td>\n",
       "      <td>0</td>\n",
       "      <td>0</td>\n",
       "      <td>0</td>\n",
       "      <td>0</td>\n",
       "      <td>1</td>\n",
       "      <td>0</td>\n",
       "      <td>1</td>\n",
       "      <td>0</td>\n",
       "    </tr>\n",
       "    <tr>\n",
       "      <th>3</th>\n",
       "      <td>East facing</td>\n",
       "      <td>1400</td>\n",
       "      <td>8.0</td>\n",
       "      <td>50000.0</td>\n",
       "      <td>1.0</td>\n",
       "      <td>0.0</td>\n",
       "      <td>2.0</td>\n",
       "      <td>11.0</td>\n",
       "      <td>Gymnasium, Lift(s), Intercom, Sports Facility,...</td>\n",
       "      <td>1</td>\n",
       "      <td>...</td>\n",
       "      <td>1</td>\n",
       "      <td>0</td>\n",
       "      <td>0</td>\n",
       "      <td>0</td>\n",
       "      <td>0</td>\n",
       "      <td>0</td>\n",
       "      <td>1</td>\n",
       "      <td>0</td>\n",
       "      <td>1</td>\n",
       "      <td>0</td>\n",
       "    </tr>\n",
       "    <tr>\n",
       "      <th>4</th>\n",
       "      <td>East facing</td>\n",
       "      <td>450</td>\n",
       "      <td>4.0</td>\n",
       "      <td>3000.0</td>\n",
       "      <td>2.0</td>\n",
       "      <td>0.0</td>\n",
       "      <td>0.0</td>\n",
       "      <td>3.0</td>\n",
       "      <td>Car Parking, Multipurpose Room, Sports Facilit...</td>\n",
       "      <td>1</td>\n",
       "      <td>...</td>\n",
       "      <td>1</td>\n",
       "      <td>1</td>\n",
       "      <td>1</td>\n",
       "      <td>1</td>\n",
       "      <td>0</td>\n",
       "      <td>0</td>\n",
       "      <td>1</td>\n",
       "      <td>0</td>\n",
       "      <td>1</td>\n",
       "      <td>1</td>\n",
       "    </tr>\n",
       "    <tr>\n",
       "      <th>...</th>\n",
       "      <td>...</td>\n",
       "      <td>...</td>\n",
       "      <td>...</td>\n",
       "      <td>...</td>\n",
       "      <td>...</td>\n",
       "      <td>...</td>\n",
       "      <td>...</td>\n",
       "      <td>...</td>\n",
       "      <td>...</td>\n",
       "      <td>...</td>\n",
       "      <td>...</td>\n",
       "      <td>...</td>\n",
       "      <td>...</td>\n",
       "      <td>...</td>\n",
       "      <td>...</td>\n",
       "      <td>...</td>\n",
       "      <td>...</td>\n",
       "      <td>...</td>\n",
       "      <td>...</td>\n",
       "      <td>...</td>\n",
       "      <td>...</td>\n",
       "    </tr>\n",
       "    <tr>\n",
       "      <th>10367</th>\n",
       "      <td>NaN</td>\n",
       "      <td>650</td>\n",
       "      <td>0.0</td>\n",
       "      <td>16000.0</td>\n",
       "      <td>2.0</td>\n",
       "      <td>45000.0</td>\n",
       "      <td>0.0</td>\n",
       "      <td>21.0</td>\n",
       "      <td>Indoor Games, ATM, Maintenance Staff, Hospital...</td>\n",
       "      <td>1</td>\n",
       "      <td>...</td>\n",
       "      <td>1</td>\n",
       "      <td>1</td>\n",
       "      <td>0</td>\n",
       "      <td>1</td>\n",
       "      <td>1</td>\n",
       "      <td>1</td>\n",
       "      <td>1</td>\n",
       "      <td>0</td>\n",
       "      <td>1</td>\n",
       "      <td>1</td>\n",
       "    </tr>\n",
       "    <tr>\n",
       "      <th>10368</th>\n",
       "      <td>NaN</td>\n",
       "      <td>687</td>\n",
       "      <td>0.0</td>\n",
       "      <td>39000.0</td>\n",
       "      <td>0.0</td>\n",
       "      <td>125000.0</td>\n",
       "      <td>1.0</td>\n",
       "      <td>21.0</td>\n",
       "      <td>Maintenance Staff, ATM, Intercom, Lift(s), Gol...</td>\n",
       "      <td>1</td>\n",
       "      <td>...</td>\n",
       "      <td>1</td>\n",
       "      <td>1</td>\n",
       "      <td>1</td>\n",
       "      <td>1</td>\n",
       "      <td>1</td>\n",
       "      <td>1</td>\n",
       "      <td>1</td>\n",
       "      <td>1</td>\n",
       "      <td>1</td>\n",
       "      <td>1</td>\n",
       "    </tr>\n",
       "    <tr>\n",
       "      <th>10369</th>\n",
       "      <td>NaN</td>\n",
       "      <td>680</td>\n",
       "      <td>0.0</td>\n",
       "      <td>18000.0</td>\n",
       "      <td>2.0</td>\n",
       "      <td>55000.0</td>\n",
       "      <td>0.0</td>\n",
       "      <td>21.0</td>\n",
       "      <td>Indoor Games, ATM, Lift(s), Full Power Backup,...</td>\n",
       "      <td>1</td>\n",
       "      <td>...</td>\n",
       "      <td>1</td>\n",
       "      <td>1</td>\n",
       "      <td>0</td>\n",
       "      <td>1</td>\n",
       "      <td>1</td>\n",
       "      <td>1</td>\n",
       "      <td>1</td>\n",
       "      <td>1</td>\n",
       "      <td>1</td>\n",
       "      <td>1</td>\n",
       "    </tr>\n",
       "    <tr>\n",
       "      <th>10370</th>\n",
       "      <td>NaN</td>\n",
       "      <td>1250</td>\n",
       "      <td>5.0</td>\n",
       "      <td>33500.0</td>\n",
       "      <td>0.0</td>\n",
       "      <td>0.0</td>\n",
       "      <td>1.0</td>\n",
       "      <td>21.0</td>\n",
       "      <td>Jogging Track, Car Parking, Vaastu Compliant, ...</td>\n",
       "      <td>1</td>\n",
       "      <td>...</td>\n",
       "      <td>1</td>\n",
       "      <td>0</td>\n",
       "      <td>0</td>\n",
       "      <td>0</td>\n",
       "      <td>0</td>\n",
       "      <td>0</td>\n",
       "      <td>1</td>\n",
       "      <td>0</td>\n",
       "      <td>1</td>\n",
       "      <td>1</td>\n",
       "    </tr>\n",
       "    <tr>\n",
       "      <th>10371</th>\n",
       "      <td>NaN</td>\n",
       "      <td>1200</td>\n",
       "      <td>5.0</td>\n",
       "      <td>35000.0</td>\n",
       "      <td>0.0</td>\n",
       "      <td>0.0</td>\n",
       "      <td>2.0</td>\n",
       "      <td>21.0</td>\n",
       "      <td>ATM, Lift(s), Indoor Games, Full Power Backup,...</td>\n",
       "      <td>1</td>\n",
       "      <td>...</td>\n",
       "      <td>1</td>\n",
       "      <td>0</td>\n",
       "      <td>0</td>\n",
       "      <td>1</td>\n",
       "      <td>1</td>\n",
       "      <td>1</td>\n",
       "      <td>1</td>\n",
       "      <td>1</td>\n",
       "      <td>1</td>\n",
       "      <td>1</td>\n",
       "    </tr>\n",
       "  </tbody>\n",
       "</table>\n",
       "<p>10372 rows × 33 columns</p>\n",
       "</div>"
      ],
      "text/plain": [
       "            Facing  Square Feet  BHK Apartment    Price  Furnish Status  \\\n",
       "0              NaN         1180            5.0  19000.0             0.0   \n",
       "1              NaN         1120            5.0  12500.0             2.0   \n",
       "2              NaN          750            5.0  28500.0             2.0   \n",
       "3      East facing         1400            8.0  50000.0             1.0   \n",
       "4      East facing          450            4.0   3000.0             2.0   \n",
       "...            ...          ...            ...      ...             ...   \n",
       "10367          NaN          650            0.0  16000.0             2.0   \n",
       "10368          NaN          687            0.0  39000.0             0.0   \n",
       "10369          NaN          680            0.0  18000.0             2.0   \n",
       "10370          NaN         1250            5.0  33500.0             0.0   \n",
       "10371          NaN         1200            5.0  35000.0             0.0   \n",
       "\n",
       "       Deposit Status  Bathroom Count  Location  \\\n",
       "0                 0.0             1.0      57.0   \n",
       "1                 0.0             1.0      57.0   \n",
       "2                 0.0             1.0      31.0   \n",
       "3                 0.0             2.0      11.0   \n",
       "4                 0.0             0.0       3.0   \n",
       "...               ...             ...       ...   \n",
       "10367         45000.0             0.0      21.0   \n",
       "10368        125000.0             1.0      21.0   \n",
       "10369         55000.0             0.0      21.0   \n",
       "10370             0.0             1.0      21.0   \n",
       "10371             0.0             2.0      21.0   \n",
       "\n",
       "                                               Amenities  24 x 7 security  \\\n",
       "0      Swimming Pool, Lift(s), 24 X 7 Security, Staff...                1   \n",
       "1      Lift(s), Full Power Backup, 24 X 7 Security, C...                1   \n",
       "2      Lift(s), Full Power Backup, 24 X 7 Security, C...                1   \n",
       "3      Gymnasium, Lift(s), Intercom, Sports Facility,...                1   \n",
       "4      Car Parking, Multipurpose Room, Sports Facilit...                1   \n",
       "...                                                  ...              ...   \n",
       "10367  Indoor Games, ATM, Maintenance Staff, Hospital...                1   \n",
       "10368  Maintenance Staff, ATM, Intercom, Lift(s), Gol...                1   \n",
       "10369  Indoor Games, ATM, Lift(s), Full Power Backup,...                1   \n",
       "10370  Jogging Track, Car Parking, Vaastu Compliant, ...                1   \n",
       "10371  ATM, Lift(s), Indoor Games, Full Power Backup,...                1   \n",
       "\n",
       "       ...  lift(s)  maintenance staff  multipurpose room  \\\n",
       "0      ...        1                  1                  0   \n",
       "1      ...        1                  0                  0   \n",
       "2      ...        1                  0                  0   \n",
       "3      ...        1                  0                  0   \n",
       "4      ...        1                  1                  1   \n",
       "...    ...      ...                ...                ...   \n",
       "10367  ...        1                  1                  0   \n",
       "10368  ...        1                  1                  1   \n",
       "10369  ...        1                  1                  0   \n",
       "10370  ...        1                  0                  0   \n",
       "10371  ...        1                  0                  0   \n",
       "\n",
       "       rain water harvesting  school  shopping mall  sports facility  \\\n",
       "0                          1       0              0                1   \n",
       "1                          0       0              0                1   \n",
       "2                          0       0              0                1   \n",
       "3                          0       0              0                1   \n",
       "4                          1       0              0                1   \n",
       "...                      ...     ...            ...              ...   \n",
       "10367                      1       1              1                1   \n",
       "10368                      1       1              1                1   \n",
       "10369                      1       1              1                1   \n",
       "10370                      0       0              0                1   \n",
       "10371                      1       1              1                1   \n",
       "\n",
       "       staff quarter  swimming pool  vaastu compliant  \n",
       "0                  1              1                 1  \n",
       "1                  0              1                 0  \n",
       "2                  0              1                 0  \n",
       "3                  0              1                 0  \n",
       "4                  0              1                 1  \n",
       "...              ...            ...               ...  \n",
       "10367              0              1                 1  \n",
       "10368              1              1                 1  \n",
       "10369              1              1                 1  \n",
       "10370              0              1                 1  \n",
       "10371              1              1                 1  \n",
       "\n",
       "[10372 rows x 33 columns]"
      ]
     },
     "execution_count": 165,
     "metadata": {},
     "output_type": "execute_result"
    }
   ],
   "source": [
    "df6"
   ]
  },
  {
   "cell_type": "code",
   "execution_count": 166,
   "id": "39732902",
   "metadata": {},
   "outputs": [],
   "source": [
    "df6X = df6.loc[:, ~df6.columns.isin([\"Facing\", \"Price\", \"Amenities\"])]\n",
    "df6y = df6[\"Price\"]"
   ]
  },
  {
   "cell_type": "code",
   "execution_count": 167,
   "id": "5c6f1dd6",
   "metadata": {},
   "outputs": [],
   "source": [
    "from sklearn.model_selection import train_test_split\n",
    "from sklearn.preprocessing import MinMaxScaler\n",
    "from sklearn.compose import ColumnTransformer\n",
    "from sklearn.preprocessing import StandardScaler\n",
    "\n",
    "# Split the dataset into training and testing sets\n",
    "Xx_train, Xx_test, Yy_train, Yy_test = train_test_split(df6X, df6y, test_size=0.2, random_state=43)\n",
    "\n",
    "# Define numerical features (excluding categorical features)\n",
    "numerical_features = ['Square Feet', 'Deposit Status']\n",
    "\n",
    "# Define preprocessing steps for numerical features only\n",
    "preprocessor = ColumnTransformer(\n",
    "    transformers=[\n",
    "        ('num', MinMaxScaler(), numerical_features)\n",
    "    ])\n",
    "\n",
    "# Fit and transform preprocessing steps on training data\n",
    "Xx_train_pro = preprocessor.fit_transform(Xx_train)\n",
    "\n",
    "# Transform testing data using preprocessing steps\n",
    "Xx_test_pro = preprocessor.transform(Xx_test)\n",
    "\n",
    "# Initialize StandardScaler\n",
    "scaler = StandardScaler()\n",
    "\n",
    "# Fit scaler on training features\n",
    "scaler.fit(Xx_train[numerical_features])\n",
    "\n",
    "# Transform training and testing features\n",
    "Xx_train_scaled = scaler.transform(Xx_train[numerical_features])\n",
    "Xx_test_scaled = scaler.transform(Xx_test[numerical_features])\n"
   ]
  },
  {
   "cell_type": "markdown",
   "id": "f81311ce",
   "metadata": {},
   "source": [
    "# Linear Regression"
   ]
  },
  {
   "cell_type": "code",
   "execution_count": 168,
   "id": "376ed497",
   "metadata": {},
   "outputs": [
    {
     "name": "stdout",
     "output_type": "stream",
     "text": [
      "Mean squared error:  579655764.6594075\n",
      "Mean absolute error:  18005.101250606316\n",
      "R2 score:  0.5562827221157116\n",
      "Mean squared error:  522944321.35022855\n",
      "Mean absolute error:  17071.349935525694\n",
      "R2 score:  0.5683341870130338\n"
     ]
    }
   ],
   "source": [
    "lin=LinearRegression()\n",
    "lin.fit(Xx_train,Yy_train)\n",
    "Yy_pred_lin=lin.predict(Xx_train)\n",
    "Yy_test_pred=lin.predict(Xx_test)\n",
    "\n",
    "print(\"Mean squared error: \",metrics.mean_squared_error(Yy_train,Yy_pred_lin))\n",
    "print(\"Mean absolute error: \",metrics.mean_absolute_error(Yy_train,Yy_pred_lin))\n",
    "print(\"R2 score: \",metrics.r2_score(Yy_train,Yy_pred_lin))\n",
    "\n",
    "print(\"Mean squared error: \",metrics.mean_squared_error(Yy_test,Yy_test_pred))\n",
    "print(\"Mean absolute error: \",metrics.mean_absolute_error(Yy_test,Yy_test_pred))\n",
    "print(\"R2 score: \",metrics.r2_score(Yy_test,Yy_test_pred))"
   ]
  },
  {
   "cell_type": "code",
   "execution_count": 169,
   "id": "8d3ff0f1",
   "metadata": {},
   "outputs": [
    {
     "data": {
      "text/plain": [
       "'from sklearn.model_selection import GridSearchCV\\nfrom sklearn.ensemble import RandomForestRegressor\\nfrom sklearn.metrics import make_scorer, mean_squared_error\\n\\n# Define your random forest model\\nrf_model = RandomForestRegressor(random_state=42)\\n\\n# Define the parameters grid to search\\nparam_grid = {\\n    \\'n_estimators\\': [100, 200, 300],\\n    \\'max_depth\\': [5, 10, 15, 20, None],\\n    \\'max_features\\': [\\'sqrt\\', \\'log2\\', None],\\n    \\'min_samples_split\\': [2, 5, 10],\\n    \\'min_samples_leaf\\': [1, 2, 4],\\n    \\'bootstrap\\': [True, False],\\n    \\'ccp_alpha\\': [0.0, 0.1, 0.2]  # This is the parameter for L1 or L2 regularization\\n}\\n\\n# Define your scoring function (e.g., mean squared error)\\nscoring = make_scorer(mean_squared_error, greater_is_better=False)\\n\\n# Create GridSearchCV object\\ngrid_search = GridSearchCV(estimator=rf_model, param_grid=param_grid, scoring=scoring, cv=15, n_jobs=-1)\\n\\n# Fit the model\\ngrid_search.fit(Xx_train, Yy_train)\\n\\n# Print the best parameters\\nprint(\"Best parameters found:\", grid_search.best_params_)\\n\\n# Get the best model\\nbest_rf_model = grid_search.best_estimator_\\n\\n# Predictions\\nYy_train_pred_best = best_rf_model.predict(Xx_train)\\nYy_test_pred_best = best_rf_model.predict(Xx_test)\\n\\n# Evaluate the best model\\nprint(\"\\nBest Random Forest Performance:\")\\nprint(\"Training RMSE:\", np.sqrt(mean_squared_error(Yy_train, Yy_train_pred_best)))\\nprint(\"Testing RMSE:\", np.sqrt(mean_squared_error(Yy_test, Yy_test_pred_best)))\\nprint(\"Training R^2 Score:\", r2_score(Yy_train,Yy_train_pred_best))\\nprint(\"Testing R^2 Score:\", r2_score(Yy_test, Yy_test_pred_best))\\n'"
      ]
     },
     "execution_count": 169,
     "metadata": {},
     "output_type": "execute_result"
    }
   ],
   "source": [
    "\"\"\"from sklearn.model_selection import GridSearchCV\n",
    "from sklearn.ensemble import RandomForestRegressor\n",
    "from sklearn.metrics import make_scorer, mean_squared_error\n",
    "\n",
    "# Define your random forest model\n",
    "rf_model = RandomForestRegressor(random_state=42)\n",
    "\n",
    "# Define the parameters grid to search\n",
    "param_grid = {\n",
    "    'n_estimators': [100, 200, 300],\n",
    "    'max_depth': [5, 10, 15, 20, None],\n",
    "    'max_features': ['sqrt', 'log2', None],\n",
    "    'min_samples_split': [2, 5, 10],\n",
    "    'min_samples_leaf': [1, 2, 4],\n",
    "    'bootstrap': [True, False],\n",
    "    'ccp_alpha': [0.0, 0.1, 0.2]  # This is the parameter for L1 or L2 regularization\n",
    "}\n",
    "\n",
    "# Define your scoring function (e.g., mean squared error)\n",
    "scoring = make_scorer(mean_squared_error, greater_is_better=False)\n",
    "\n",
    "# Create GridSearchCV object\n",
    "grid_search = GridSearchCV(estimator=rf_model, param_grid=param_grid, scoring=scoring, cv=15, n_jobs=-1)\n",
    "\n",
    "# Fit the model\n",
    "grid_search.fit(Xx_train, Yy_train)\n",
    "\n",
    "# Print the best parameters\n",
    "print(\"Best parameters found:\", grid_search.best_params_)\n",
    "\n",
    "# Get the best model\n",
    "best_rf_model = grid_search.best_estimator_\n",
    "\n",
    "# Predictions\n",
    "Yy_train_pred_best = best_rf_model.predict(Xx_train)\n",
    "Yy_test_pred_best = best_rf_model.predict(Xx_test)\n",
    "\n",
    "# Evaluate the best model\n",
    "print(\"\\nBest Random Forest Performance:\")\n",
    "print(\"Training RMSE:\", np.sqrt(mean_squared_error(Yy_train, Yy_train_pred_best)))\n",
    "print(\"Testing RMSE:\", np.sqrt(mean_squared_error(Yy_test, Yy_test_pred_best)))\n",
    "print(\"Training R^2 Score:\", r2_score(Yy_train,Yy_train_pred_best))\n",
    "print(\"Testing R^2 Score:\", r2_score(Yy_test, Yy_test_pred_best))\n",
    "\"\"\""
   ]
  },
  {
   "cell_type": "code",
   "execution_count": 170,
   "id": "644db461",
   "metadata": {},
   "outputs": [
    {
     "name": "stdout",
     "output_type": "stream",
     "text": [
      "Mean squared error:  74585142.48841938\n",
      "Mean absolute error:  5330.036462712941\n",
      "R2 score:  0.9429062584842594\n",
      "Mean squared error:  175349560.8451727\n",
      "Mean absolute error:  8015.235621424933\n",
      "R2 score:  0.8552572278752294\n"
     ]
    }
   ],
   "source": [
    "#forest_reg=RandomForestRegressor(max_depth=20, min_samples_split=10, n_estimators=300) #94 85\n",
    "#forest_reg=RandomForestRegressor(max_depth=15, min_samples_split=10, n_estimators=300) #84 92\n",
    "forest_reg=RandomForestRegressor(max_depth=15, min_samples_split=4, n_estimators=300) #94 85\n",
    "forest_reg.fit(Xx_train,Yy_train) \n",
    "Forest_pred_xtrain=forest_reg.predict(Xx_train)\n",
    "Forest_pred_xtest=forest_reg.predict(Xx_test)\n",
    "\n",
    "print(\"Mean squared error: \",metrics.mean_squared_error(Yy_train,Forest_pred_xtrain))\n",
    "print(\"Mean absolute error: \",metrics.mean_absolute_error(Yy_train,Forest_pred_xtrain))\n",
    "print(\"R2 score: \",metrics.r2_score(Yy_train,Forest_pred_xtrain))\n",
    "\n",
    "print(\"Mean squared error: \",metrics.mean_squared_error(Yy_test,Forest_pred_xtest))\n",
    "print(\"Mean absolute error: \",metrics.mean_absolute_error(Yy_test,Forest_pred_xtest))\n",
    "print(\"R2 score: \",metrics.r2_score(Yy_test,Forest_pred_xtest))"
   ]
  },
  {
   "cell_type": "code",
   "execution_count": 171,
   "id": "0cef3e2b",
   "metadata": {},
   "outputs": [
    {
     "data": {
      "text/html": [
       "<div>\n",
       "<style scoped>\n",
       "    .dataframe tbody tr th:only-of-type {\n",
       "        vertical-align: middle;\n",
       "    }\n",
       "\n",
       "    .dataframe tbody tr th {\n",
       "        vertical-align: top;\n",
       "    }\n",
       "\n",
       "    .dataframe thead th {\n",
       "        text-align: right;\n",
       "    }\n",
       "</style>\n",
       "<table border=\"1\" class=\"dataframe\">\n",
       "  <thead>\n",
       "    <tr style=\"text-align: right;\">\n",
       "      <th></th>\n",
       "      <th>Square Feet</th>\n",
       "      <th>BHK Apartment</th>\n",
       "      <th>Furnish Status</th>\n",
       "      <th>Deposit Status</th>\n",
       "      <th>Bathroom Count</th>\n",
       "      <th>Location</th>\n",
       "      <th>24 x 7 security</th>\n",
       "      <th>atm</th>\n",
       "      <th>cafeteria</th>\n",
       "      <th>car parking</th>\n",
       "      <th>...</th>\n",
       "      <th>lift(s)</th>\n",
       "      <th>maintenance staff</th>\n",
       "      <th>multipurpose room</th>\n",
       "      <th>rain water harvesting</th>\n",
       "      <th>school</th>\n",
       "      <th>shopping mall</th>\n",
       "      <th>sports facility</th>\n",
       "      <th>staff quarter</th>\n",
       "      <th>swimming pool</th>\n",
       "      <th>vaastu compliant</th>\n",
       "    </tr>\n",
       "  </thead>\n",
       "  <tbody>\n",
       "    <tr>\n",
       "      <th>3763</th>\n",
       "      <td>1200</td>\n",
       "      <td>5.0</td>\n",
       "      <td>1.0</td>\n",
       "      <td>0.0</td>\n",
       "      <td>1.0</td>\n",
       "      <td>35.0</td>\n",
       "      <td>1</td>\n",
       "      <td>0</td>\n",
       "      <td>0</td>\n",
       "      <td>0</td>\n",
       "      <td>...</td>\n",
       "      <td>1</td>\n",
       "      <td>0</td>\n",
       "      <td>0</td>\n",
       "      <td>0</td>\n",
       "      <td>0</td>\n",
       "      <td>0</td>\n",
       "      <td>1</td>\n",
       "      <td>0</td>\n",
       "      <td>1</td>\n",
       "      <td>0</td>\n",
       "    </tr>\n",
       "    <tr>\n",
       "      <th>8722</th>\n",
       "      <td>2055</td>\n",
       "      <td>20.0</td>\n",
       "      <td>0.0</td>\n",
       "      <td>250000.0</td>\n",
       "      <td>3.0</td>\n",
       "      <td>26.0</td>\n",
       "      <td>1</td>\n",
       "      <td>1</td>\n",
       "      <td>0</td>\n",
       "      <td>1</td>\n",
       "      <td>...</td>\n",
       "      <td>1</td>\n",
       "      <td>0</td>\n",
       "      <td>0</td>\n",
       "      <td>0</td>\n",
       "      <td>1</td>\n",
       "      <td>1</td>\n",
       "      <td>1</td>\n",
       "      <td>1</td>\n",
       "      <td>1</td>\n",
       "      <td>1</td>\n",
       "    </tr>\n",
       "    <tr>\n",
       "      <th>8559</th>\n",
       "      <td>1500</td>\n",
       "      <td>8.0</td>\n",
       "      <td>1.0</td>\n",
       "      <td>250000.0</td>\n",
       "      <td>2.0</td>\n",
       "      <td>26.0</td>\n",
       "      <td>1</td>\n",
       "      <td>0</td>\n",
       "      <td>0</td>\n",
       "      <td>1</td>\n",
       "      <td>...</td>\n",
       "      <td>1</td>\n",
       "      <td>0</td>\n",
       "      <td>0</td>\n",
       "      <td>0</td>\n",
       "      <td>0</td>\n",
       "      <td>0</td>\n",
       "      <td>1</td>\n",
       "      <td>0</td>\n",
       "      <td>1</td>\n",
       "      <td>0</td>\n",
       "    </tr>\n",
       "    <tr>\n",
       "      <th>5894</th>\n",
       "      <td>1037</td>\n",
       "      <td>5.0</td>\n",
       "      <td>2.0</td>\n",
       "      <td>200000.0</td>\n",
       "      <td>1.0</td>\n",
       "      <td>15.0</td>\n",
       "      <td>1</td>\n",
       "      <td>0</td>\n",
       "      <td>0</td>\n",
       "      <td>1</td>\n",
       "      <td>...</td>\n",
       "      <td>1</td>\n",
       "      <td>0</td>\n",
       "      <td>1</td>\n",
       "      <td>1</td>\n",
       "      <td>1</td>\n",
       "      <td>1</td>\n",
       "      <td>1</td>\n",
       "      <td>1</td>\n",
       "      <td>1</td>\n",
       "      <td>1</td>\n",
       "    </tr>\n",
       "    <tr>\n",
       "      <th>10279</th>\n",
       "      <td>655</td>\n",
       "      <td>0.0</td>\n",
       "      <td>0.0</td>\n",
       "      <td>60000.0</td>\n",
       "      <td>1.0</td>\n",
       "      <td>36.0</td>\n",
       "      <td>1</td>\n",
       "      <td>1</td>\n",
       "      <td>0</td>\n",
       "      <td>1</td>\n",
       "      <td>...</td>\n",
       "      <td>1</td>\n",
       "      <td>1</td>\n",
       "      <td>1</td>\n",
       "      <td>1</td>\n",
       "      <td>1</td>\n",
       "      <td>1</td>\n",
       "      <td>1</td>\n",
       "      <td>1</td>\n",
       "      <td>1</td>\n",
       "      <td>1</td>\n",
       "    </tr>\n",
       "    <tr>\n",
       "      <th>...</th>\n",
       "      <td>...</td>\n",
       "      <td>...</td>\n",
       "      <td>...</td>\n",
       "      <td>...</td>\n",
       "      <td>...</td>\n",
       "      <td>...</td>\n",
       "      <td>...</td>\n",
       "      <td>...</td>\n",
       "      <td>...</td>\n",
       "      <td>...</td>\n",
       "      <td>...</td>\n",
       "      <td>...</td>\n",
       "      <td>...</td>\n",
       "      <td>...</td>\n",
       "      <td>...</td>\n",
       "      <td>...</td>\n",
       "      <td>...</td>\n",
       "      <td>...</td>\n",
       "      <td>...</td>\n",
       "      <td>...</td>\n",
       "      <td>...</td>\n",
       "    </tr>\n",
       "    <tr>\n",
       "      <th>8499</th>\n",
       "      <td>980</td>\n",
       "      <td>5.0</td>\n",
       "      <td>1.0</td>\n",
       "      <td>100000.0</td>\n",
       "      <td>2.0</td>\n",
       "      <td>71.0</td>\n",
       "      <td>1</td>\n",
       "      <td>1</td>\n",
       "      <td>0</td>\n",
       "      <td>1</td>\n",
       "      <td>...</td>\n",
       "      <td>1</td>\n",
       "      <td>1</td>\n",
       "      <td>0</td>\n",
       "      <td>1</td>\n",
       "      <td>0</td>\n",
       "      <td>0</td>\n",
       "      <td>1</td>\n",
       "      <td>0</td>\n",
       "      <td>1</td>\n",
       "      <td>1</td>\n",
       "    </tr>\n",
       "    <tr>\n",
       "      <th>2064</th>\n",
       "      <td>800</td>\n",
       "      <td>5.0</td>\n",
       "      <td>1.0</td>\n",
       "      <td>0.0</td>\n",
       "      <td>1.0</td>\n",
       "      <td>42.0</td>\n",
       "      <td>1</td>\n",
       "      <td>0</td>\n",
       "      <td>0</td>\n",
       "      <td>1</td>\n",
       "      <td>...</td>\n",
       "      <td>1</td>\n",
       "      <td>0</td>\n",
       "      <td>0</td>\n",
       "      <td>1</td>\n",
       "      <td>0</td>\n",
       "      <td>0</td>\n",
       "      <td>1</td>\n",
       "      <td>0</td>\n",
       "      <td>1</td>\n",
       "      <td>0</td>\n",
       "    </tr>\n",
       "    <tr>\n",
       "      <th>7985</th>\n",
       "      <td>2055</td>\n",
       "      <td>13.0</td>\n",
       "      <td>0.0</td>\n",
       "      <td>250000.0</td>\n",
       "      <td>3.0</td>\n",
       "      <td>2.0</td>\n",
       "      <td>1</td>\n",
       "      <td>1</td>\n",
       "      <td>0</td>\n",
       "      <td>1</td>\n",
       "      <td>...</td>\n",
       "      <td>1</td>\n",
       "      <td>1</td>\n",
       "      <td>1</td>\n",
       "      <td>1</td>\n",
       "      <td>1</td>\n",
       "      <td>1</td>\n",
       "      <td>1</td>\n",
       "      <td>1</td>\n",
       "      <td>1</td>\n",
       "      <td>1</td>\n",
       "    </tr>\n",
       "    <tr>\n",
       "      <th>2303</th>\n",
       "      <td>1593</td>\n",
       "      <td>5.0</td>\n",
       "      <td>2.0</td>\n",
       "      <td>0.0</td>\n",
       "      <td>1.0</td>\n",
       "      <td>17.0</td>\n",
       "      <td>1</td>\n",
       "      <td>1</td>\n",
       "      <td>1</td>\n",
       "      <td>1</td>\n",
       "      <td>...</td>\n",
       "      <td>1</td>\n",
       "      <td>0</td>\n",
       "      <td>1</td>\n",
       "      <td>1</td>\n",
       "      <td>1</td>\n",
       "      <td>1</td>\n",
       "      <td>1</td>\n",
       "      <td>1</td>\n",
       "      <td>1</td>\n",
       "      <td>1</td>\n",
       "    </tr>\n",
       "    <tr>\n",
       "      <th>3392</th>\n",
       "      <td>650</td>\n",
       "      <td>0.0</td>\n",
       "      <td>1.0</td>\n",
       "      <td>0.0</td>\n",
       "      <td>1.0</td>\n",
       "      <td>24.0</td>\n",
       "      <td>1</td>\n",
       "      <td>0</td>\n",
       "      <td>0</td>\n",
       "      <td>0</td>\n",
       "      <td>...</td>\n",
       "      <td>1</td>\n",
       "      <td>1</td>\n",
       "      <td>1</td>\n",
       "      <td>1</td>\n",
       "      <td>0</td>\n",
       "      <td>0</td>\n",
       "      <td>1</td>\n",
       "      <td>0</td>\n",
       "      <td>1</td>\n",
       "      <td>0</td>\n",
       "    </tr>\n",
       "  </tbody>\n",
       "</table>\n",
       "<p>8297 rows × 30 columns</p>\n",
       "</div>"
      ],
      "text/plain": [
       "       Square Feet  BHK Apartment  Furnish Status  Deposit Status  \\\n",
       "3763          1200            5.0             1.0             0.0   \n",
       "8722          2055           20.0             0.0        250000.0   \n",
       "8559          1500            8.0             1.0        250000.0   \n",
       "5894          1037            5.0             2.0        200000.0   \n",
       "10279          655            0.0             0.0         60000.0   \n",
       "...            ...            ...             ...             ...   \n",
       "8499           980            5.0             1.0        100000.0   \n",
       "2064           800            5.0             1.0             0.0   \n",
       "7985          2055           13.0             0.0        250000.0   \n",
       "2303          1593            5.0             2.0             0.0   \n",
       "3392           650            0.0             1.0             0.0   \n",
       "\n",
       "       Bathroom Count  Location  24 x 7 security  atm  cafeteria  car parking  \\\n",
       "3763              1.0      35.0                1    0          0            0   \n",
       "8722              3.0      26.0                1    1          0            1   \n",
       "8559              2.0      26.0                1    0          0            1   \n",
       "5894              1.0      15.0                1    0          0            1   \n",
       "10279             1.0      36.0                1    1          0            1   \n",
       "...               ...       ...              ...  ...        ...          ...   \n",
       "8499              2.0      71.0                1    1          0            1   \n",
       "2064              1.0      42.0                1    0          0            1   \n",
       "7985              3.0       2.0                1    1          0            1   \n",
       "2303              1.0      17.0                1    1          1            1   \n",
       "3392              1.0      24.0                1    0          0            0   \n",
       "\n",
       "       ...  lift(s)  maintenance staff  multipurpose room  \\\n",
       "3763   ...        1                  0                  0   \n",
       "8722   ...        1                  0                  0   \n",
       "8559   ...        1                  0                  0   \n",
       "5894   ...        1                  0                  1   \n",
       "10279  ...        1                  1                  1   \n",
       "...    ...      ...                ...                ...   \n",
       "8499   ...        1                  1                  0   \n",
       "2064   ...        1                  0                  0   \n",
       "7985   ...        1                  1                  1   \n",
       "2303   ...        1                  0                  1   \n",
       "3392   ...        1                  1                  1   \n",
       "\n",
       "       rain water harvesting  school  shopping mall  sports facility  \\\n",
       "3763                       0       0              0                1   \n",
       "8722                       0       1              1                1   \n",
       "8559                       0       0              0                1   \n",
       "5894                       1       1              1                1   \n",
       "10279                      1       1              1                1   \n",
       "...                      ...     ...            ...              ...   \n",
       "8499                       1       0              0                1   \n",
       "2064                       1       0              0                1   \n",
       "7985                       1       1              1                1   \n",
       "2303                       1       1              1                1   \n",
       "3392                       1       0              0                1   \n",
       "\n",
       "       staff quarter  swimming pool  vaastu compliant  \n",
       "3763               0              1                 0  \n",
       "8722               1              1                 1  \n",
       "8559               0              1                 0  \n",
       "5894               1              1                 1  \n",
       "10279              1              1                 1  \n",
       "...              ...            ...               ...  \n",
       "8499               0              1                 1  \n",
       "2064               0              1                 0  \n",
       "7985               1              1                 1  \n",
       "2303               1              1                 1  \n",
       "3392               0              1                 0  \n",
       "\n",
       "[8297 rows x 30 columns]"
      ]
     },
     "execution_count": 171,
     "metadata": {},
     "output_type": "execute_result"
    }
   ],
   "source": [
    "Xx_train"
   ]
  },
  {
   "cell_type": "code",
   "execution_count": 172,
   "id": "23e79868",
   "metadata": {},
   "outputs": [
    {
     "data": {
      "text/plain": [
       "3763      35000.000\n",
       "8722     132491.375\n",
       "8559     120000.000\n",
       "5894      50000.000\n",
       "10279     22000.000\n",
       "            ...    \n",
       "8499      24000.000\n",
       "2064      56000.000\n",
       "7985     130000.000\n",
       "2303      25000.000\n",
       "3392      42000.000\n",
       "Name: Price, Length: 8297, dtype: float64"
      ]
     },
     "execution_count": 172,
     "metadata": {},
     "output_type": "execute_result"
    }
   ],
   "source": [
    "Yy_train"
   ]
  },
  {
   "cell_type": "code",
   "execution_count": 173,
   "id": "a87890a0",
   "metadata": {},
   "outputs": [
    {
     "data": {
      "text/plain": [
       "'from sklearn.linear_model import Lasso\\nfrom sklearn.model_selection import GridSearchCV\\n\\n# Define the parameter grid for Lasso regression\\nlasso_param_grid = {\\n    \\'alpha\\': [0.01, 0.1, 1.0, 10.0]  # Regularization strength\\n}\\n\\n# Initialize Lasso regression model\\nlasso_model = Lasso(random_state=42)\\n\\n# Initialize GridSearchCV with Lasso regression model and parameter grid\\nlasso_grid_search = GridSearchCV(lasso_model, lasso_param_grid, cv=15, scoring=\\'r2\\')\\n\\n# Fit GridSearchCV to the data\\nlasso_grid_search.fit(Xx_train, Yy_train)\\n\\n# Get best parameters and best score\\nlasso_best_params = lasso_grid_search.best_params_\\nlasso_best_score = lasso_grid_search.best_score_\\n\\n# Print best parameters and best score\\nprint(\"Best Parameters (Lasso Regression):\", lasso_best_params)\\nprint(\"Best R^2 Score (Lasso Regression):\", lasso_best_score)\\n'"
      ]
     },
     "execution_count": 173,
     "metadata": {},
     "output_type": "execute_result"
    }
   ],
   "source": [
    "\"\"\"from sklearn.linear_model import Lasso\n",
    "from sklearn.model_selection import GridSearchCV\n",
    "\n",
    "# Define the parameter grid for Lasso regression\n",
    "lasso_param_grid = {\n",
    "    'alpha': [0.01, 0.1, 1.0, 10.0]  # Regularization strength\n",
    "}\n",
    "\n",
    "# Initialize Lasso regression model\n",
    "lasso_model = Lasso(random_state=42)\n",
    "\n",
    "# Initialize GridSearchCV with Lasso regression model and parameter grid\n",
    "lasso_grid_search = GridSearchCV(lasso_model, lasso_param_grid, cv=15, scoring='r2')\n",
    "\n",
    "# Fit GridSearchCV to the data\n",
    "lasso_grid_search.fit(Xx_train, Yy_train)\n",
    "\n",
    "# Get best parameters and best score\n",
    "lasso_best_params = lasso_grid_search.best_params_\n",
    "lasso_best_score = lasso_grid_search.best_score_\n",
    "\n",
    "# Print best parameters and best score\n",
    "print(\"Best Parameters (Lasso Regression):\", lasso_best_params)\n",
    "print(\"Best R^2 Score (Lasso Regression):\", lasso_best_score)\n",
    "\"\"\""
   ]
  },
  {
   "cell_type": "code",
   "execution_count": 174,
   "id": "b08fa5c4",
   "metadata": {},
   "outputs": [
    {
     "data": {
      "text/plain": [
       "'from sklearn.linear_model import Ridge\\n\\n# Define the parameter grid for Ridge regression\\nridge_param_grid = {\\n    \\'alpha\\': [0.01, 0.1, 1.0, 10.0]  # Regularization strength\\n}\\n\\n# Initialize Ridge regression model\\nridge_model = Ridge(random_state=42)\\n\\n# Initialize GridSearchCV with Ridge regression model and parameter grid\\nridge_grid_search = GridSearchCV(ridge_model, ridge_param_grid, cv=15, scoring=\\'r2\\')\\n\\n# Fit GridSearchCV to the data\\nridge_grid_search.fit(Xx_train, Yy_train)\\n\\n# Get best parameters and best score\\nridge_best_params = ridge_grid_search.best_params_\\nridge_best_score = ridge_grid_search.best_score_\\n\\n# Print best parameters and best score\\nprint(\"Best Parameters (Ridge Regression):\", ridge_best_params)\\nprint(\"Best R^2 Score (Ridge Regression):\", ridge_best_score)'"
      ]
     },
     "execution_count": 174,
     "metadata": {},
     "output_type": "execute_result"
    }
   ],
   "source": [
    "\"\"\"from sklearn.linear_model import Ridge\n",
    "\n",
    "# Define the parameter grid for Ridge regression\n",
    "ridge_param_grid = {\n",
    "    'alpha': [0.01, 0.1, 1.0, 10.0]  # Regularization strength\n",
    "}\n",
    "\n",
    "# Initialize Ridge regression model\n",
    "ridge_model = Ridge(random_state=42)\n",
    "\n",
    "# Initialize GridSearchCV with Ridge regression model and parameter grid\n",
    "ridge_grid_search = GridSearchCV(ridge_model, ridge_param_grid, cv=15, scoring='r2')\n",
    "\n",
    "# Fit GridSearchCV to the data\n",
    "ridge_grid_search.fit(Xx_train, Yy_train)\n",
    "\n",
    "# Get best parameters and best score\n",
    "ridge_best_params = ridge_grid_search.best_params_\n",
    "ridge_best_score = ridge_grid_search.best_score_\n",
    "\n",
    "# Print best parameters and best score\n",
    "print(\"Best Parameters (Ridge Regression):\", ridge_best_params)\n",
    "print(\"Best R^2 Score (Ridge Regression):\", ridge_best_score)\"\"\"\n"
   ]
  },
  {
   "cell_type": "markdown",
   "id": "548c0f1b",
   "metadata": {},
   "source": [
    "# GRADIENT DESCENT"
   ]
  },
  {
   "cell_type": "code",
   "execution_count": 175,
   "id": "3b019530",
   "metadata": {},
   "outputs": [],
   "source": [
    "from xgboost import XGBRegressor\n",
    "from sklearn.ensemble import GradientBoostingRegressor\n",
    "from sklearn.metrics import mean_squared_error, r2_score"
   ]
  },
  {
   "cell_type": "code",
   "execution_count": 176,
   "id": "16423761",
   "metadata": {},
   "outputs": [
    {
     "name": "stdout",
     "output_type": "stream",
     "text": [
      "Requirement already satisfied: xgboost in c:\\users\\nikita\\anaconda3\\lib\\site-packages (2.0.3)\n",
      "Requirement already satisfied: numpy in c:\\users\\nikita\\anaconda3\\lib\\site-packages (from xgboost) (1.24.3)\n",
      "Requirement already satisfied: scipy in c:\\users\\nikita\\anaconda3\\lib\\site-packages (from xgboost) (1.11.1)\n"
     ]
    }
   ],
   "source": [
    "!pip install xgboost\n"
   ]
  },
  {
   "cell_type": "code",
   "execution_count": 177,
   "id": "26f6a764",
   "metadata": {},
   "outputs": [
    {
     "name": "stdout",
     "output_type": "stream",
     "text": [
      "\n",
      "GBM Performance:\n",
      "Training RMSE: 13488.011901688928\n",
      "Testing RMSE: 13854.717551555457\n",
      "Training R^2 Score: 0.8607381815671045\n",
      "Testing R^2 Score: 0.8415517100496445\n"
     ]
    }
   ],
   "source": [
    "'''# XGBoost\n",
    "xgb_model = XGBRegressor(n_estimators=1000, learning_rate=0.0001, max_depth=10, random_state=42)\n",
    "xgb_model.fit(Xx_train, Yy_train)\n",
    "\n",
    "# Predictions\n",
    "y_train_pred_xgb = xgb_model.predict(Xx_train)\n",
    "y_test_pred_xgb = xgb_model.predict(Xx_test)\n",
    "\n",
    "# Evaluate XGBoost model\n",
    "print(\"XGBoost Performance:\")\n",
    "print(\"Training RMSE:\", np.sqrt(mean_squared_error(Yy_train, y_train_pred_xgb)))\n",
    "print(\"Testing RMSE:\", np.sqrt(mean_squared_error(Yy_test, y_test_pred_xgb)))\n",
    "print(\"Training R^2 Score:\", r2_score(Yy_train, y_train_pred_xgb))\n",
    "print(\"Testing R^2 Score:\", r2_score(Yy_test, y_test_pred_xgb))\n",
    "'''\n",
    "# Gradient Boosting Machines (GBM)\n",
    "gbm_model = GradientBoostingRegressor(n_estimators=1000, learning_rate=0.01, max_depth=4, random_state=10)\n",
    "gbm_model.fit(Xx_train, Yy_train)\n",
    "\n",
    "# Predictions\n",
    "y_train_pred_gbm = gbm_model.predict(Xx_train)\n",
    "y_test_pred_gbm = gbm_model.predict(Xx_test)\n",
    "\n",
    "# Evaluate GBM model\n",
    "print(\"\\nGBM Performance:\")\n",
    "print(\"Training RMSE:\", np.sqrt(mean_squared_error(Yy_train, y_train_pred_gbm)))\n",
    "print(\"Testing RMSE:\", np.sqrt(mean_squared_error(Yy_test, y_test_pred_gbm)))\n",
    "print(\"Training R^2 Score:\", r2_score(Yy_train, y_train_pred_gbm))\n",
    "print(\"Testing R^2 Score:\", r2_score(Yy_test, y_test_pred_gbm))"
   ]
  },
  {
   "cell_type": "code",
   "execution_count": 178,
   "id": "47c6c09d",
   "metadata": {},
   "outputs": [
    {
     "name": "stdout",
     "output_type": "stream",
     "text": [
      "XGBoost Performance:\n",
      "Training RMSE: 12096.35525736849\n",
      "Testing RMSE: 13272.029406481734\n",
      "Training R^2 Score: 0.8879929789125086\n",
      "Testing R^2 Score: 0.85459917389426\n"
     ]
    }
   ],
   "source": [
    "#xgb_model = XGBRegressor(n_estimators=1000, learning_rate=0.01, max_depth=6, random_state=42) #91 87\n",
    "xgb_model = XGBRegressor(n_estimators=1000, learning_rate=0.01, max_depth=5, random_state=42)\n",
    "xgb_model.fit(Xx_train, Yy_train)\n",
    "\n",
    "# Predictions\n",
    "y_train_pred_xgb = xgb_model.predict(Xx_train)\n",
    "y_test_pred_xgb = xgb_model.predict(Xx_test)\n",
    "\n",
    "# Evaluate XGBoost model\n",
    "print(\"XGBoost Performance:\")\n",
    "print(\"Training RMSE:\", np.sqrt(mean_squared_error(Yy_train, y_train_pred_xgb)))\n",
    "print(\"Testing RMSE:\", np.sqrt(mean_squared_error(Yy_test, y_test_pred_xgb)))\n",
    "print(\"Training R^2 Score:\", r2_score(Yy_train, y_train_pred_xgb))\n",
    "print(\"Testing R^2 Score:\", r2_score(Yy_test, y_test_pred_xgb))\n"
   ]
  },
  {
   "cell_type": "code",
   "execution_count": 185,
   "id": "d3df1f7b",
   "metadata": {},
   "outputs": [],
   "source": [
    "import pickle"
   ]
  },
  {
   "cell_type": "code",
   "execution_count": 187,
   "id": "3edaf2d3",
   "metadata": {},
   "outputs": [],
   "source": [
    "with open('xgb_model.pkl', 'wb') as file:\n",
    "    pickle.dump(xgb_model, file)"
   ]
  },
  {
   "cell_type": "code",
   "execution_count": 186,
   "id": "319f1bcf",
   "metadata": {},
   "outputs": [],
   "source": [
    "with open('vectorizer_data.pkl', 'wb') as vectorizer_file:\n",
    "    vectorizer_data = {\n",
    "        'vocabulary_': vectorizer.vocabulary_,\n",
    "        'tokenizer': vectorizer.tokenizer,\n",
    "        'stop_words_': vectorizer.stop_words_\n",
    "    }\n",
    "    pickle.dump(vectorizer_data, vectorizer_file)\n",
    "\n",
    "with open('encoder.pkl', 'wb') as encoder_file:\n",
    "    pickle.dump(encoder, encoder_file)"
   ]
  },
  {
   "cell_type": "code",
   "execution_count": 189,
   "id": "f3a411e5",
   "metadata": {},
   "outputs": [],
   "source": [
    "with open('xgb_model.pkl', 'rb') as file:\n",
    "    loaded_xgb_model = pickle.load(file)"
   ]
  },
  {
   "cell_type": "code",
   "execution_count": 190,
   "id": "2ca7da6b",
   "metadata": {},
   "outputs": [
    {
     "name": "stdout",
     "output_type": "stream",
     "text": [
      "\n",
      "Pickle Model Performance:\n",
      "Training RMSE: 12096.35525736849\n",
      "Testing RMSE: 13272.029406481734\n",
      "Training R^2 Score: 0.8879929789125086\n",
      "Testing R^2 Score: 0.85459917389426\n"
     ]
    }
   ],
   "source": [
    "y_train_pred_pickle = loaded_xgb_model.predict(Xx_train)\n",
    "y_test_pred_pickle = loaded_xgb_model.predict(Xx_test)\n",
    "\n",
    "pickle_train_rmse = np.sqrt(mean_squared_error(Yy_train, y_train_pred_pickle))\n",
    "pickle_test_rmse = np.sqrt(mean_squared_error(Yy_test, y_test_pred_pickle))\n",
    "pickle_train_r2 = r2_score(Yy_train, y_train_pred_pickle)\n",
    "pickle_test_r2 = r2_score(Yy_test, y_test_pred_pickle)\n",
    "\n",
    "print(f\"\\nPickle Model Performance:\")\n",
    "print(f\"Training RMSE: {pickle_train_rmse}\")\n",
    "print(f\"Testing RMSE: {pickle_test_rmse}\")\n",
    "print(f\"Training R^2 Score: {pickle_train_r2}\")\n",
    "print(f\"Testing R^2 Score: {pickle_test_r2}\")\n"
   ]
  },
  {
   "cell_type": "code",
   "execution_count": null,
   "id": "37ad3a5a",
   "metadata": {},
   "outputs": [],
   "source": []
  }
 ],
 "metadata": {
  "kernelspec": {
   "display_name": "Python 3 (ipykernel)",
   "language": "python",
   "name": "python3"
  },
  "language_info": {
   "codemirror_mode": {
    "name": "ipython",
    "version": 3
   },
   "file_extension": ".py",
   "mimetype": "text/x-python",
   "name": "python",
   "nbconvert_exporter": "python",
   "pygments_lexer": "ipython3",
   "version": "3.11.5"
  }
 },
 "nbformat": 4,
 "nbformat_minor": 5
}
